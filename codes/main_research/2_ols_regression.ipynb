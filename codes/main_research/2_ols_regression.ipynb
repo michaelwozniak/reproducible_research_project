{
 "cells": [
  {
   "cell_type": "code",
   "execution_count": 2,
   "metadata": {
    "ExecuteTime": {
     "end_time": "2021-05-10T15:06:33.770173Z",
     "start_time": "2021-05-10T15:06:31.176Z"
    }
   },
   "outputs": [
    {
     "name": "stderr",
     "output_type": "stream",
     "text": [
      "Warning message:\n",
      "\"package 'dplyr' was built under R version 3.6.3\"\n",
      "Attaching package: 'dplyr'\n",
      "\n",
      "The following objects are masked from 'package:stats':\n",
      "\n",
      "    filter, lag\n",
      "\n",
      "The following objects are masked from 'package:base':\n",
      "\n",
      "    intersect, setdiff, setequal, union\n",
      "\n",
      "dummies-1.5.6 provided by Decision Patterns\n",
      "\n",
      "Warning message:\n",
      "\"package 'fastDummies' was built under R version 3.6.3\"Warning message:\n",
      "\"package 'olsrr' was built under R version 3.6.3\"\n",
      "Attaching package: 'olsrr'\n",
      "\n",
      "The following object is masked from 'package:datasets':\n",
      "\n",
      "    rivers\n",
      "\n",
      "Warning message:\n",
      "\"package 'rJava' was built under R version 3.6.3\"Warning message:\n",
      "\"package 'glmulti' was built under R version 3.6.3\"Loading required package: leaps\n",
      "\n",
      "Please cite as: \n",
      "\n",
      " Hlavac, Marek (2018). stargazer: Well-Formatted Regression and Summary Statistics Tables.\n",
      " R package version 5.2.2. https://CRAN.R-project.org/package=stargazer \n",
      "\n",
      "Loading required package: carData\n",
      "\n",
      "Attaching package: 'car'\n",
      "\n",
      "The following object is masked from 'package:dplyr':\n",
      "\n",
      "    recode\n",
      "\n",
      "Warning message:\n",
      "\"package 'lmtest' was built under R version 3.6.3\"Loading required package: zoo\n",
      "Warning message:\n",
      "\"package 'zoo' was built under R version 3.6.3\"\n",
      "Attaching package: 'zoo'\n",
      "\n",
      "The following objects are masked from 'package:base':\n",
      "\n",
      "    as.Date, as.Date.numeric\n",
      "\n",
      "Warning message:\n",
      "\"package 'tseries' was built under R version 3.6.3\"Registered S3 method overwritten by 'quantmod':\n",
      "  method            from\n",
      "  as.zoo.data.frame zoo \n",
      "Warning message:\n",
      "\"package 'sandwich' was built under R version 3.6.2\"Warning message:\n",
      "\"package 'MASS' was built under R version 3.6.3\"\n",
      "Attaching package: 'MASS'\n",
      "\n",
      "The following object is masked from 'package:olsrr':\n",
      "\n",
      "    cement\n",
      "\n",
      "The following object is masked from 'package:dplyr':\n",
      "\n",
      "    select\n",
      "\n",
      "Warning message:\n",
      "\"package 'plm' was built under R version 3.6.2\"\n",
      "Attaching package: 'plm'\n",
      "\n",
      "The following objects are masked from 'package:dplyr':\n",
      "\n",
      "    between, lag, lead\n",
      "\n",
      "Parsed with column specification:\n",
      "cols(\n",
      "  .default = col_double(),\n",
      "  country_name = \u001b[31mcol_character()\u001b[39m,\n",
      "  country_text_id = \u001b[31mcol_character()\u001b[39m,\n",
      "  continent = \u001b[31mcol_character()\u001b[39m,\n",
      "  sub_region = \u001b[31mcol_character()\u001b[39m,\n",
      "  income_group = \u001b[31mcol_character()\u001b[39m\n",
      ")\n",
      "See spec(...) for full column specifications.\n"
     ]
    }
   ],
   "source": [
    "rm(list=ls())\n",
    "# dependencies\n",
    "Sys.setenv(LANG = \"en\")\n",
    "Sys.setenv(JAVA_HOME = \"C:\\\\Program Files\\\\Java\\\\jre1.8.0_261\")\n",
    "library(readr)\n",
    "library(ggplot2)\n",
    "library(ggcorrplot)\n",
    "library(dplyr)\n",
    "library(dummies)\n",
    "library(fastDummies)\n",
    "library(olsrr)\n",
    "library(rJava)\n",
    "library(glmulti)\n",
    "library(stargazer)\n",
    "library(car)\n",
    "library(\"lmtest\")\n",
    "library(\"tseries\")\n",
    "library(\"sandwich\")\n",
    "\n",
    "\n",
    "\n",
    "library(\"MASS\")\n",
    "library(\"sandwich\")\n",
    "library(\"zoo\")\n",
    "library(\"car\")\n",
    "library(\"lmtest\")\n",
    "library(\"Formula\")\n",
    "library(\"plm\")\n",
    "library(\"stargazer\")\n",
    "\n",
    "\n",
    "df <- read_csv(\"../../data/main_research/processed_data/final_dataset.csv\")"
   ]
  },
  {
   "cell_type": "code",
   "execution_count": 18,
   "metadata": {
    "ExecuteTime": {
     "end_time": "2021-05-10T15:16:13.831349Z",
     "start_time": "2021-05-10T15:16:13.742Z"
    }
   },
   "outputs": [
    {
     "data": {
      "text/html": [
       "<table>\n",
       "<caption>A tibble: 6 × 19</caption>\n",
       "<thead>\n",
       "\t<tr><th scope=col>country_name</th><th scope=col>region_geo</th><th scope=col>income_group</th><th scope=col>pandem</th><th scope=col>pandem_dis</th><th scope=col>panback</th><th scope=col>rule</th><th scope=col>polyarchy</th><th scope=col>education</th><th scope=col>gini</th><th scope=col>density</th><th scope=col>gdp_pc</th><th scope=col>inflation</th><th scope=col>oil</th><th scope=col>mineral</th><th scope=col>trade_gdp</th><th scope=col>ethnic_frac</th><th scope=col>ling_frac</th><th scope=col>relig_frac</th></tr>\n",
       "\t<tr><th scope=col>&lt;chr&gt;</th><th scope=col>&lt;dbl&gt;</th><th scope=col>&lt;chr&gt;</th><th scope=col>&lt;dbl&gt;</th><th scope=col>&lt;dbl&gt;</th><th scope=col>&lt;dbl&gt;</th><th scope=col>&lt;dbl&gt;</th><th scope=col>&lt;dbl&gt;</th><th scope=col>&lt;dbl&gt;</th><th scope=col>&lt;dbl&gt;</th><th scope=col>&lt;dbl&gt;</th><th scope=col>&lt;dbl&gt;</th><th scope=col>&lt;dbl&gt;</th><th scope=col>&lt;dbl&gt;</th><th scope=col>&lt;dbl&gt;</th><th scope=col>&lt;dbl&gt;</th><th scope=col>&lt;dbl&gt;</th><th scope=col>&lt;dbl&gt;</th><th scope=col>&lt;dbl&gt;</th></tr>\n",
       "</thead>\n",
       "<tbody>\n",
       "\t<tr><td>Afghanistan</td><td>14</td><td>Low income         </td><td>0.05882353</td><td>0.05</td><td>0.00000000</td><td>0.341</td><td>0.347</td><td> 3.813</td><td>27.8</td><td> 56.93776</td><td>  502.1155</td><td> 2.302373</td><td> 0.001254688</td><td>0.007420852</td><td>45.62118</td><td>0.7693</td><td>0.6141</td><td>0.2717</td></tr>\n",
       "\t<tr><td>Albania    </td><td> 3</td><td>Upper middle income</td><td>0.17647059</td><td>0.15</td><td>0.17310988</td><td>0.596</td><td>0.481</td><td>    NA</td><td>33.2</td><td>104.61226</td><td> 5352.8574</td><td> 1.411091</td><td> 1.365752443</td><td>0.146426288</td><td>76.72830</td><td>0.2204</td><td>0.0400</td><td>0.4719</td></tr>\n",
       "\t<tr><td>Algeria    </td><td> 5</td><td>Lower middle income</td><td>0.29411765</td><td>0.35</td><td>0.12334000</td><td>0.217</td><td>0.300</td><td> 7.300</td><td>27.6</td><td> 17.73008</td><td> 3948.3433</td><td> 1.951768</td><td>12.313696685</td><td>0.046716900</td><td>52.04477</td><td>0.3394</td><td>0.4427</td><td>0.0100</td></tr>\n",
       "\t<tr><td>Angola     </td><td> 7</td><td>Lower middle income</td><td>0.11764706</td><td>0.10</td><td>0.04167059</td><td>0.406</td><td>0.386</td><td> 2.980</td><td>51.3</td><td> 24.71305</td><td> 2973.5912</td><td>17.145320</td><td>15.753913421</td><td>0.000000000</td><td>66.37801</td><td>0.7867</td><td>0.7870</td><td>0.6276</td></tr>\n",
       "\t<tr><td>Argentina  </td><td>18</td><td>Upper middle income</td><td>0.05882353</td><td>0.05</td><td>0.05478565</td><td>0.757</td><td>0.812</td><td> 8.770</td><td>41.4</td><td> 16.25851</td><td>10006.1490</td><td>53.548304</td><td> 0.735824027</td><td>0.308309752</td><td>32.39367</td><td>0.2550</td><td>0.0620</td><td>0.2236</td></tr>\n",
       "\t<tr><td>Armenia    </td><td>10</td><td>Upper middle income</td><td>0.17647059</td><td>0.15</td><td>0.16243694</td><td>0.800</td><td>0.805</td><td>10.818</td><td>34.4</td><td>103.68022</td><td> 4622.7335</td><td> 1.443447</td><td> 0.000000000</td><td>5.590611662</td><td>91.43229</td><td>0.1272</td><td>0.1291</td><td>0.4576</td></tr>\n",
       "</tbody>\n",
       "</table>\n"
      ],
      "text/latex": [
       "A tibble: 6 × 19\n",
       "\\begin{tabular}{r|lllllllllllllllllll}\n",
       " country\\_name & region\\_geo & income\\_group & pandem & pandem\\_dis & panback & rule & polyarchy & education & gini & density & gdp\\_pc & inflation & oil & mineral & trade\\_gdp & ethnic\\_frac & ling\\_frac & relig\\_frac\\\\\n",
       " <chr> & <dbl> & <chr> & <dbl> & <dbl> & <dbl> & <dbl> & <dbl> & <dbl> & <dbl> & <dbl> & <dbl> & <dbl> & <dbl> & <dbl> & <dbl> & <dbl> & <dbl> & <dbl>\\\\\n",
       "\\hline\n",
       "\t Afghanistan & 14 & Low income          & 0.05882353 & 0.05 & 0.00000000 & 0.341 & 0.347 &  3.813 & 27.8 &  56.93776 &   502.1155 &  2.302373 &  0.001254688 & 0.007420852 & 45.62118 & 0.7693 & 0.6141 & 0.2717\\\\\n",
       "\t Albania     &  3 & Upper middle income & 0.17647059 & 0.15 & 0.17310988 & 0.596 & 0.481 &     NA & 33.2 & 104.61226 &  5352.8574 &  1.411091 &  1.365752443 & 0.146426288 & 76.72830 & 0.2204 & 0.0400 & 0.4719\\\\\n",
       "\t Algeria     &  5 & Lower middle income & 0.29411765 & 0.35 & 0.12334000 & 0.217 & 0.300 &  7.300 & 27.6 &  17.73008 &  3948.3433 &  1.951768 & 12.313696685 & 0.046716900 & 52.04477 & 0.3394 & 0.4427 & 0.0100\\\\\n",
       "\t Angola      &  7 & Lower middle income & 0.11764706 & 0.10 & 0.04167059 & 0.406 & 0.386 &  2.980 & 51.3 &  24.71305 &  2973.5912 & 17.145320 & 15.753913421 & 0.000000000 & 66.37801 & 0.7867 & 0.7870 & 0.6276\\\\\n",
       "\t Argentina   & 18 & Upper middle income & 0.05882353 & 0.05 & 0.05478565 & 0.757 & 0.812 &  8.770 & 41.4 &  16.25851 & 10006.1490 & 53.548304 &  0.735824027 & 0.308309752 & 32.39367 & 0.2550 & 0.0620 & 0.2236\\\\\n",
       "\t Armenia     & 10 & Upper middle income & 0.17647059 & 0.15 & 0.16243694 & 0.800 & 0.805 & 10.818 & 34.4 & 103.68022 &  4622.7335 &  1.443447 &  0.000000000 & 5.590611662 & 91.43229 & 0.1272 & 0.1291 & 0.4576\\\\\n",
       "\\end{tabular}\n"
      ],
      "text/markdown": [
       "\n",
       "A tibble: 6 × 19\n",
       "\n",
       "| country_name &lt;chr&gt; | region_geo &lt;dbl&gt; | income_group &lt;chr&gt; | pandem &lt;dbl&gt; | pandem_dis &lt;dbl&gt; | panback &lt;dbl&gt; | rule &lt;dbl&gt; | polyarchy &lt;dbl&gt; | education &lt;dbl&gt; | gini &lt;dbl&gt; | density &lt;dbl&gt; | gdp_pc &lt;dbl&gt; | inflation &lt;dbl&gt; | oil &lt;dbl&gt; | mineral &lt;dbl&gt; | trade_gdp &lt;dbl&gt; | ethnic_frac &lt;dbl&gt; | ling_frac &lt;dbl&gt; | relig_frac &lt;dbl&gt; |\n",
       "|---|---|---|---|---|---|---|---|---|---|---|---|---|---|---|---|---|---|---|\n",
       "| Afghanistan | 14 | Low income          | 0.05882353 | 0.05 | 0.00000000 | 0.341 | 0.347 |  3.813 | 27.8 |  56.93776 |   502.1155 |  2.302373 |  0.001254688 | 0.007420852 | 45.62118 | 0.7693 | 0.6141 | 0.2717 |\n",
       "| Albania     |  3 | Upper middle income | 0.17647059 | 0.15 | 0.17310988 | 0.596 | 0.481 |     NA | 33.2 | 104.61226 |  5352.8574 |  1.411091 |  1.365752443 | 0.146426288 | 76.72830 | 0.2204 | 0.0400 | 0.4719 |\n",
       "| Algeria     |  5 | Lower middle income | 0.29411765 | 0.35 | 0.12334000 | 0.217 | 0.300 |  7.300 | 27.6 |  17.73008 |  3948.3433 |  1.951768 | 12.313696685 | 0.046716900 | 52.04477 | 0.3394 | 0.4427 | 0.0100 |\n",
       "| Angola      |  7 | Lower middle income | 0.11764706 | 0.10 | 0.04167059 | 0.406 | 0.386 |  2.980 | 51.3 |  24.71305 |  2973.5912 | 17.145320 | 15.753913421 | 0.000000000 | 66.37801 | 0.7867 | 0.7870 | 0.6276 |\n",
       "| Argentina   | 18 | Upper middle income | 0.05882353 | 0.05 | 0.05478565 | 0.757 | 0.812 |  8.770 | 41.4 |  16.25851 | 10006.1490 | 53.548304 |  0.735824027 | 0.308309752 | 32.39367 | 0.2550 | 0.0620 | 0.2236 |\n",
       "| Armenia     | 10 | Upper middle income | 0.17647059 | 0.15 | 0.16243694 | 0.800 | 0.805 | 10.818 | 34.4 | 103.68022 |  4622.7335 |  1.443447 |  0.000000000 | 5.590611662 | 91.43229 | 0.1272 | 0.1291 | 0.4576 |\n",
       "\n"
      ],
      "text/plain": [
       "  country_name region_geo income_group        pandem     pandem_dis panback   \n",
       "1 Afghanistan  14         Low income          0.05882353 0.05       0.00000000\n",
       "2 Albania       3         Upper middle income 0.17647059 0.15       0.17310988\n",
       "3 Algeria       5         Lower middle income 0.29411765 0.35       0.12334000\n",
       "4 Angola        7         Lower middle income 0.11764706 0.10       0.04167059\n",
       "5 Argentina    18         Upper middle income 0.05882353 0.05       0.05478565\n",
       "6 Armenia      10         Upper middle income 0.17647059 0.15       0.16243694\n",
       "  rule  polyarchy education gini density   gdp_pc     inflation oil         \n",
       "1 0.341 0.347      3.813    27.8  56.93776   502.1155  2.302373  0.001254688\n",
       "2 0.596 0.481         NA    33.2 104.61226  5352.8574  1.411091  1.365752443\n",
       "3 0.217 0.300      7.300    27.6  17.73008  3948.3433  1.951768 12.313696685\n",
       "4 0.406 0.386      2.980    51.3  24.71305  2973.5912 17.145320 15.753913421\n",
       "5 0.757 0.812      8.770    41.4  16.25851 10006.1490 53.548304  0.735824027\n",
       "6 0.800 0.805     10.818    34.4 103.68022  4622.7335  1.443447  0.000000000\n",
       "  mineral     trade_gdp ethnic_frac ling_frac relig_frac\n",
       "1 0.007420852 45.62118  0.7693      0.6141    0.2717    \n",
       "2 0.146426288 76.72830  0.2204      0.0400    0.4719    \n",
       "3 0.046716900 52.04477  0.3394      0.4427    0.0100    \n",
       "4 0.000000000 66.37801  0.7867      0.7870    0.6276    \n",
       "5 0.308309752 32.39367  0.2550      0.0620    0.2236    \n",
       "6 5.590611662 91.43229  0.1272      0.1291    0.4576    "
      ]
     },
     "metadata": {},
     "output_type": "display_data"
    }
   ],
   "source": [
    "head(df)"
   ]
  },
  {
   "cell_type": "code",
   "execution_count": 3,
   "metadata": {
    "ExecuteTime": {
     "end_time": "2021-05-10T15:08:08.627472Z",
     "start_time": "2021-05-10T15:08:08.418Z"
    }
   },
   "outputs": [],
   "source": [
    "# Dataset preparation\n",
    "## Removing redundant variables\n",
    "# df$country_name <- NULL\n",
    "df$country_text_id <- NULL\n",
    "df$continent <- NULL\n",
    "df$sub_region <- NULL\n",
    "df$region_pol <- NULL"
   ]
  },
  {
   "cell_type": "code",
   "execution_count": 4,
   "metadata": {
    "ExecuteTime": {
     "end_time": "2021-05-10T15:08:11.421130Z",
     "start_time": "2021-05-10T15:08:11.318Z"
    }
   },
   "outputs": [],
   "source": [
    "## Dummies\n",
    "data <- fastDummies::dummy_cols(df,select_columns = c(\"income_group\",\"region_geo\"),remove_most_frequent_dummy = TRUE, remove_selected_columns = TRUE)"
   ]
  },
  {
   "cell_type": "code",
   "execution_count": 9,
   "metadata": {
    "ExecuteTime": {
     "end_time": "2021-05-10T15:13:52.847955Z",
     "start_time": "2021-05-10T15:13:52.503Z"
    }
   },
   "outputs": [
    {
     "data": {
      "image/png": "[encoded data removed]",
      "text/plain": [
       "Plot with title \"density.default(x = log(data$gini))\""
      ]
     },
     "metadata": {},
     "output_type": "display_data"
    },
    {
     "data": {
      "image/png": "[encoded data removed]",
      "text/plain": [
       "Plot with title \"density.default(x = log(data$density))\""
      ]
     },
     "metadata": {},
     "output_type": "display_data"
    },
    {
     "data": {
      "image/png": "[encoded data removed]",
      "text/plain": [
       "Plot with title \"density.default(x = log(data$gdp_pc))\""
      ]
     },
     "metadata": {},
     "output_type": "display_data"
    },
    {
     "data": {
      "text/html": [
       "<ol class=list-inline>\n",
       "\t<li>'country_name'</li>\n",
       "\t<li>'pandem'</li>\n",
       "\t<li>'pandem_dis'</li>\n",
       "\t<li>'panback'</li>\n",
       "\t<li>'rule'</li>\n",
       "\t<li>'polyarchy'</li>\n",
       "\t<li>'education'</li>\n",
       "\t<li>'gini'</li>\n",
       "\t<li>'density'</li>\n",
       "\t<li>'gdp_pc'</li>\n",
       "\t<li>'inflation'</li>\n",
       "\t<li>'oil'</li>\n",
       "\t<li>'mineral'</li>\n",
       "\t<li>'trade_gdp'</li>\n",
       "\t<li>'ethnic_frac'</li>\n",
       "\t<li>'ling_frac'</li>\n",
       "\t<li>'relig_frac'</li>\n",
       "\t<li>'income_group_Low income'</li>\n",
       "\t<li>'income_group_Lower middle income'</li>\n",
       "\t<li>'income_group_Upper middle income'</li>\n",
       "\t<li>'region_geo_1'</li>\n",
       "\t<li>'region_geo_11'</li>\n",
       "\t<li>'region_geo_12'</li>\n",
       "\t<li>'region_geo_13'</li>\n",
       "\t<li>'region_geo_14'</li>\n",
       "\t<li>'region_geo_15'</li>\n",
       "\t<li>'region_geo_16'</li>\n",
       "\t<li>'region_geo_17'</li>\n",
       "\t<li>'region_geo_18'</li>\n",
       "\t<li>'region_geo_19'</li>\n",
       "\t<li>'region_geo_2'</li>\n",
       "\t<li>'region_geo_3'</li>\n",
       "\t<li>'region_geo_4'</li>\n",
       "\t<li>'region_geo_5'</li>\n",
       "\t<li>'region_geo_6'</li>\n",
       "\t<li>'region_geo_7'</li>\n",
       "\t<li>'region_geo_8'</li>\n",
       "\t<li>'region_geo_9'</li>\n",
       "\t<li>'gini_log'</li>\n",
       "\t<li>'density_log'</li>\n",
       "\t<li>'gdp_pc_log'</li>\n",
       "\t<li>'trade_gdp_log'</li>\n",
       "</ol>\n"
      ],
      "text/latex": [
       "\\begin{enumerate*}\n",
       "\\item 'country\\_name'\n",
       "\\item 'pandem'\n",
       "\\item 'pandem\\_dis'\n",
       "\\item 'panback'\n",
       "\\item 'rule'\n",
       "\\item 'polyarchy'\n",
       "\\item 'education'\n",
       "\\item 'gini'\n",
       "\\item 'density'\n",
       "\\item 'gdp\\_pc'\n",
       "\\item 'inflation'\n",
       "\\item 'oil'\n",
       "\\item 'mineral'\n",
       "\\item 'trade\\_gdp'\n",
       "\\item 'ethnic\\_frac'\n",
       "\\item 'ling\\_frac'\n",
       "\\item 'relig\\_frac'\n",
       "\\item 'income\\_group\\_Low income'\n",
       "\\item 'income\\_group\\_Lower middle income'\n",
       "\\item 'income\\_group\\_Upper middle income'\n",
       "\\item 'region\\_geo\\_1'\n",
       "\\item 'region\\_geo\\_11'\n",
       "\\item 'region\\_geo\\_12'\n",
       "\\item 'region\\_geo\\_13'\n",
       "\\item 'region\\_geo\\_14'\n",
       "\\item 'region\\_geo\\_15'\n",
       "\\item 'region\\_geo\\_16'\n",
       "\\item 'region\\_geo\\_17'\n",
       "\\item 'region\\_geo\\_18'\n",
       "\\item 'region\\_geo\\_19'\n",
       "\\item 'region\\_geo\\_2'\n",
       "\\item 'region\\_geo\\_3'\n",
       "\\item 'region\\_geo\\_4'\n",
       "\\item 'region\\_geo\\_5'\n",
       "\\item 'region\\_geo\\_6'\n",
       "\\item 'region\\_geo\\_7'\n",
       "\\item 'region\\_geo\\_8'\n",
       "\\item 'region\\_geo\\_9'\n",
       "\\item 'gini\\_log'\n",
       "\\item 'density\\_log'\n",
       "\\item 'gdp\\_pc\\_log'\n",
       "\\item 'trade\\_gdp\\_log'\n",
       "\\end{enumerate*}\n"
      ],
      "text/markdown": [
       "1. 'country_name'\n",
       "2. 'pandem'\n",
       "3. 'pandem_dis'\n",
       "4. 'panback'\n",
       "5. 'rule'\n",
       "6. 'polyarchy'\n",
       "7. 'education'\n",
       "8. 'gini'\n",
       "9. 'density'\n",
       "10. 'gdp_pc'\n",
       "11. 'inflation'\n",
       "12. 'oil'\n",
       "13. 'mineral'\n",
       "14. 'trade_gdp'\n",
       "15. 'ethnic_frac'\n",
       "16. 'ling_frac'\n",
       "17. 'relig_frac'\n",
       "18. 'income_group_Low income'\n",
       "19. 'income_group_Lower middle income'\n",
       "20. 'income_group_Upper middle income'\n",
       "21. 'region_geo_1'\n",
       "22. 'region_geo_11'\n",
       "23. 'region_geo_12'\n",
       "24. 'region_geo_13'\n",
       "25. 'region_geo_14'\n",
       "26. 'region_geo_15'\n",
       "27. 'region_geo_16'\n",
       "28. 'region_geo_17'\n",
       "29. 'region_geo_18'\n",
       "30. 'region_geo_19'\n",
       "31. 'region_geo_2'\n",
       "32. 'region_geo_3'\n",
       "33. 'region_geo_4'\n",
       "34. 'region_geo_5'\n",
       "35. 'region_geo_6'\n",
       "36. 'region_geo_7'\n",
       "37. 'region_geo_8'\n",
       "38. 'region_geo_9'\n",
       "39. 'gini_log'\n",
       "40. 'density_log'\n",
       "41. 'gdp_pc_log'\n",
       "42. 'trade_gdp_log'\n",
       "\n",
       "\n"
      ],
      "text/plain": [
       " [1] \"country_name\"                     \"pandem\"                          \n",
       " [3] \"pandem_dis\"                       \"panback\"                         \n",
       " [5] \"rule\"                             \"polyarchy\"                       \n",
       " [7] \"education\"                        \"gini\"                            \n",
       " [9] \"density\"                          \"gdp_pc\"                          \n",
       "[11] \"inflation\"                        \"oil\"                             \n",
       "[13] \"mineral\"                          \"trade_gdp\"                       \n",
       "[15] \"ethnic_frac\"                      \"ling_frac\"                       \n",
       "[17] \"relig_frac\"                       \"income_group_Low income\"         \n",
       "[19] \"income_group_Lower middle income\" \"income_group_Upper middle income\"\n",
       "[21] \"region_geo_1\"                     \"region_geo_11\"                   \n",
       "[23] \"region_geo_12\"                    \"region_geo_13\"                   \n",
       "[25] \"region_geo_14\"                    \"region_geo_15\"                   \n",
       "[27] \"region_geo_16\"                    \"region_geo_17\"                   \n",
       "[29] \"region_geo_18\"                    \"region_geo_19\"                   \n",
       "[31] \"region_geo_2\"                     \"region_geo_3\"                    \n",
       "[33] \"region_geo_4\"                     \"region_geo_5\"                    \n",
       "[35] \"region_geo_6\"                     \"region_geo_7\"                    \n",
       "[37] \"region_geo_8\"                     \"region_geo_9\"                    \n",
       "[39] \"gini_log\"                         \"density_log\"                     \n",
       "[41] \"gdp_pc_log\"                       \"trade_gdp_log\"                   "
      ]
     },
     "metadata": {},
     "output_type": "display_data"
    },
    {
     "data": {
      "image/png": "[encoded data removed]",
      "text/plain": [
       "Plot with title \"density.default(x = log(data$trade_gdp))\""
      ]
     },
     "metadata": {},
     "output_type": "display_data"
    }
   ],
   "source": [
    "## Simple feature eng.\n",
    "plot(density(log(data$gini))); data$gini_log <- log(data$gini) \n",
    "plot(density(log(data$density))); data$density_log <- log(data$density) \n",
    "plot(density(log(data$gdp_pc))); data$gdp_pc_log <- log(data$gdp_pc) \n",
    "plot(density(log(data$trade_gdp))); data$trade_gdp_log <- log(data$trade_gdp) \n",
    "\n",
    "colnames(data)"
   ]
  },
  {
   "cell_type": "markdown",
   "metadata": {},
   "source": [
    "# 1) OLS with all variables"
   ]
  },
  {
   "cell_type": "code",
   "execution_count": 14,
   "metadata": {
    "ExecuteTime": {
     "end_time": "2021-05-10T15:14:45.890448Z",
     "start_time": "2021-05-10T15:14:45.785Z"
    }
   },
   "outputs": [
    {
     "data": {
      "text/plain": [
       "-----------------------------------------------\n",
       "       Test             Statistic       pvalue  \n",
       "-----------------------------------------------\n",
       "Shapiro-Wilk              0.9803         0.0631 \n",
       "Kolmogorov-Smirnov        0.0614         0.7294 \n",
       "Cramer-von Mises         35.4723         0.0000 \n",
       "Anderson-Darling          0.6453         0.0903 \n",
       "-----------------------------------------------"
      ]
     },
     "metadata": {},
     "output_type": "display_data"
    },
    {
     "data": {
      "text/plain": [
       "\n",
       "\tRESET test\n",
       "\n",
       "data:  model_panback_1\n",
       "RESET = 5.8218, df1 = 2, df2 = 89, p-value = 0.004206\n"
      ]
     },
     "metadata": {},
     "output_type": "display_data"
    },
    {
     "data": {
      "text/plain": [
       "\n",
       "\tstudentized Breusch-Pagan test\n",
       "\n",
       "data:  model_panback_1\n",
       "BP = 38.171, df = 34, p-value = 0.2855\n"
      ]
     },
     "metadata": {},
     "output_type": "display_data"
    },
    {
     "data": {
      "text/plain": [
       "\n",
       "\tDurbin-Watson test\n",
       "\n",
       "data:  model_panback_1\n",
       "DW = 2.0166, p-value = 0.4889\n",
       "alternative hypothesis: true autocorrelation is greater than 0\n"
      ]
     },
     "metadata": {},
     "output_type": "display_data"
    }
   ],
   "source": [
    "##############################################\n",
    "##############################################\n",
    "#### y=panback, region_geo as regional variable\n",
    "\n",
    "model_panback_1 <- lm(panback ~ rule + polyarchy + education + ethnic_frac + ling_frac + relig_frac + gdp_pc_log + gini_log + inflation + trade_gdp_log + oil + mineral + density_log + region_geo_1 + region_geo_2 + region_geo_3 + region_geo_4 + region_geo_5 + region_geo_6 + region_geo_7 + region_geo_8 + region_geo_9 + region_geo_11 + region_geo_12 + region_geo_13 + region_geo_14 + region_geo_15 + region_geo_16 + region_geo_17 + region_geo_18 + region_geo_19 + `income_group_Low income` + `income_group_Lower middle income` + `income_group_Upper middle income`, data = data)\n",
    "# olsrr::ols_coll_diag(model_panback_1)\n",
    "olsrr::ols_test_normality(model_panback_1)\n",
    "resettest(model_panback_1, power=2:3, type=\"fitted\")\n",
    "bptest(model_panback_1, studentize=TRUE)\n",
    "dwtest(model_panback_1)"
   ]
  },
  {
   "cell_type": "code",
   "execution_count": 15,
   "metadata": {
    "ExecuteTime": {
     "end_time": "2021-05-10T15:15:12.087113Z",
     "start_time": "2021-05-10T15:15:11.975Z"
    }
   },
   "outputs": [
    {
     "data": {
      "text/plain": [
       "-----------------------------------------------\n",
       "       Test             Statistic       pvalue  \n",
       "-----------------------------------------------\n",
       "Shapiro-Wilk              0.989          0.4128 \n",
       "Kolmogorov-Smirnov        0.0511         0.8971 \n",
       "Cramer-von Mises         34.4655         0.0000 \n",
       "Anderson-Darling          0.4132         0.3330 \n",
       "-----------------------------------------------"
      ]
     },
     "metadata": {},
     "output_type": "display_data"
    },
    {
     "data": {
      "text/plain": [
       "\n",
       "\tRESET test\n",
       "\n",
       "data:  model_pandem_1\n",
       "RESET = 0.35663, df1 = 2, df2 = 89, p-value = 0.701\n"
      ]
     },
     "metadata": {},
     "output_type": "display_data"
    },
    {
     "data": {
      "text/plain": [
       "\n",
       "\tstudentized Breusch-Pagan test\n",
       "\n",
       "data:  model_pandem_1\n",
       "BP = 46.372, df = 34, p-value = 0.07664\n"
      ]
     },
     "metadata": {},
     "output_type": "display_data"
    },
    {
     "data": {
      "text/plain": [
       "\n",
       "\tDurbin-Watson test\n",
       "\n",
       "data:  model_pandem_1\n",
       "DW = 2.1663, p-value = 0.7937\n",
       "alternative hypothesis: true autocorrelation is greater than 0\n"
      ]
     },
     "metadata": {},
     "output_type": "display_data"
    }
   ],
   "source": [
    "##############################################\n",
    "##############################################\n",
    "#### y=pandem, region_geo as regional variable\n",
    "\n",
    "model_pandem_1 <- lm(pandem ~ rule + polyarchy + education + ethnic_frac + ling_frac + relig_frac + gdp_pc_log + gini_log + inflation + trade_gdp_log + oil + mineral + density_log + region_geo_1 + region_geo_2 + region_geo_3 + region_geo_4 + region_geo_5 + region_geo_6 + region_geo_7 + region_geo_8 + region_geo_9 + region_geo_11 + region_geo_12 + region_geo_13 + region_geo_14 + region_geo_15 + region_geo_16 + region_geo_17 + region_geo_18 + region_geo_19 + `income_group_Low income` + `income_group_Lower middle income` + `income_group_Upper middle income`, data = data)\n",
    "# olsrr::ols_coll_diag(model_pandem_1)\n",
    "olsrr::ols_test_normality(model_pandem_1)\n",
    "resettest(model_pandem_1, power=2:3, type=\"fitted\")\n",
    "bptest(model_pandem_1, studentize=TRUE)\n",
    "dwtest(model_pandem_1)"
   ]
  },
  {
   "cell_type": "code",
   "execution_count": 16,
   "metadata": {
    "ExecuteTime": {
     "end_time": "2021-05-10T15:15:17.909477Z",
     "start_time": "2021-05-10T15:15:17.798Z"
    }
   },
   "outputs": [
    {
     "data": {
      "text/plain": [
       "-----------------------------------------------\n",
       "       Test             Statistic       pvalue  \n",
       "-----------------------------------------------\n",
       "Shapiro-Wilk              0.9852         0.1863 \n",
       "Kolmogorov-Smirnov        0.0537         0.8602 \n",
       "Cramer-von Mises         35.0222         0.0000 \n",
       "Anderson-Darling          0.3812         0.3960 \n",
       "-----------------------------------------------"
      ]
     },
     "metadata": {},
     "output_type": "display_data"
    },
    {
     "data": {
      "text/plain": [
       "\n",
       "\tRESET test\n",
       "\n",
       "data:  model_pandem_dis_1\n",
       "RESET = 1.5465, df1 = 2, df2 = 89, p-value = 0.2187\n"
      ]
     },
     "metadata": {},
     "output_type": "display_data"
    },
    {
     "data": {
      "text/plain": [
       "\n",
       "\tstudentized Breusch-Pagan test\n",
       "\n",
       "data:  model_pandem_dis_1\n",
       "BP = 45.922, df = 34, p-value = 0.08325\n"
      ]
     },
     "metadata": {},
     "output_type": "display_data"
    },
    {
     "data": {
      "text/plain": [
       "\n",
       "\tDurbin-Watson test\n",
       "\n",
       "data:  model_pandem_dis_1\n",
       "DW = 2.2918, p-value = 0.937\n",
       "alternative hypothesis: true autocorrelation is greater than 0\n"
      ]
     },
     "metadata": {},
     "output_type": "display_data"
    }
   ],
   "source": [
    "##############################################\n",
    "##############################################\n",
    "#### y=pandem_dis, region_geo as regional variable\n",
    "\n",
    "model_pandem_dis_1 <- lm(pandem_dis ~ rule + polyarchy + education + ethnic_frac + ling_frac + relig_frac + gdp_pc_log + gini_log + inflation + trade_gdp_log + oil + mineral + density_log + region_geo_1 + region_geo_2 + region_geo_3 + region_geo_4 + region_geo_5 + region_geo_6 + region_geo_7 + region_geo_8 + region_geo_9 + region_geo_11 + region_geo_12 + region_geo_13 + region_geo_14 + region_geo_15 + region_geo_16 + region_geo_17 + region_geo_18 + region_geo_19 + `income_group_Low income` + `income_group_Lower middle income` + `income_group_Upper middle income`, data = data)\n",
    "# olsrr::ols_coll_diag(model_pandem_dis_1)\n",
    "olsrr::ols_test_normality(model_pandem_dis_1)\n",
    "resettest(model_pandem_dis_1, power=2:3, type=\"fitted\")\n",
    "bptest(model_pandem_dis_1, studentize=TRUE)\n",
    "dwtest(model_pandem_dis_1)"
   ]
  },
  {
   "cell_type": "code",
   "execution_count": 13,
   "metadata": {
    "ExecuteTime": {
     "end_time": "2021-05-10T15:14:31.291495Z",
     "start_time": "2021-05-10T15:14:29.551Z"
    }
   },
   "outputs": [
    {
     "name": "stdout",
     "output_type": "stream",
     "text": [
      "\n",
      "================================================================\n",
      "                                        Dependent variable:     \n",
      "                                   -----------------------------\n",
      "                                    panback   pandem  pandem_dis\n",
      "                                      (1)      (2)       (3)    \n",
      "----------------------------------------------------------------\n",
      "rule                                 0.018    -0.003    0.001   \n",
      "                                    (0.074)  (0.084)   (0.078)  \n",
      "                                                                \n",
      "polyarchy                           0.176*    -0.134    -0.136  \n",
      "                                    (0.095)  (0.108)   (0.100)  \n",
      "                                                                \n",
      "education                           -0.003    -0.001    0.001   \n",
      "                                    (0.009)  (0.010)   (0.009)  \n",
      "                                                                \n",
      "ethnic_frac                          0.006    -0.035    -0.022  \n",
      "                                    (0.065)  (0.074)   (0.068)  \n",
      "                                                                \n",
      "ling_frac                            0.027    0.023     0.004   \n",
      "                                    (0.057)  (0.064)   (0.059)  \n",
      "                                                                \n",
      "relig_frac                           0.001    -0.023    -0.010  \n",
      "                                    (0.061)  (0.070)   (0.064)  \n",
      "                                                                \n",
      "gdp_pc_log                           0.018    0.029     0.020   \n",
      "                                    (0.030)  (0.034)   (0.031)  \n",
      "                                                                \n",
      "gini_log                             0.060    0.096     0.079   \n",
      "                                    (0.071)  (0.081)   (0.075)  \n",
      "                                                                \n",
      "inflation                           0.0002    0.0004    0.0002  \n",
      "                                   (0.0004)  (0.0005)  (0.0005) \n",
      "                                                                \n",
      "trade_gdp_log                      -0.057**  -0.076** -0.079*** \n",
      "                                    (0.028)  (0.032)   (0.029)  \n",
      "                                                                \n",
      "oil                                  0.002    0.001     0.001   \n",
      "                                    (0.002)  (0.002)   (0.002)  \n",
      "                                                                \n",
      "mineral                              0.004    0.005     0.005   \n",
      "                                    (0.003)  (0.004)   (0.004)  \n",
      "                                                                \n",
      "density_log                          0.012    0.009     0.013   \n",
      "                                    (0.011)  (0.013)   (0.012)  \n",
      "                                                                \n",
      "region_geo_1                        -0.087    -0.101    -0.060  \n",
      "                                    (0.070)  (0.080)   (0.073)  \n",
      "                                                                \n",
      "region_geo_2                        -0.071    -0.098    -0.052  \n",
      "                                    (0.072)  (0.081)   (0.075)  \n",
      "                                                                \n",
      "region_geo_3                        -0.068    -0.076    -0.040  \n",
      "                                    (0.071)  (0.080)   (0.074)  \n",
      "                                                                \n",
      "region_geo_4                        0.107*    0.065     0.085   \n",
      "                                    (0.054)  (0.061)   (0.056)  \n",
      "                                                                \n",
      "region_geo_5                         0.004    -0.036    -0.007  \n",
      "                                    (0.064)  (0.073)   (0.067)  \n",
      "                                                                \n",
      "region_geo_6                        -0.050    -0.073    -0.049  \n",
      "                                    (0.072)  (0.082)   (0.076)  \n",
      "                                                                \n",
      "region_geo_7                        -0.083    -0.085    -0.044  \n",
      "                                    (0.077)  (0.087)   (0.080)  \n",
      "                                                                \n",
      "region_geo_8                        -0.001    -0.014    0.010   \n",
      "                                    (0.066)  (0.075)   (0.069)  \n",
      "                                                                \n",
      "region_geo_9                         0.053    0.032     0.044   \n",
      "                                    (0.078)  (0.088)   (0.082)  \n",
      "                                                                \n",
      "region_geo_11                       -0.011    -0.074    -0.059  \n",
      "                                    (0.068)  (0.077)   (0.071)  \n",
      "                                                                \n",
      "region_geo_12                       -0.081    -0.101    -0.094  \n",
      "                                    (0.065)  (0.074)   (0.068)  \n",
      "                                                                \n",
      "region_geo_13                        0.046    0.029     0.039   \n",
      "                                    (0.056)  (0.063)   (0.058)  \n",
      "                                                                \n",
      "region_geo_14                        0.040    0.016     0.015   \n",
      "                                    (0.063)  (0.071)   (0.065)  \n",
      "                                                                \n",
      "region_geo_15                       -0.111    -0.155    -0.107  \n",
      "                                    (0.103)  (0.117)   (0.108)  \n",
      "                                                                \n",
      "region_geo_16                       -0.030    -0.054    0.028   \n",
      "                                    (0.102)  (0.116)   (0.107)  \n",
      "                                                                \n",
      "region_geo_17                        0.044    0.024     0.080   \n",
      "                                    (0.062)  (0.071)   (0.065)  \n",
      "                                                                \n",
      "region_geo_18                       -0.063    -0.101    -0.066  \n",
      "                                    (0.061)  (0.069)   (0.063)  \n",
      "                                                                \n",
      "region_geo_19                       -0.038    -0.023    -0.031  \n",
      "                                    (0.066)  (0.075)   (0.069)  \n",
      "                                                                \n",
      "`income_group_Low income`            0.141    0.114     0.118   \n",
      "                                    (0.103)  (0.117)   (0.108)  \n",
      "                                                                \n",
      "`income_group_Lower middle income`  0.151**   0.121     0.113   \n",
      "                                    (0.075)  (0.085)   (0.078)  \n",
      "                                                                \n",
      "`income_group_Upper middle income`   0.075    0.029     0.039   \n",
      "                                    (0.048)  (0.055)   (0.051)  \n",
      "                                                                \n",
      "Constant                            -0.248    -0.083    -0.010  \n",
      "                                    (0.388)  (0.439)   (0.405)  \n",
      "                                                                \n",
      "----------------------------------------------------------------\n",
      "Observations                          126      126       126    \n",
      "R2                                   0.450    0.497     0.506   \n",
      "Adjusted R2                          0.245    0.308     0.322   \n",
      "Residual Std. Error (df = 91)        0.096    0.109     0.101   \n",
      "F Statistic (df = 34; 91)          2.190***  2.640***  2.744*** \n",
      "================================================================\n",
      "Note:                                *p<0.1; **p<0.05; ***p<0.01\n"
     ]
    }
   ],
   "source": [
    "stargazer(model_panback_1, model_pandem_1, model_pandem_dis_1, type=\"text\")"
   ]
  },
  {
   "cell_type": "code",
   "execution_count": null,
   "metadata": {},
   "outputs": [],
   "source": [
    "\n",
    "\n",
    "##############################################\n",
    "##############################################\n",
    "#### y=panback, region_geo as regional variable\n",
    "\n",
    "model_panback_1 <- lm(panback ~ rule + education + ethnic_frac + ling_frac + relig_frac + gdp_pc_log + gini_log + inflation + trade_gdp_log + oil + mineral + density_log + region_geo_1 + region_geo_2 + region_geo_3 + region_geo_4 + region_geo_5 + region_geo_6 + region_geo_7 + region_geo_8 + region_geo_9 + region_geo_11 + region_geo_12 + region_geo_13 + region_geo_14 + region_geo_15 + region_geo_16 + region_geo_17 + region_geo_18 + region_geo_19 + `income_group_Low income` + `income_group_Lower middle income` + `income_group_Upper middle income`, data = data)\n",
    "olsrr::ols_coll_diag(model_panback_1)\n",
    "olsrr::ols_test_normality(model_panback_1)\n",
    "resettest(model_panback_1, power=2:3, type=\"fitted\")\n",
    "bptest(model_panback_1, studentize=TRUE)\n",
    "dwtest(model_panback_1)\n",
    "\n",
    "model_panback_2 <- lm(panback ~ polyarchy + education + ethnic_frac + ling_frac + relig_frac + gdp_pc_log + gini_log + inflation + trade_gdp_log + oil + mineral + density_log + region_geo_1 + region_geo_2 + region_geo_3 + region_geo_4 + region_geo_5 + region_geo_6 + region_geo_7 + region_geo_8 + region_geo_9 + region_geo_11 + region_geo_12 + region_geo_13 + region_geo_14 + region_geo_15 + region_geo_16 + region_geo_17 + region_geo_18 + region_geo_19 + `income_group_Low income` + `income_group_Lower middle income` + `income_group_Upper middle income`, data = data)\n",
    "olsrr::ols_coll_diag(model_panback_2)\n",
    "olsrr::ols_test_normality(model_panback_2)\n",
    "resettest(model_panback_2, power=2:3, type=\"fitted\")\n",
    "bptest(model_panback_2, studentize=TRUE)\n",
    "dwtest(model_panback_2)\n",
    "\n",
    "\n",
    "\n",
    "\n",
    "##############################################\n",
    "##############################################\n",
    "#### y=pandem, region_geo as regional variable\n",
    "\n",
    "model_pandem_1 <- lm(pandem ~ rule + education + ethnic_frac + ling_frac + relig_frac + gdp_pc_log + gini_log + inflation + trade_gdp_log + oil + mineral + density_log + region_geo_1 + region_geo_2 + region_geo_3 + region_geo_4 + region_geo_5 + region_geo_6 + region_geo_7 + region_geo_8 + region_geo_9 + region_geo_11 + region_geo_12 + region_geo_13 + region_geo_14 + region_geo_15 + region_geo_16 + region_geo_17 + region_geo_18 + region_geo_19 + `income_group_Low income` + `income_group_Lower middle income` + `income_group_Upper middle income`, data = data)\n",
    "olsrr::ols_coll_diag(model_pandem_1)\n",
    "olsrr::ols_test_normality(model_pandem_1)\n",
    "resettest(model_pandem_1, power=2:3, type=\"fitted\")\n",
    "bptest(model_pandem_1, studentize=TRUE)\n",
    "dwtest(model_pandem_1)\n",
    "\n",
    "model_pandem_2 <- lm(pandem ~ polyarchy + education + ethnic_frac + ling_frac + relig_frac + gdp_pc_log + gini_log + inflation + trade_gdp_log + oil + mineral + density_log + region_geo_1 + region_geo_2 + region_geo_3 + region_geo_4 + region_geo_5 + region_geo_6 + region_geo_7 + region_geo_8 + region_geo_9 + region_geo_11 + region_geo_12 + region_geo_13 + region_geo_14 + region_geo_15 + region_geo_16 + region_geo_17 + region_geo_18 + region_geo_19 + `income_group_Low income` + `income_group_Lower middle income` + `income_group_Upper middle income`, data = data)\n",
    "olsrr::ols_coll_diag(model_pandem_2)\n",
    "olsrr::ols_test_normality(model_pandem_2)\n",
    "resettest(model_pandem_2, power=2:3, type=\"fitted\")\n",
    "bptest(model_pandem_2, studentize=TRUE)\n",
    "dwtest(model_pandem_2)\n",
    "\n",
    "\n",
    "\n",
    "##############################################\n",
    "##############################################\n",
    "#### y=pandem_dis, region_geo as regional variable\n",
    "\n",
    "model_pandem_dis_1 <- lm(pandem_dis ~ rule + education + ethnic_frac + ling_frac + relig_frac + gdp_pc_log + gini_log + inflation + trade_gdp_log + oil + mineral + density_log + region_geo_1 + region_geo_2 + region_geo_3 + region_geo_4 + region_geo_5 + region_geo_6 + region_geo_7 + region_geo_8 + region_geo_9 + region_geo_11 + region_geo_12 + region_geo_13 + region_geo_14 + region_geo_15 + region_geo_16 + region_geo_17 + region_geo_18 + region_geo_19 + `income_group_Low income` + `income_group_Lower middle income` + `income_group_Upper middle income`, data = data)\n",
    "olsrr::ols_coll_diag(model_pandem_dis_1)\n",
    "olsrr::ols_test_normality(model_pandem_dis_1)\n",
    "resettest(model_pandem_dis_1, power=2:3, type=\"fitted\")\n",
    "bptest(model_pandem_dis_1, studentize=TRUE)\n",
    "dwtest(model_pandem_dis_1)\n",
    "\n",
    "model_pandem_dis_2 <- lm(pandem_dis ~ polyarchy + education + ethnic_frac + ling_frac + relig_frac + gdp_pc_log + gini_log + inflation + trade_gdp_log + oil + mineral + density_log + region_geo_1 + region_geo_2 + region_geo_3 + region_geo_4 + region_geo_5 + region_geo_6 + region_geo_7 + region_geo_8 + region_geo_9 + region_geo_11 + region_geo_12 + region_geo_13 + region_geo_14 + region_geo_15 + region_geo_16 + region_geo_17 + region_geo_18 + region_geo_19 + `income_group_Low income` + `income_group_Lower middle income` + `income_group_Upper middle income`, data = data)\n",
    "olsrr::ols_coll_diag(model_pandem_dis_2)\n",
    "olsrr::ols_test_normality(model_pandem_dis_2)\n",
    "resettest(model_pandem_dis_2, power=2:3, type=\"fitted\")\n",
    "bptest(model_pandem_dis_2, studentize=TRUE)\n",
    "dwtest(model_pandem_dis_2)\n",
    "\n",
    "stargazer(model_panback_1, model_pandem_1, model_pandem_dis_1, type=\"html\", out=\"wo_military/all_rule_variables.html\")\n",
    "stargazer(model_panback_2, model_pandem_2, model_pandem_dis_2, type=\"html\", out=\"wo_military/all_polyarchy_variables.html\")\n",
    "\n",
    "\n",
    "\n",
    "############# BEZ FE\n",
    "##############################################\n",
    "##############################################\n",
    "#### y=panback, region_geo as regional variable\n",
    "\n",
    "model_panback_1 <- lm(panback ~ rule + polyarchy + education + ethnic_frac + ling_frac + relig_frac + gdp_pc_log + gini_log + inflation + trade_gdp_log + oil + mineral + density_log, data = data)\n",
    "olsrr::ols_coll_diag(model_panback_1)\n",
    "olsrr::ols_test_normality(model_panback_1)\n",
    "resettest(model_panback_1, power=2:3, type=\"fitted\")\n",
    "bptest(model_panback_1, studentize=TRUE)\n",
    "dwtest(model_panback_1)\n",
    "\n",
    "model_panback_2 <- lm(panback ~ rule + education + ethnic_frac + ling_frac + relig_frac + gdp_pc_log + gini_log + inflation + trade_gdp_log + oil + mineral + density_log, data = data)\n",
    "olsrr::ols_coll_diag(model_panback_2)\n",
    "olsrr::ols_test_normality(model_panback_2)\n",
    "resettest(model_panback_2, power=2:3, type=\"fitted\")\n",
    "bptest(model_panback_2, studentize=TRUE)\n",
    "dwtest(model_panback_2)\n",
    "\n",
    "model_panback_3 <- lm(panback ~ polyarchy + education + ethnic_frac + ling_frac + relig_frac + gdp_pc_log + gini_log + inflation + trade_gdp_log + oil + mineral + density_log, data = data)\n",
    "olsrr::ols_coll_diag(model_panback_3)\n",
    "olsrr::ols_test_normality(model_panback_3)\n",
    "resettest(model_panback_3, power=2:3, type=\"fitted\")\n",
    "bptest(model_panback_3, studentize=TRUE)\n",
    "dwtest(model_panback_3)\n",
    "\n",
    "\n",
    "##############################################\n",
    "##############################################\n",
    "#### y=pandem, region_geo as regional variable\n",
    "\n",
    "model_pandem_1 <- lm(pandem ~ rule + polyarchy + education + ethnic_frac + ling_frac + relig_frac + gdp_pc_log + gini_log + inflation + trade_gdp_log + oil + mineral + density_log, data = data)\n",
    "olsrr::ols_coll_diag(model_pandem_1)\n",
    "olsrr::ols_test_normality(model_pandem_1)\n",
    "resettest(model_pandem_1, power=2:3, type=\"fitted\")\n",
    "bptest(model_pandem_1, studentize=TRUE)\n",
    "dwtest(model_pandem_1)\n",
    "\n",
    "model_pandem_2 <- lm(pandem ~ rule + education + ethnic_frac + ling_frac + relig_frac + gdp_pc_log + gini_log + inflation + trade_gdp_log + oil + mineral + density_log, data = data)\n",
    "olsrr::ols_coll_diag(model_pandem_2)\n",
    "olsrr::ols_test_normality(model_pandem_2)\n",
    "resettest(model_pandem_2, power=2:3, type=\"fitted\")\n",
    "bptest(model_pandem_2, studentize=TRUE)\n",
    "dwtest(model_pandem_2)\n",
    "robust_pandem_2 = coeftest(model_pandem_2, vcov=vcovHC(model_pandem_2, type=\"HC0\"))\n",
    "show(robust_pandem_2)\n",
    "\n",
    "model_pandem_3 <- lm(pandem ~ polyarchy + education + ethnic_frac + ling_frac + relig_frac + gdp_pc_log + gini_log + inflation + trade_gdp_log + oil + mineral + density_log, data = data)\n",
    "olsrr::ols_coll_diag(model_pandem_3)\n",
    "olsrr::ols_test_normality(model_pandem_3)\n",
    "resettest(model_pandem_3, power=2:3, type=\"fitted\")\n",
    "bptest(model_pandem_3, studentize=TRUE)\n",
    "dwtest(model_pandem_3)\n",
    "\n",
    "\n",
    "##############################################\n",
    "##############################################\n",
    "#### y=pandem_dis, region_geo as regional variable\n",
    "\n",
    "model_pandem_dis_1 <- lm(pandem_dis ~ rule + polyarchy + education + ethnic_frac + ling_frac + relig_frac + gdp_pc_log + gini_log + inflation + trade_gdp_log + oil + mineral + density_log, data = data)\n",
    "olsrr::ols_coll_diag(model_pandem_dis_1)\n",
    "olsrr::ols_test_normality(model_pandem_dis_1)\n",
    "resettest(model_pandem_dis_1, power=2:3, type=\"fitted\")\n",
    "bptest(model_pandem_dis_1, studentize=TRUE)\n",
    "dwtest(model_pandem_dis_1)\n",
    "\n",
    "model_pandem_dis_2 <- lm(pandem_dis ~ rule + education + ethnic_frac + ling_frac + relig_frac + gdp_pc_log + gini_log + inflation + trade_gdp_log + oil + mineral + density_log, data = data)\n",
    "olsrr::ols_coll_diag(model_pandem_dis_2)\n",
    "olsrr::ols_test_normality(model_pandem_dis_2)\n",
    "resettest(model_pandem_dis_2, power=2:3, type=\"fitted\")\n",
    "bptest(model_pandem_dis_2, studentize=TRUE)\n",
    "dwtest(model_pandem_dis_2)\n",
    "robust_pandem_dis_2 = coeftest(model_pandem_dis_2, vcov=vcovHC(model_pandem_dis_2, type=\"HC0\"))\n",
    "show(robust_pandem_dis_2)\n",
    "\n",
    "model_pandem_dis_3 <- lm(pandem_dis ~ polyarchy + education + ethnic_frac + ling_frac + relig_frac + gdp_pc_log + gini_log + inflation + trade_gdp_log + oil + mineral + density_log, data = data)\n",
    "olsrr::ols_coll_diag(model_pandem_dis_3)\n",
    "olsrr::ols_test_normality(model_pandem_dis_3)\n",
    "resettest(model_pandem_dis_3, power=2:3, type=\"fitted\")\n",
    "bptest(model_pandem_dis_3, studentize=TRUE)\n",
    "dwtest(model_pandem_dis_3)\n",
    "\n",
    "\n",
    "\n",
    "\n",
    "stargazer(model_panback_1, model_pandem_1, model_pandem_dis_1, type=\"html\", out=\"wo_military/all_fe.html\")\n",
    "stargazer(model_panback_2, model_pandem_2, model_pandem_dis_2, type=\"html\", out=\"wo_military/all_rule_fe.html\")\n",
    "stargazer(model_panback_2, robust_pandem_2, robust_pandem_dis_2, type=\"html\", out=\"wo_military/all_rule_fe_robust.html\")\n",
    "stargazer(model_panback_3, model_pandem_3, model_pandem_dis_3, type=\"html\", out=\"wo_military/all_poly_fe.html\")\n"
   ]
  },
  {
   "cell_type": "code",
   "execution_count": null,
   "metadata": {},
   "outputs": [],
   "source": []
  },
  {
   "cell_type": "code",
   "execution_count": null,
   "metadata": {},
   "outputs": [],
   "source": []
  }
 ],
 "metadata": {
  "kernelspec": {
   "display_name": "R",
   "language": "R",
   "name": "ir"
  },
  "language_info": {
   "codemirror_mode": "r",
   "file_extension": ".r",
   "mimetype": "text/x-r-source",
   "name": "R",
   "pygments_lexer": "r",
   "version": "3.6.1"
  }
 },
 "nbformat": 4,
 "nbformat_minor": 2
}
