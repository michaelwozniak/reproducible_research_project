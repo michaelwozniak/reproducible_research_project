{
 "cells": [
  {
   "cell_type": "code",
   "execution_count": 2,
   "metadata": {
    "ExecuteTime": {
     "end_time": "2021-05-10T15:06:33.770173Z",
     "start_time": "2021-05-10T15:06:31.176Z"
    }
   },
   "outputs": [
    {
     "name": "stderr",
     "output_type": "stream",
     "text": [
      "Warning message:\n",
      "\"package 'dplyr' was built under R version 3.6.3\"\n",
      "Attaching package: 'dplyr'\n",
      "\n",
      "The following objects are masked from 'package:stats':\n",
      "\n",
      "    filter, lag\n",
      "\n",
      "The following objects are masked from 'package:base':\n",
      "\n",
      "    intersect, setdiff, setequal, union\n",
      "\n",
      "dummies-1.5.6 provided by Decision Patterns\n",
      "\n",
      "Warning message:\n",
      "\"package 'fastDummies' was built under R version 3.6.3\"Warning message:\n",
      "\"package 'olsrr' was built under R version 3.6.3\"\n",
      "Attaching package: 'olsrr'\n",
      "\n",
      "The following object is masked from 'package:datasets':\n",
      "\n",
      "    rivers\n",
      "\n",
      "Warning message:\n",
      "\"package 'rJava' was built under R version 3.6.3\"Warning message:\n",
      "\"package 'glmulti' was built under R version 3.6.3\"Loading required package: leaps\n",
      "\n",
      "Please cite as: \n",
      "\n",
      " Hlavac, Marek (2018). stargazer: Well-Formatted Regression and Summary Statistics Tables.\n",
      " R package version 5.2.2. https://CRAN.R-project.org/package=stargazer \n",
      "\n",
      "Loading required package: carData\n",
      "\n",
      "Attaching package: 'car'\n",
      "\n",
      "The following object is masked from 'package:dplyr':\n",
      "\n",
      "    recode\n",
      "\n",
      "Warning message:\n",
      "\"package 'lmtest' was built under R version 3.6.3\"Loading required package: zoo\n",
      "Warning message:\n",
      "\"package 'zoo' was built under R version 3.6.3\"\n",
      "Attaching package: 'zoo'\n",
      "\n",
      "The following objects are masked from 'package:base':\n",
      "\n",
      "    as.Date, as.Date.numeric\n",
      "\n",
      "Warning message:\n",
      "\"package 'tseries' was built under R version 3.6.3\"Registered S3 method overwritten by 'quantmod':\n",
      "  method            from\n",
      "  as.zoo.data.frame zoo \n",
      "Warning message:\n",
      "\"package 'sandwich' was built under R version 3.6.2\"Warning message:\n",
      "\"package 'MASS' was built under R version 3.6.3\"\n",
      "Attaching package: 'MASS'\n",
      "\n",
      "The following object is masked from 'package:olsrr':\n",
      "\n",
      "    cement\n",
      "\n",
      "The following object is masked from 'package:dplyr':\n",
      "\n",
      "    select\n",
      "\n",
      "Warning message:\n",
      "\"package 'plm' was built under R version 3.6.2\"\n",
      "Attaching package: 'plm'\n",
      "\n",
      "The following objects are masked from 'package:dplyr':\n",
      "\n",
      "    between, lag, lead\n",
      "\n",
      "Parsed with column specification:\n",
      "cols(\n",
      "  .default = col_double(),\n",
      "  country_name = \u001b[31mcol_character()\u001b[39m,\n",
      "  country_text_id = \u001b[31mcol_character()\u001b[39m,\n",
      "  continent = \u001b[31mcol_character()\u001b[39m,\n",
      "  sub_region = \u001b[31mcol_character()\u001b[39m,\n",
      "  income_group = \u001b[31mcol_character()\u001b[39m\n",
      ")\n",
      "See spec(...) for full column specifications.\n"
     ]
    }
   ],
   "source": [
    "rm(list=ls())\n",
    "# dependencies\n",
    "Sys.setenv(LANG = \"en\")\n",
    "Sys.setenv(JAVA_HOME = \"C:\\\\Program Files\\\\Java\\\\jre1.8.0_261\")\n",
    "library(readr)\n",
    "library(ggplot2)\n",
    "library(ggcorrplot)\n",
    "library(dplyr)\n",
    "library(dummies)\n",
    "library(fastDummies)\n",
    "library(olsrr)\n",
    "library(rJava)\n",
    "library(glmulti)\n",
    "library(stargazer)\n",
    "library(car)\n",
    "library(\"lmtest\")\n",
    "library(\"tseries\")\n",
    "library(\"sandwich\")\n",
    "\n",
    "\n",
    "\n",
    "library(\"MASS\")\n",
    "library(\"sandwich\")\n",
    "library(\"zoo\")\n",
    "library(\"car\")\n",
    "library(\"lmtest\")\n",
    "library(\"Formula\")\n",
    "library(\"plm\")\n",
    "library(\"stargazer\")\n",
    "\n",
    "\n",
    "df <- read_csv(\"../../data/main_research/processed_data/final_dataset.csv\")"
   ]
  },
  {
   "cell_type": "code",
   "execution_count": 3,
   "metadata": {
    "ExecuteTime": {
     "end_time": "2021-05-10T15:08:08.627472Z",
     "start_time": "2021-05-10T15:08:08.418Z"
    }
   },
   "outputs": [],
   "source": [
    "# Dataset preparation\n",
    "## Removing redundant variables\n",
    "# df$country_name <- NULL\n",
    "df$country_text_id <- NULL\n",
    "df$continent <- NULL\n",
    "df$sub_region <- NULL\n",
    "df$region_pol <- NULL"
   ]
  },
  {
   "cell_type": "code",
   "execution_count": 4,
   "metadata": {
    "ExecuteTime": {
     "end_time": "2021-05-10T15:08:11.421130Z",
     "start_time": "2021-05-10T15:08:11.318Z"
    }
   },
   "outputs": [],
   "source": [
    "## Dummies\n",
    "data <- fastDummies::dummy_cols(df,select_columns = c(\"income_group\",\"region_geo\"),remove_most_frequent_dummy = TRUE, remove_selected_columns = TRUE)"
   ]
  },
  {
   "cell_type": "code",
   "execution_count": 6,
   "metadata": {
    "ExecuteTime": {
     "end_time": "2021-05-10T15:08:43.319379Z",
     "start_time": "2021-05-10T15:08:43.031Z"
    }
   },
   "outputs": [
    {
     "data": {
      "image/png": "[encoded data removed]",
      "text/plain": [
       "Plot with title \"density.default(x = log(data$gini))\""
      ]
     },
     "metadata": {},
     "output_type": "display_data"
    },
    {
     "data": {
      "image/png": "[encoded data removed]",
      "text/plain": [
       "Plot with title \"density.default(x = log(data$density))\""
      ]
     },
     "metadata": {},
     "output_type": "display_data"
    },
    {
     "name": "stderr",
     "output_type": "stream",
     "text": [
      "Warning message:\n",
      "\"Unknown or uninitialised column: `trade`.\""
     ]
    },
    {
     "ename": "ERROR",
     "evalue": "Error in log(data$trade): non-numeric argument to mathematical function\n",
     "output_type": "error",
     "traceback": [
      "Error in log(data$trade): non-numeric argument to mathematical function\nTraceback:\n",
      "1. plot(density(log(data$trade)))",
      "2. density(log(data$trade))"
     ]
    },
    {
     "name": "stderr",
     "output_type": "stream",
     "text": [
      "Warning message:\n",
      "\"Unknown or uninitialised column: `trade`.\""
     ]
    },
    {
     "ename": "ERROR",
     "evalue": "Error in log(data$trade): non-numeric argument to mathematical function\n",
     "output_type": "error",
     "traceback": [
      "Error in log(data$trade): non-numeric argument to mathematical function\nTraceback:\n"
     ]
    },
    {
     "data": {
      "image/png": "[encoded data removed]",
      "text/plain": [
       "Plot with title \"density.default(x = log(data$gdp_pc))\""
      ]
     },
     "metadata": {},
     "output_type": "display_data"
    }
   ],
   "source": [
    "## Simple feature eng.\n",
    "plot(density(log(data$gini))); data$gini_log <- log(data$gini) \n",
    "plot(density(log(data$density))); data$density_log <- log(data$density) \n",
    "plot(density(log(data$gdp_pc))); data$gdp_pc_log <- log(data$gdp_pc) \n",
    "plot(density(log(data$trade))); data$trade_log <- log(data$trade) \n",
    "\n",
    "colnames(data)"
   ]
  },
  {
   "cell_type": "code",
   "execution_count": null,
   "metadata": {},
   "outputs": [],
   "source": []
  },
  {
   "cell_type": "code",
   "execution_count": null,
   "metadata": {},
   "outputs": [],
   "source": []
  },
  {
   "cell_type": "code",
   "execution_count": null,
   "metadata": {},
   "outputs": [],
   "source": []
  }
 ],
 "metadata": {
  "kernelspec": {
   "display_name": "R",
   "language": "R",
   "name": "ir"
  },
  "language_info": {
   "codemirror_mode": "r",
   "file_extension": ".r",
   "mimetype": "text/x-r-source",
   "name": "R",
   "pygments_lexer": "r",
   "version": "3.6.1"
  }
 },
 "nbformat": 4,
 "nbformat_minor": 2
}
