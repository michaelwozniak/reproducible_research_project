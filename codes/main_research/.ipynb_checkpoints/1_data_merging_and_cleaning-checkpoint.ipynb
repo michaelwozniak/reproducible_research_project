{
 "cells": [
  {
   "cell_type": "code",
   "execution_count": 1,
   "metadata": {
    "ExecuteTime": {
     "end_time": "2021-05-10T10:58:09.620280Z",
     "start_time": "2021-05-10T10:58:03.688336Z"
    }
   },
   "outputs": [],
   "source": [
    "import pandas as pd"
   ]
  },
  {
   "cell_type": "markdown",
   "metadata": {},
   "source": [
    "### V-dem variables for 2019 year (commented out due to file size)"
   ]
  },
  {
   "cell_type": "code",
   "execution_count": 2,
   "metadata": {
    "ExecuteTime": {
     "end_time": "2021-05-10T10:58:09.630242Z",
     "start_time": "2021-05-10T10:58:09.623271Z"
    }
   },
   "outputs": [],
   "source": [
    "#vdem_whole = pd.read_csv('vdem_march_2020.csv', low_memory=False)\n",
    "# vdem = vdem_whole.loc[vdem_whole.year >= 2019]\n",
    "# vdem.shape"
   ]
  },
  {
   "cell_type": "code",
   "execution_count": 3,
   "metadata": {
    "ExecuteTime": {
     "end_time": "2021-05-10T10:58:09.642210Z",
     "start_time": "2021-05-10T10:58:09.635230Z"
    }
   },
   "outputs": [],
   "source": [
    "# # there is no data for 2019:\n",
    "# #'e_wbgi_rqe' (regulatory quality)\n",
    "# #'e_peedgini' (education variable)\n",
    "# # 'e_cow_exports', 'e_cow_imports' (export and import)\n",
    "# vars =['country_name', 'country_text_id', 'year', 'e_regiongeo', 'e_regionpol', 'v2x_rule', 'v2xcl_acjst', 'v2xcl_prpty', 'v2x_polyarchy', 'e_peaveduc']\n",
    "# for i in vars:\n",
    "#     print(i, '\\n')\n",
    "#     print(vdem[i].isna().sum())"
   ]
  },
  {
   "cell_type": "code",
   "execution_count": 4,
   "metadata": {
    "ExecuteTime": {
     "end_time": "2021-05-10T10:58:09.655174Z",
     "start_time": "2021-05-10T10:58:09.646201Z"
    }
   },
   "outputs": [],
   "source": [
    "# vdem = vdem[vars]\n",
    "# vdem.rename(columns={'e_regiongeo': 'region_geo', 'e_regionpol': 'region_pol', \"v2x_polyarchy\": 'polyarchy',  'v2x_rule': 'rule', 'v2xcl_acjst': 'justice', 'v2xcl_prpty': 'property', 'e_peaveduc': 'education'}, inplace = True)\n",
    "# vdem = vdem.sort_index(axis=1, ascending=False)\n",
    "# vdem.isna().sum()\n",
    "# vdem.to_csv('vdem_2019.csv')"
   ]
  },
  {
   "cell_type": "code",
   "execution_count": 5,
   "metadata": {
    "ExecuteTime": {
     "end_time": "2021-05-10T10:58:09.703047Z",
     "start_time": "2021-05-10T10:58:09.659166Z"
    }
   },
   "outputs": [],
   "source": [
    "vdem = pd.read_csv('../../data/main_research/raw_data/vdem_2019.csv')\n",
    "vdem.drop(columns=['Unnamed: 0'], inplace=True)"
   ]
  },
  {
   "cell_type": "code",
   "execution_count": 6,
   "metadata": {
    "ExecuteTime": {
     "end_time": "2021-05-10T10:58:09.745933Z",
     "start_time": "2021-05-10T10:58:09.705042Z"
    }
   },
   "outputs": [
    {
     "data": {
      "text/html": [
       "<div>\n",
       "<style scoped>\n",
       "    .dataframe tbody tr th:only-of-type {\n",
       "        vertical-align: middle;\n",
       "    }\n",
       "\n",
       "    .dataframe tbody tr th {\n",
       "        vertical-align: top;\n",
       "    }\n",
       "\n",
       "    .dataframe thead th {\n",
       "        text-align: right;\n",
       "    }\n",
       "</style>\n",
       "<table border=\"1\" class=\"dataframe\">\n",
       "  <thead>\n",
       "    <tr style=\"text-align: right;\">\n",
       "      <th></th>\n",
       "      <th>year</th>\n",
       "      <th>rule</th>\n",
       "      <th>region_pol</th>\n",
       "      <th>region_geo</th>\n",
       "      <th>property</th>\n",
       "      <th>polyarchy</th>\n",
       "      <th>justice</th>\n",
       "      <th>education</th>\n",
       "      <th>country_text_id</th>\n",
       "      <th>country_name</th>\n",
       "    </tr>\n",
       "  </thead>\n",
       "  <tbody>\n",
       "    <tr>\n",
       "      <th>0</th>\n",
       "      <td>2019</td>\n",
       "      <td>0.605</td>\n",
       "      <td>2</td>\n",
       "      <td>17</td>\n",
       "      <td>0.872</td>\n",
       "      <td>0.710</td>\n",
       "      <td>0.354</td>\n",
       "      <td>8.48</td>\n",
       "      <td>MEX</td>\n",
       "      <td>Mexico</td>\n",
       "    </tr>\n",
       "    <tr>\n",
       "      <th>1</th>\n",
       "      <td>2019</td>\n",
       "      <td>0.562</td>\n",
       "      <td>10</td>\n",
       "      <td>18</td>\n",
       "      <td>0.750</td>\n",
       "      <td>0.736</td>\n",
       "      <td>0.764</td>\n",
       "      <td>NaN</td>\n",
       "      <td>SUR</td>\n",
       "      <td>Suriname</td>\n",
       "    </tr>\n",
       "    <tr>\n",
       "      <th>2</th>\n",
       "      <td>2019</td>\n",
       "      <td>0.991</td>\n",
       "      <td>5</td>\n",
       "      <td>2</td>\n",
       "      <td>0.892</td>\n",
       "      <td>0.874</td>\n",
       "      <td>0.972</td>\n",
       "      <td>11.85</td>\n",
       "      <td>SWE</td>\n",
       "      <td>Sweden</td>\n",
       "    </tr>\n",
       "    <tr>\n",
       "      <th>3</th>\n",
       "      <td>2019</td>\n",
       "      <td>0.993</td>\n",
       "      <td>5</td>\n",
       "      <td>1</td>\n",
       "      <td>0.877</td>\n",
       "      <td>0.873</td>\n",
       "      <td>0.979</td>\n",
       "      <td>12.71</td>\n",
       "      <td>CHE</td>\n",
       "      <td>Switzerland</td>\n",
       "    </tr>\n",
       "    <tr>\n",
       "      <th>4</th>\n",
       "      <td>2019</td>\n",
       "      <td>0.649</td>\n",
       "      <td>4</td>\n",
       "      <td>6</td>\n",
       "      <td>0.817</td>\n",
       "      <td>0.718</td>\n",
       "      <td>0.891</td>\n",
       "      <td>5.61</td>\n",
       "      <td>GHA</td>\n",
       "      <td>Ghana</td>\n",
       "    </tr>\n",
       "  </tbody>\n",
       "</table>\n",
       "</div>"
      ],
      "text/plain": [
       "   year   rule  region_pol  region_geo  property  polyarchy  justice  \\\n",
       "0  2019  0.605           2          17     0.872      0.710    0.354   \n",
       "1  2019  0.562          10          18     0.750      0.736    0.764   \n",
       "2  2019  0.991           5           2     0.892      0.874    0.972   \n",
       "3  2019  0.993           5           1     0.877      0.873    0.979   \n",
       "4  2019  0.649           4           6     0.817      0.718    0.891   \n",
       "\n",
       "   education country_text_id country_name  \n",
       "0       8.48             MEX       Mexico  \n",
       "1        NaN             SUR     Suriname  \n",
       "2      11.85             SWE       Sweden  \n",
       "3      12.71             CHE  Switzerland  \n",
       "4       5.61             GHA        Ghana  "
      ]
     },
     "execution_count": 6,
     "metadata": {},
     "output_type": "execute_result"
    }
   ],
   "source": [
    "vdem.head()"
   ]
  },
  {
   "cell_type": "markdown",
   "metadata": {},
   "source": [
    "### Covid variables"
   ]
  },
  {
   "cell_type": "markdown",
   "metadata": {},
   "source": [
    "#### V-dem data"
   ]
  },
  {
   "cell_type": "code",
   "execution_count": 7,
   "metadata": {
    "ExecuteTime": {
     "end_time": "2021-05-10T10:58:09.791067Z",
     "start_time": "2021-05-10T10:58:09.747927Z"
    }
   },
   "outputs": [],
   "source": [
    "data = pd.read_csv('../../data/main_research/raw_data/vdem_pandem_data_v3.csv')"
   ]
  },
  {
   "cell_type": "code",
   "execution_count": 8,
   "metadata": {
    "ExecuteTime": {
     "end_time": "2021-05-10T10:58:09.853899Z",
     "start_time": "2021-05-10T10:58:09.794060Z"
    }
   },
   "outputs": [
    {
     "data": {
      "text/html": [
       "<div>\n",
       "<style scoped>\n",
       "    .dataframe tbody tr th:only-of-type {\n",
       "        vertical-align: middle;\n",
       "    }\n",
       "\n",
       "    .dataframe tbody tr th {\n",
       "        vertical-align: top;\n",
       "    }\n",
       "\n",
       "    .dataframe thead th {\n",
       "        text-align: right;\n",
       "    }\n",
       "</style>\n",
       "<table border=\"1\" class=\"dataframe\">\n",
       "  <thead>\n",
       "    <tr style=\"text-align: right;\">\n",
       "      <th></th>\n",
       "      <th>country_name</th>\n",
       "      <th>time</th>\n",
       "      <th>emlaw</th>\n",
       "      <th>emname</th>\n",
       "      <th>emstart</th>\n",
       "      <th>emend</th>\n",
       "      <th>emlimit</th>\n",
       "      <th>emlimitdate</th>\n",
       "      <th>emlawapp</th>\n",
       "      <th>emlegapp</th>\n",
       "      <th>...</th>\n",
       "      <th>panback</th>\n",
       "      <th>pandem_dis</th>\n",
       "      <th>pandem_dis_alt</th>\n",
       "      <th>type1</th>\n",
       "      <th>type2</th>\n",
       "      <th>type3</th>\n",
       "      <th>type4</th>\n",
       "      <th>type4_alt</th>\n",
       "      <th>type5</th>\n",
       "      <th>type6</th>\n",
       "    </tr>\n",
       "  </thead>\n",
       "  <tbody>\n",
       "    <tr>\n",
       "      <th>0</th>\n",
       "      <td>Afghanistan</td>\n",
       "      <td>2020-06-17</td>\n",
       "      <td>5</td>\n",
       "      <td>NaN</td>\n",
       "      <td>NaN</td>\n",
       "      <td>NaN</td>\n",
       "      <td>NaN</td>\n",
       "      <td>NaN</td>\n",
       "      <td>NaN</td>\n",
       "      <td>NaN</td>\n",
       "      <td>...</td>\n",
       "      <td>0.000000</td>\n",
       "      <td>0.05</td>\n",
       "      <td>0.00</td>\n",
       "      <td>0</td>\n",
       "      <td>0</td>\n",
       "      <td>0</td>\n",
       "      <td>1</td>\n",
       "      <td>0</td>\n",
       "      <td>0</td>\n",
       "      <td>0</td>\n",
       "    </tr>\n",
       "    <tr>\n",
       "      <th>1</th>\n",
       "      <td>Albania</td>\n",
       "      <td>2020-06-08</td>\n",
       "      <td>3</td>\n",
       "      <td>Constitution (Articles 100, 170, 174, point 1,...</td>\n",
       "      <td>2020-03-24</td>\n",
       "      <td>NaN</td>\n",
       "      <td>1.0</td>\n",
       "      <td>2020-06-23</td>\n",
       "      <td>1.0</td>\n",
       "      <td>1</td>\n",
       "      <td>...</td>\n",
       "      <td>0.173110</td>\n",
       "      <td>0.15</td>\n",
       "      <td>0.15</td>\n",
       "      <td>0</td>\n",
       "      <td>0</td>\n",
       "      <td>0</td>\n",
       "      <td>3</td>\n",
       "      <td>3</td>\n",
       "      <td>0</td>\n",
       "      <td>0</td>\n",
       "    </tr>\n",
       "    <tr>\n",
       "      <th>2</th>\n",
       "      <td>Algeria</td>\n",
       "      <td>2020-06-22</td>\n",
       "      <td>4</td>\n",
       "      <td>Constitution 1989 (reinst. 1996, rev. 2016), a...</td>\n",
       "      <td>2020-03-21</td>\n",
       "      <td>NaN</td>\n",
       "      <td>1.0</td>\n",
       "      <td>2020-04-04</td>\n",
       "      <td>0.0</td>\n",
       "      <td>0</td>\n",
       "      <td>...</td>\n",
       "      <td>0.123340</td>\n",
       "      <td>0.35</td>\n",
       "      <td>0.35</td>\n",
       "      <td>0</td>\n",
       "      <td>0</td>\n",
       "      <td>0</td>\n",
       "      <td>3</td>\n",
       "      <td>3</td>\n",
       "      <td>2</td>\n",
       "      <td>0</td>\n",
       "    </tr>\n",
       "    <tr>\n",
       "      <th>3</th>\n",
       "      <td>Angola</td>\n",
       "      <td>2020-06-15</td>\n",
       "      <td>1</td>\n",
       "      <td>Constitution Article 58 and Law n. 17/91</td>\n",
       "      <td>2020-03-27</td>\n",
       "      <td>2020-05-25</td>\n",
       "      <td>1.0</td>\n",
       "      <td>2020-04-11</td>\n",
       "      <td>1.0</td>\n",
       "      <td>1</td>\n",
       "      <td>...</td>\n",
       "      <td>0.041671</td>\n",
       "      <td>0.10</td>\n",
       "      <td>0.05</td>\n",
       "      <td>0</td>\n",
       "      <td>0</td>\n",
       "      <td>0</td>\n",
       "      <td>1</td>\n",
       "      <td>0</td>\n",
       "      <td>0</td>\n",
       "      <td>1</td>\n",
       "    </tr>\n",
       "    <tr>\n",
       "      <th>4</th>\n",
       "      <td>Argentina</td>\n",
       "      <td>2020-06-09</td>\n",
       "      <td>4</td>\n",
       "      <td>Ley 27541 - LEY DE SOLIDARIDAD SOCIAL Y REACTI...</td>\n",
       "      <td>2020-03-20</td>\n",
       "      <td>NaN</td>\n",
       "      <td>1.0</td>\n",
       "      <td>2020-03-31</td>\n",
       "      <td>1.0</td>\n",
       "      <td>1</td>\n",
       "      <td>...</td>\n",
       "      <td>0.054786</td>\n",
       "      <td>0.05</td>\n",
       "      <td>0.05</td>\n",
       "      <td>0</td>\n",
       "      <td>0</td>\n",
       "      <td>0</td>\n",
       "      <td>0</td>\n",
       "      <td>0</td>\n",
       "      <td>0</td>\n",
       "      <td>1</td>\n",
       "    </tr>\n",
       "  </tbody>\n",
       "</table>\n",
       "<p>5 rows × 41 columns</p>\n",
       "</div>"
      ],
      "text/plain": [
       "  country_name        time  emlaw  \\\n",
       "0  Afghanistan  2020-06-17      5   \n",
       "1      Albania  2020-06-08      3   \n",
       "2      Algeria  2020-06-22      4   \n",
       "3       Angola  2020-06-15      1   \n",
       "4    Argentina  2020-06-09      4   \n",
       "\n",
       "                                              emname     emstart       emend  \\\n",
       "0                                                NaN         NaN         NaN   \n",
       "1  Constitution (Articles 100, 170, 174, point 1,...  2020-03-24         NaN   \n",
       "2  Constitution 1989 (reinst. 1996, rev. 2016), a...  2020-03-21         NaN   \n",
       "3           Constitution Article 58 and Law n. 17/91  2020-03-27  2020-05-25   \n",
       "4  Ley 27541 - LEY DE SOLIDARIDAD SOCIAL Y REACTI...  2020-03-20         NaN   \n",
       "\n",
       "   emlimit emlimitdate  emlawapp emlegapp  ...   panback  pandem_dis  \\\n",
       "0      NaN         NaN       NaN      NaN  ...  0.000000        0.05   \n",
       "1      1.0  2020-06-23       1.0        1  ...  0.173110        0.15   \n",
       "2      1.0  2020-04-04       0.0        0  ...  0.123340        0.35   \n",
       "3      1.0  2020-04-11       1.0        1  ...  0.041671        0.10   \n",
       "4      1.0  2020-03-31       1.0        1  ...  0.054786        0.05   \n",
       "\n",
       "   pandem_dis_alt  type1  type2 type3 type4  type4_alt  type5  type6  \n",
       "0            0.00      0      0     0     1          0      0      0  \n",
       "1            0.15      0      0     0     3          3      0      0  \n",
       "2            0.35      0      0     0     3          3      2      0  \n",
       "3            0.05      0      0     0     1          0      0      1  \n",
       "4            0.05      0      0     0     0          0      0      1  \n",
       "\n",
       "[5 rows x 41 columns]"
      ]
     },
     "execution_count": 8,
     "metadata": {},
     "output_type": "execute_result"
    }
   ],
   "source": [
    "data.head()"
   ]
  },
  {
   "cell_type": "code",
   "execution_count": 9,
   "metadata": {
    "ExecuteTime": {
     "end_time": "2021-05-10T10:58:09.867869Z",
     "start_time": "2021-05-10T10:58:09.858888Z"
    }
   },
   "outputs": [],
   "source": [
    "data = data[['country_name','pandem','pandem_dis','panback']]"
   ]
  },
  {
   "cell_type": "code",
   "execution_count": 10,
   "metadata": {
    "ExecuteTime": {
     "end_time": "2021-05-10T10:58:09.899777Z",
     "start_time": "2021-05-10T10:58:09.871852Z"
    }
   },
   "outputs": [
    {
     "data": {
      "text/html": [
       "<div>\n",
       "<style scoped>\n",
       "    .dataframe tbody tr th:only-of-type {\n",
       "        vertical-align: middle;\n",
       "    }\n",
       "\n",
       "    .dataframe tbody tr th {\n",
       "        vertical-align: top;\n",
       "    }\n",
       "\n",
       "    .dataframe thead th {\n",
       "        text-align: right;\n",
       "    }\n",
       "</style>\n",
       "<table border=\"1\" class=\"dataframe\">\n",
       "  <thead>\n",
       "    <tr style=\"text-align: right;\">\n",
       "      <th></th>\n",
       "      <th>country_name</th>\n",
       "      <th>pandem</th>\n",
       "      <th>pandem_dis</th>\n",
       "      <th>panback</th>\n",
       "    </tr>\n",
       "  </thead>\n",
       "  <tbody>\n",
       "    <tr>\n",
       "      <th>0</th>\n",
       "      <td>Afghanistan</td>\n",
       "      <td>0.058824</td>\n",
       "      <td>0.05</td>\n",
       "      <td>0.000000</td>\n",
       "    </tr>\n",
       "    <tr>\n",
       "      <th>1</th>\n",
       "      <td>Albania</td>\n",
       "      <td>0.176471</td>\n",
       "      <td>0.15</td>\n",
       "      <td>0.173110</td>\n",
       "    </tr>\n",
       "    <tr>\n",
       "      <th>2</th>\n",
       "      <td>Algeria</td>\n",
       "      <td>0.294118</td>\n",
       "      <td>0.35</td>\n",
       "      <td>0.123340</td>\n",
       "    </tr>\n",
       "    <tr>\n",
       "      <th>3</th>\n",
       "      <td>Angola</td>\n",
       "      <td>0.117647</td>\n",
       "      <td>0.10</td>\n",
       "      <td>0.041671</td>\n",
       "    </tr>\n",
       "    <tr>\n",
       "      <th>4</th>\n",
       "      <td>Argentina</td>\n",
       "      <td>0.058824</td>\n",
       "      <td>0.05</td>\n",
       "      <td>0.054786</td>\n",
       "    </tr>\n",
       "  </tbody>\n",
       "</table>\n",
       "</div>"
      ],
      "text/plain": [
       "  country_name    pandem  pandem_dis   panback\n",
       "0  Afghanistan  0.058824        0.05  0.000000\n",
       "1      Albania  0.176471        0.15  0.173110\n",
       "2      Algeria  0.294118        0.35  0.123340\n",
       "3       Angola  0.117647        0.10  0.041671\n",
       "4    Argentina  0.058824        0.05  0.054786"
      ]
     },
     "execution_count": 10,
     "metadata": {},
     "output_type": "execute_result"
    }
   ],
   "source": [
    "data.head()"
   ]
  },
  {
   "cell_type": "markdown",
   "metadata": {},
   "source": [
    "#### Adding continents and sub-region columns to dataframe"
   ]
  },
  {
   "cell_type": "markdown",
   "metadata": {},
   "source": [
    "https://github.com/lukes/ISO-3166-Countries-with-Regional-Codes/blob/master/all/all.csv"
   ]
  },
  {
   "cell_type": "code",
   "execution_count": 11,
   "metadata": {
    "ExecuteTime": {
     "end_time": "2021-05-10T10:58:09.925709Z",
     "start_time": "2021-05-10T10:58:09.902770Z"
    }
   },
   "outputs": [],
   "source": [
    "continents = pd.read_csv('../../data/main_research/raw_data/country_location.csv')"
   ]
  },
  {
   "cell_type": "code",
   "execution_count": 12,
   "metadata": {
    "ExecuteTime": {
     "end_time": "2021-05-10T10:58:09.952638Z",
     "start_time": "2021-05-10T10:58:09.928700Z"
    }
   },
   "outputs": [
    {
     "data": {
      "text/html": [
       "<div>\n",
       "<style scoped>\n",
       "    .dataframe tbody tr th:only-of-type {\n",
       "        vertical-align: middle;\n",
       "    }\n",
       "\n",
       "    .dataframe tbody tr th {\n",
       "        vertical-align: top;\n",
       "    }\n",
       "\n",
       "    .dataframe thead th {\n",
       "        text-align: right;\n",
       "    }\n",
       "</style>\n",
       "<table border=\"1\" class=\"dataframe\">\n",
       "  <thead>\n",
       "    <tr style=\"text-align: right;\">\n",
       "      <th></th>\n",
       "      <th>name</th>\n",
       "      <th>alpha-2</th>\n",
       "      <th>alpha-3</th>\n",
       "      <th>country-code</th>\n",
       "      <th>iso_3166-2</th>\n",
       "      <th>region</th>\n",
       "      <th>sub-region</th>\n",
       "      <th>intermediate-region</th>\n",
       "      <th>region-code</th>\n",
       "      <th>sub-region-code</th>\n",
       "      <th>intermediate-region-code</th>\n",
       "    </tr>\n",
       "  </thead>\n",
       "  <tbody>\n",
       "    <tr>\n",
       "      <th>0</th>\n",
       "      <td>Afghanistan</td>\n",
       "      <td>AF</td>\n",
       "      <td>AFG</td>\n",
       "      <td>4</td>\n",
       "      <td>ISO 3166-2:AF</td>\n",
       "      <td>Asia</td>\n",
       "      <td>Southern Asia</td>\n",
       "      <td>NaN</td>\n",
       "      <td>142.0</td>\n",
       "      <td>34.0</td>\n",
       "      <td>NaN</td>\n",
       "    </tr>\n",
       "    <tr>\n",
       "      <th>1</th>\n",
       "      <td>Åland Islands</td>\n",
       "      <td>AX</td>\n",
       "      <td>ALA</td>\n",
       "      <td>248</td>\n",
       "      <td>ISO 3166-2:AX</td>\n",
       "      <td>Europe</td>\n",
       "      <td>Northern Europe</td>\n",
       "      <td>NaN</td>\n",
       "      <td>150.0</td>\n",
       "      <td>154.0</td>\n",
       "      <td>NaN</td>\n",
       "    </tr>\n",
       "    <tr>\n",
       "      <th>2</th>\n",
       "      <td>Albania</td>\n",
       "      <td>AL</td>\n",
       "      <td>ALB</td>\n",
       "      <td>8</td>\n",
       "      <td>ISO 3166-2:AL</td>\n",
       "      <td>Europe</td>\n",
       "      <td>Southern Europe</td>\n",
       "      <td>NaN</td>\n",
       "      <td>150.0</td>\n",
       "      <td>39.0</td>\n",
       "      <td>NaN</td>\n",
       "    </tr>\n",
       "    <tr>\n",
       "      <th>3</th>\n",
       "      <td>Algeria</td>\n",
       "      <td>DZ</td>\n",
       "      <td>DZA</td>\n",
       "      <td>12</td>\n",
       "      <td>ISO 3166-2:DZ</td>\n",
       "      <td>Africa</td>\n",
       "      <td>Northern Africa</td>\n",
       "      <td>NaN</td>\n",
       "      <td>2.0</td>\n",
       "      <td>15.0</td>\n",
       "      <td>NaN</td>\n",
       "    </tr>\n",
       "    <tr>\n",
       "      <th>4</th>\n",
       "      <td>American Samoa</td>\n",
       "      <td>AS</td>\n",
       "      <td>ASM</td>\n",
       "      <td>16</td>\n",
       "      <td>ISO 3166-2:AS</td>\n",
       "      <td>Oceania</td>\n",
       "      <td>Polynesia</td>\n",
       "      <td>NaN</td>\n",
       "      <td>9.0</td>\n",
       "      <td>61.0</td>\n",
       "      <td>NaN</td>\n",
       "    </tr>\n",
       "  </tbody>\n",
       "</table>\n",
       "</div>"
      ],
      "text/plain": [
       "             name alpha-2 alpha-3  country-code     iso_3166-2   region  \\\n",
       "0     Afghanistan      AF     AFG             4  ISO 3166-2:AF     Asia   \n",
       "1   Åland Islands      AX     ALA           248  ISO 3166-2:AX   Europe   \n",
       "2         Albania      AL     ALB             8  ISO 3166-2:AL   Europe   \n",
       "3         Algeria      DZ     DZA            12  ISO 3166-2:DZ   Africa   \n",
       "4  American Samoa      AS     ASM            16  ISO 3166-2:AS  Oceania   \n",
       "\n",
       "        sub-region intermediate-region  region-code  sub-region-code  \\\n",
       "0    Southern Asia                 NaN        142.0             34.0   \n",
       "1  Northern Europe                 NaN        150.0            154.0   \n",
       "2  Southern Europe                 NaN        150.0             39.0   \n",
       "3  Northern Africa                 NaN          2.0             15.0   \n",
       "4        Polynesia                 NaN          9.0             61.0   \n",
       "\n",
       "   intermediate-region-code  \n",
       "0                       NaN  \n",
       "1                       NaN  \n",
       "2                       NaN  \n",
       "3                       NaN  \n",
       "4                       NaN  "
      ]
     },
     "execution_count": 12,
     "metadata": {},
     "output_type": "execute_result"
    }
   ],
   "source": [
    "continents.head()"
   ]
  },
  {
   "cell_type": "code",
   "execution_count": 13,
   "metadata": {
    "ExecuteTime": {
     "end_time": "2021-05-10T10:58:09.964603Z",
     "start_time": "2021-05-10T10:58:09.955629Z"
    }
   },
   "outputs": [],
   "source": [
    "continents = continents[['name','alpha-3','region','sub-region']]"
   ]
  },
  {
   "cell_type": "code",
   "execution_count": 14,
   "metadata": {
    "ExecuteTime": {
     "end_time": "2021-05-10T10:58:10.001506Z",
     "start_time": "2021-05-10T10:58:09.967596Z"
    }
   },
   "outputs": [],
   "source": [
    "continents.rename(columns={\"name\": \"country_name\", \"alpha-3\": \"country_txt\", \"region\": \"continent\"}, inplace=True)"
   ]
  },
  {
   "cell_type": "code",
   "execution_count": 15,
   "metadata": {
    "ExecuteTime": {
     "end_time": "2021-05-10T10:58:10.022450Z",
     "start_time": "2021-05-10T10:58:10.005495Z"
    }
   },
   "outputs": [],
   "source": [
    "df = pd.merge(data, continents, how='left', on=['country_name'])"
   ]
  },
  {
   "cell_type": "code",
   "execution_count": 16,
   "metadata": {
    "ExecuteTime": {
     "end_time": "2021-05-10T10:58:10.054364Z",
     "start_time": "2021-05-10T10:58:10.027436Z"
    }
   },
   "outputs": [
    {
     "data": {
      "text/html": [
       "<div>\n",
       "<style scoped>\n",
       "    .dataframe tbody tr th:only-of-type {\n",
       "        vertical-align: middle;\n",
       "    }\n",
       "\n",
       "    .dataframe tbody tr th {\n",
       "        vertical-align: top;\n",
       "    }\n",
       "\n",
       "    .dataframe thead th {\n",
       "        text-align: right;\n",
       "    }\n",
       "</style>\n",
       "<table border=\"1\" class=\"dataframe\">\n",
       "  <thead>\n",
       "    <tr style=\"text-align: right;\">\n",
       "      <th></th>\n",
       "      <th>country_name</th>\n",
       "      <th>pandem</th>\n",
       "      <th>pandem_dis</th>\n",
       "      <th>panback</th>\n",
       "      <th>country_txt</th>\n",
       "      <th>continent</th>\n",
       "      <th>sub-region</th>\n",
       "    </tr>\n",
       "  </thead>\n",
       "  <tbody>\n",
       "    <tr>\n",
       "      <th>0</th>\n",
       "      <td>Afghanistan</td>\n",
       "      <td>0.058824</td>\n",
       "      <td>0.05</td>\n",
       "      <td>0.000000</td>\n",
       "      <td>AFG</td>\n",
       "      <td>Asia</td>\n",
       "      <td>Southern Asia</td>\n",
       "    </tr>\n",
       "    <tr>\n",
       "      <th>1</th>\n",
       "      <td>Albania</td>\n",
       "      <td>0.176471</td>\n",
       "      <td>0.15</td>\n",
       "      <td>0.173110</td>\n",
       "      <td>ALB</td>\n",
       "      <td>Europe</td>\n",
       "      <td>Southern Europe</td>\n",
       "    </tr>\n",
       "    <tr>\n",
       "      <th>2</th>\n",
       "      <td>Algeria</td>\n",
       "      <td>0.294118</td>\n",
       "      <td>0.35</td>\n",
       "      <td>0.123340</td>\n",
       "      <td>DZA</td>\n",
       "      <td>Africa</td>\n",
       "      <td>Northern Africa</td>\n",
       "    </tr>\n",
       "    <tr>\n",
       "      <th>3</th>\n",
       "      <td>Angola</td>\n",
       "      <td>0.117647</td>\n",
       "      <td>0.10</td>\n",
       "      <td>0.041671</td>\n",
       "      <td>AGO</td>\n",
       "      <td>Africa</td>\n",
       "      <td>Sub-Saharan Africa</td>\n",
       "    </tr>\n",
       "    <tr>\n",
       "      <th>4</th>\n",
       "      <td>Argentina</td>\n",
       "      <td>0.058824</td>\n",
       "      <td>0.05</td>\n",
       "      <td>0.054786</td>\n",
       "      <td>ARG</td>\n",
       "      <td>Americas</td>\n",
       "      <td>Latin America and the Caribbean</td>\n",
       "    </tr>\n",
       "  </tbody>\n",
       "</table>\n",
       "</div>"
      ],
      "text/plain": [
       "  country_name    pandem  pandem_dis   panback country_txt continent  \\\n",
       "0  Afghanistan  0.058824        0.05  0.000000         AFG      Asia   \n",
       "1      Albania  0.176471        0.15  0.173110         ALB    Europe   \n",
       "2      Algeria  0.294118        0.35  0.123340         DZA    Africa   \n",
       "3       Angola  0.117647        0.10  0.041671         AGO    Africa   \n",
       "4    Argentina  0.058824        0.05  0.054786         ARG  Americas   \n",
       "\n",
       "                        sub-region  \n",
       "0                    Southern Asia  \n",
       "1                  Southern Europe  \n",
       "2                  Northern Africa  \n",
       "3               Sub-Saharan Africa  \n",
       "4  Latin America and the Caribbean  "
      ]
     },
     "execution_count": 16,
     "metadata": {},
     "output_type": "execute_result"
    }
   ],
   "source": [
    "df.head()"
   ]
  },
  {
   "cell_type": "code",
   "execution_count": 17,
   "metadata": {
    "ExecuteTime": {
     "end_time": "2021-05-10T10:58:10.081291Z",
     "start_time": "2021-05-10T10:58:10.057360Z"
    }
   },
   "outputs": [
    {
     "data": {
      "text/plain": [
       "146"
      ]
     },
     "execution_count": 17,
     "metadata": {},
     "output_type": "execute_result"
    }
   ],
   "source": [
    "len(data)"
   ]
  },
  {
   "cell_type": "code",
   "execution_count": 18,
   "metadata": {
    "ExecuteTime": {
     "end_time": "2021-05-10T10:58:10.102237Z",
     "start_time": "2021-05-10T10:58:10.084284Z"
    }
   },
   "outputs": [
    {
     "data": {
      "text/plain": [
       "146"
      ]
     },
     "execution_count": 18,
     "metadata": {},
     "output_type": "execute_result"
    }
   ],
   "source": [
    "len(df)"
   ]
  },
  {
   "cell_type": "markdown",
   "metadata": {},
   "source": [
    "#### Checking which countries names are different in both datasets and then updating their names"
   ]
  },
  {
   "cell_type": "code",
   "execution_count": 19,
   "metadata": {
    "ExecuteTime": {
     "end_time": "2021-05-10T10:58:10.129163Z",
     "start_time": "2021-05-10T10:58:10.105232Z"
    }
   },
   "outputs": [
    {
     "data": {
      "text/plain": [
       "13                              Bolivia\n",
       "19                        Burma/Myanmar\n",
       "32                       Czech Republic\n",
       "33     Democratic Republic of the Congo\n",
       "55                                 Iran\n",
       "60                          Ivory Coast\n",
       "68                                 Laos\n",
       "80                              Moldova\n",
       "91                          North Korea\n",
       "104               Republic of the Congo\n",
       "106                              Russia\n",
       "117                         South Korea\n",
       "124                               Syria\n",
       "125                              Taiwan\n",
       "127                            Tanzania\n",
       "129                          The Gambia\n",
       "137                      United Kingdom\n",
       "141                           Venezuela\n",
       "142                             Vietnam\n",
       "Name: country_name, dtype: object"
      ]
     },
     "execution_count": 19,
     "metadata": {},
     "output_type": "execute_result"
    }
   ],
   "source": [
    "df1 = df[df.isna().any(axis=1)]\n",
    "df1['country_name']"
   ]
  },
  {
   "cell_type": "code",
   "execution_count": 20,
   "metadata": {
    "ExecuteTime": {
     "end_time": "2021-05-10T10:58:10.164071Z",
     "start_time": "2021-05-10T10:58:10.132156Z"
    }
   },
   "outputs": [
    {
     "data": {
      "text/html": [
       "<div>\n",
       "<style scoped>\n",
       "    .dataframe tbody tr th:only-of-type {\n",
       "        vertical-align: middle;\n",
       "    }\n",
       "\n",
       "    .dataframe tbody tr th {\n",
       "        vertical-align: top;\n",
       "    }\n",
       "\n",
       "    .dataframe thead th {\n",
       "        text-align: right;\n",
       "    }\n",
       "</style>\n",
       "<table border=\"1\" class=\"dataframe\">\n",
       "  <thead>\n",
       "    <tr style=\"text-align: right;\">\n",
       "      <th></th>\n",
       "      <th>country_name</th>\n",
       "      <th>country_txt</th>\n",
       "      <th>continent</th>\n",
       "      <th>sub-region</th>\n",
       "    </tr>\n",
       "  </thead>\n",
       "  <tbody>\n",
       "    <tr>\n",
       "      <th>234</th>\n",
       "      <td>United Kingdom of Great Britain and Northern I...</td>\n",
       "      <td>GBR</td>\n",
       "      <td>Europe</td>\n",
       "      <td>Northern Europe</td>\n",
       "    </tr>\n",
       "    <tr>\n",
       "      <th>235</th>\n",
       "      <td>United States of America</td>\n",
       "      <td>USA</td>\n",
       "      <td>Americas</td>\n",
       "      <td>Northern America</td>\n",
       "    </tr>\n",
       "    <tr>\n",
       "      <th>236</th>\n",
       "      <td>United States Minor Outlying Islands</td>\n",
       "      <td>UMI</td>\n",
       "      <td>Oceania</td>\n",
       "      <td>Micronesia</td>\n",
       "    </tr>\n",
       "    <tr>\n",
       "      <th>237</th>\n",
       "      <td>Uruguay</td>\n",
       "      <td>URY</td>\n",
       "      <td>Americas</td>\n",
       "      <td>Latin America and the Caribbean</td>\n",
       "    </tr>\n",
       "    <tr>\n",
       "      <th>238</th>\n",
       "      <td>Uzbekistan</td>\n",
       "      <td>UZB</td>\n",
       "      <td>Asia</td>\n",
       "      <td>Central Asia</td>\n",
       "    </tr>\n",
       "    <tr>\n",
       "      <th>239</th>\n",
       "      <td>Vanuatu</td>\n",
       "      <td>VUT</td>\n",
       "      <td>Oceania</td>\n",
       "      <td>Melanesia</td>\n",
       "    </tr>\n",
       "    <tr>\n",
       "      <th>240</th>\n",
       "      <td>Venezuela (Bolivarian Republic of)</td>\n",
       "      <td>VEN</td>\n",
       "      <td>Americas</td>\n",
       "      <td>Latin America and the Caribbean</td>\n",
       "    </tr>\n",
       "    <tr>\n",
       "      <th>241</th>\n",
       "      <td>Viet Nam</td>\n",
       "      <td>VNM</td>\n",
       "      <td>Asia</td>\n",
       "      <td>South-eastern Asia</td>\n",
       "    </tr>\n",
       "    <tr>\n",
       "      <th>242</th>\n",
       "      <td>Virgin Islands (British)</td>\n",
       "      <td>VGB</td>\n",
       "      <td>Americas</td>\n",
       "      <td>Latin America and the Caribbean</td>\n",
       "    </tr>\n",
       "    <tr>\n",
       "      <th>243</th>\n",
       "      <td>Virgin Islands (U.S.)</td>\n",
       "      <td>VIR</td>\n",
       "      <td>Americas</td>\n",
       "      <td>Latin America and the Caribbean</td>\n",
       "    </tr>\n",
       "    <tr>\n",
       "      <th>244</th>\n",
       "      <td>Wallis and Futuna</td>\n",
       "      <td>WLF</td>\n",
       "      <td>Oceania</td>\n",
       "      <td>Polynesia</td>\n",
       "    </tr>\n",
       "  </tbody>\n",
       "</table>\n",
       "</div>"
      ],
      "text/plain": [
       "                                          country_name country_txt continent  \\\n",
       "234  United Kingdom of Great Britain and Northern I...         GBR    Europe   \n",
       "235                           United States of America         USA  Americas   \n",
       "236               United States Minor Outlying Islands         UMI   Oceania   \n",
       "237                                            Uruguay         URY  Americas   \n",
       "238                                         Uzbekistan         UZB      Asia   \n",
       "239                                            Vanuatu         VUT   Oceania   \n",
       "240                 Venezuela (Bolivarian Republic of)         VEN  Americas   \n",
       "241                                           Viet Nam         VNM      Asia   \n",
       "242                           Virgin Islands (British)         VGB  Americas   \n",
       "243                              Virgin Islands (U.S.)         VIR  Americas   \n",
       "244                                  Wallis and Futuna         WLF   Oceania   \n",
       "\n",
       "                          sub-region  \n",
       "234                  Northern Europe  \n",
       "235                 Northern America  \n",
       "236                       Micronesia  \n",
       "237  Latin America and the Caribbean  \n",
       "238                     Central Asia  \n",
       "239                        Melanesia  \n",
       "240  Latin America and the Caribbean  \n",
       "241               South-eastern Asia  \n",
       "242  Latin America and the Caribbean  \n",
       "243  Latin America and the Caribbean  \n",
       "244                        Polynesia  "
      ]
     },
     "execution_count": 20,
     "metadata": {},
     "output_type": "execute_result"
    }
   ],
   "source": [
    "continents.loc[234:244]"
   ]
  },
  {
   "cell_type": "code",
   "execution_count": 21,
   "metadata": {
    "ExecuteTime": {
     "end_time": "2021-05-10T10:58:10.190999Z",
     "start_time": "2021-05-10T10:58:10.167063Z"
    }
   },
   "outputs": [],
   "source": [
    "update = {\n",
    "    'Bolivia (Plurinational State of)': 'Bolivia',\n",
    "    'Czechia': 'Czech Republic',\n",
    "    \"Côte d'Ivoire\": 'Ivory Coast',\n",
    "    'Congo, Democratic Republic of the': 'Democratic Republic of the Congo',\n",
    "    'Congo': 'Republic of the Congo',\n",
    "    'Gambia': 'The Gambia',\n",
    "    'Iran (Islamic Republic of)': 'Iran',\n",
    "    \"Korea (Democratic People's Republic of)\": 'North Korea',\n",
    "    'Korea, Republic of': 'South Korea',\n",
    "    \"Lao People's Democratic Republic\": 'Laos',\n",
    "    'Moldova, Republic of': 'Moldova',\n",
    "    'Myanmar': 'Burma/Myanmar',\n",
    "    'Russian Federation': 'Russia',\n",
    "    'Syrian Arab Republic': 'Syria',\n",
    "    'Taiwan, Province of China': 'Taiwan',\n",
    "    'Tanzania, United Republic of': 'Tanzania',\n",
    "    'Venezuela (Bolivarian Republic of)': 'Venezuela',\n",
    "    'Viet Nam': 'Vietnam',\n",
    "    'United Kingdom of Great Britain and Northern Ireland': 'United Kingdom'\n",
    "}"
   ]
  },
  {
   "cell_type": "code",
   "execution_count": 22,
   "metadata": {
    "ExecuteTime": {
     "end_time": "2021-05-10T10:58:10.217927Z",
     "start_time": "2021-05-10T10:58:10.194988Z"
    }
   },
   "outputs": [],
   "source": [
    "continents.replace({\"country_name\": update}, inplace=True)"
   ]
  },
  {
   "cell_type": "code",
   "execution_count": 23,
   "metadata": {
    "ExecuteTime": {
     "end_time": "2021-05-10T10:58:10.251835Z",
     "start_time": "2021-05-10T10:58:10.220919Z"
    }
   },
   "outputs": [
    {
     "data": {
      "text/html": [
       "<div>\n",
       "<style scoped>\n",
       "    .dataframe tbody tr th:only-of-type {\n",
       "        vertical-align: middle;\n",
       "    }\n",
       "\n",
       "    .dataframe tbody tr th {\n",
       "        vertical-align: top;\n",
       "    }\n",
       "\n",
       "    .dataframe thead th {\n",
       "        text-align: right;\n",
       "    }\n",
       "</style>\n",
       "<table border=\"1\" class=\"dataframe\">\n",
       "  <thead>\n",
       "    <tr style=\"text-align: right;\">\n",
       "      <th></th>\n",
       "      <th>country_name</th>\n",
       "      <th>pandem</th>\n",
       "      <th>pandem_dis</th>\n",
       "      <th>panback</th>\n",
       "      <th>country_txt</th>\n",
       "      <th>continent</th>\n",
       "      <th>sub-region</th>\n",
       "    </tr>\n",
       "  </thead>\n",
       "  <tbody>\n",
       "    <tr>\n",
       "      <th>0</th>\n",
       "      <td>Afghanistan</td>\n",
       "      <td>0.058824</td>\n",
       "      <td>0.05</td>\n",
       "      <td>0.000000</td>\n",
       "      <td>AFG</td>\n",
       "      <td>Asia</td>\n",
       "      <td>Southern Asia</td>\n",
       "    </tr>\n",
       "    <tr>\n",
       "      <th>1</th>\n",
       "      <td>Albania</td>\n",
       "      <td>0.176471</td>\n",
       "      <td>0.15</td>\n",
       "      <td>0.173110</td>\n",
       "      <td>ALB</td>\n",
       "      <td>Europe</td>\n",
       "      <td>Southern Europe</td>\n",
       "    </tr>\n",
       "    <tr>\n",
       "      <th>2</th>\n",
       "      <td>Algeria</td>\n",
       "      <td>0.294118</td>\n",
       "      <td>0.35</td>\n",
       "      <td>0.123340</td>\n",
       "      <td>DZA</td>\n",
       "      <td>Africa</td>\n",
       "      <td>Northern Africa</td>\n",
       "    </tr>\n",
       "    <tr>\n",
       "      <th>3</th>\n",
       "      <td>Angola</td>\n",
       "      <td>0.117647</td>\n",
       "      <td>0.10</td>\n",
       "      <td>0.041671</td>\n",
       "      <td>AGO</td>\n",
       "      <td>Africa</td>\n",
       "      <td>Sub-Saharan Africa</td>\n",
       "    </tr>\n",
       "    <tr>\n",
       "      <th>4</th>\n",
       "      <td>Argentina</td>\n",
       "      <td>0.058824</td>\n",
       "      <td>0.05</td>\n",
       "      <td>0.054786</td>\n",
       "      <td>ARG</td>\n",
       "      <td>Americas</td>\n",
       "      <td>Latin America and the Caribbean</td>\n",
       "    </tr>\n",
       "  </tbody>\n",
       "</table>\n",
       "</div>"
      ],
      "text/plain": [
       "  country_name    pandem  pandem_dis   panback country_txt continent  \\\n",
       "0  Afghanistan  0.058824        0.05  0.000000         AFG      Asia   \n",
       "1      Albania  0.176471        0.15  0.173110         ALB    Europe   \n",
       "2      Algeria  0.294118        0.35  0.123340         DZA    Africa   \n",
       "3       Angola  0.117647        0.10  0.041671         AGO    Africa   \n",
       "4    Argentina  0.058824        0.05  0.054786         ARG  Americas   \n",
       "\n",
       "                        sub-region  \n",
       "0                    Southern Asia  \n",
       "1                  Southern Europe  \n",
       "2                  Northern Africa  \n",
       "3               Sub-Saharan Africa  \n",
       "4  Latin America and the Caribbean  "
      ]
     },
     "execution_count": 23,
     "metadata": {},
     "output_type": "execute_result"
    }
   ],
   "source": [
    "df = pd.merge(data, continents, how='left', on=['country_name'])\n",
    "\n",
    "df.head()"
   ]
  },
  {
   "cell_type": "code",
   "execution_count": 24,
   "metadata": {
    "ExecuteTime": {
     "end_time": "2021-05-10T10:58:10.260812Z",
     "start_time": "2021-05-10T10:58:10.253831Z"
    }
   },
   "outputs": [
    {
     "data": {
      "text/plain": [
       "0"
      ]
     },
     "execution_count": 24,
     "metadata": {},
     "output_type": "execute_result"
    }
   ],
   "source": [
    "df['country_txt'].isna().sum()"
   ]
  },
  {
   "cell_type": "markdown",
   "metadata": {},
   "source": [
    "#### Adding income group according to World Bank classification"
   ]
  },
  {
   "cell_type": "markdown",
   "metadata": {
    "ExecuteTime": {
     "end_time": "2020-07-18T16:51:32.990162Z",
     "start_time": "2020-07-18T16:51:32.982306Z"
    }
   },
   "source": [
    "https://datahelpdesk.worldbank.org/knowledgebase/articles/906519-world-bank-country-and-lending-groups"
   ]
  },
  {
   "cell_type": "code",
   "execution_count": 25,
   "metadata": {
    "ExecuteTime": {
     "end_time": "2021-05-10T10:58:10.436351Z",
     "start_time": "2021-05-10T10:58:10.264803Z"
    }
   },
   "outputs": [
    {
     "data": {
      "text/html": [
       "<div>\n",
       "<style scoped>\n",
       "    .dataframe tbody tr th:only-of-type {\n",
       "        vertical-align: middle;\n",
       "    }\n",
       "\n",
       "    .dataframe tbody tr th {\n",
       "        vertical-align: top;\n",
       "    }\n",
       "\n",
       "    .dataframe thead th {\n",
       "        text-align: right;\n",
       "    }\n",
       "</style>\n",
       "<table border=\"1\" class=\"dataframe\">\n",
       "  <thead>\n",
       "    <tr style=\"text-align: right;\">\n",
       "      <th></th>\n",
       "      <th>x</th>\n",
       "      <th>x.1</th>\n",
       "      <th>Economy</th>\n",
       "      <th>Code</th>\n",
       "      <th>X</th>\n",
       "      <th>Region</th>\n",
       "      <th>Income group</th>\n",
       "      <th>Lending category</th>\n",
       "      <th>Other</th>\n",
       "    </tr>\n",
       "  </thead>\n",
       "  <tbody>\n",
       "    <tr>\n",
       "      <th>0</th>\n",
       "      <td>x</td>\n",
       "      <td>x</td>\n",
       "      <td>x</td>\n",
       "      <td>x</td>\n",
       "      <td>x</td>\n",
       "      <td>x</td>\n",
       "      <td>x</td>\n",
       "      <td>x</td>\n",
       "      <td>x</td>\n",
       "    </tr>\n",
       "    <tr>\n",
       "      <th>1</th>\n",
       "      <td>1</td>\n",
       "      <td>NaN</td>\n",
       "      <td>Afghanistan</td>\n",
       "      <td>AFG</td>\n",
       "      <td>NaN</td>\n",
       "      <td>South Asia</td>\n",
       "      <td>Low income</td>\n",
       "      <td>IDA</td>\n",
       "      <td>HIPC</td>\n",
       "    </tr>\n",
       "    <tr>\n",
       "      <th>2</th>\n",
       "      <td>2</td>\n",
       "      <td>NaN</td>\n",
       "      <td>Albania</td>\n",
       "      <td>ALB</td>\n",
       "      <td>NaN</td>\n",
       "      <td>Europe &amp; Central Asia</td>\n",
       "      <td>Upper middle income</td>\n",
       "      <td>IBRD</td>\n",
       "      <td>NaN</td>\n",
       "    </tr>\n",
       "    <tr>\n",
       "      <th>3</th>\n",
       "      <td>3</td>\n",
       "      <td>NaN</td>\n",
       "      <td>Algeria</td>\n",
       "      <td>DZA</td>\n",
       "      <td>NaN</td>\n",
       "      <td>Middle East &amp; North Africa</td>\n",
       "      <td>Lower middle income</td>\n",
       "      <td>IBRD</td>\n",
       "      <td>NaN</td>\n",
       "    </tr>\n",
       "    <tr>\n",
       "      <th>4</th>\n",
       "      <td>4</td>\n",
       "      <td>NaN</td>\n",
       "      <td>American Samoa</td>\n",
       "      <td>ASM</td>\n",
       "      <td>NaN</td>\n",
       "      <td>East Asia &amp; Pacific</td>\n",
       "      <td>Upper middle income</td>\n",
       "      <td>..</td>\n",
       "      <td>NaN</td>\n",
       "    </tr>\n",
       "  </tbody>\n",
       "</table>\n",
       "</div>"
      ],
      "text/plain": [
       "   x  x.1         Economy Code    X                      Region  \\\n",
       "0  x    x               x    x    x                           x   \n",
       "1  1  NaN     Afghanistan  AFG  NaN                  South Asia   \n",
       "2  2  NaN         Albania  ALB  NaN       Europe & Central Asia   \n",
       "3  3  NaN         Algeria  DZA  NaN  Middle East & North Africa   \n",
       "4  4  NaN  American Samoa  ASM  NaN         East Asia & Pacific   \n",
       "\n",
       "          Income group Lending category Other  \n",
       "0                    x                x     x  \n",
       "1           Low income              IDA  HIPC  \n",
       "2  Upper middle income             IBRD   NaN  \n",
       "3  Lower middle income             IBRD   NaN  \n",
       "4  Upper middle income               ..   NaN  "
      ]
     },
     "execution_count": 25,
     "metadata": {},
     "output_type": "execute_result"
    }
   ],
   "source": [
    "classification = pd.read_excel('../../data/main_research/raw_data/country_classification_world_bank.xls', skiprows=4)\n",
    "classification.head()"
   ]
  },
  {
   "cell_type": "code",
   "execution_count": 26,
   "metadata": {
    "ExecuteTime": {
     "end_time": "2021-05-10T10:58:10.489201Z",
     "start_time": "2021-05-10T10:58:10.439335Z"
    }
   },
   "outputs": [
    {
     "data": {
      "text/html": [
       "<div>\n",
       "<style scoped>\n",
       "    .dataframe tbody tr th:only-of-type {\n",
       "        vertical-align: middle;\n",
       "    }\n",
       "\n",
       "    .dataframe tbody tr th {\n",
       "        vertical-align: top;\n",
       "    }\n",
       "\n",
       "    .dataframe thead th {\n",
       "        text-align: right;\n",
       "    }\n",
       "</style>\n",
       "<table border=\"1\" class=\"dataframe\">\n",
       "  <thead>\n",
       "    <tr style=\"text-align: right;\">\n",
       "      <th></th>\n",
       "      <th>country_txt</th>\n",
       "      <th>income_group</th>\n",
       "    </tr>\n",
       "  </thead>\n",
       "  <tbody>\n",
       "    <tr>\n",
       "      <th>214</th>\n",
       "      <td>VIR</td>\n",
       "      <td>High income</td>\n",
       "    </tr>\n",
       "    <tr>\n",
       "      <th>215</th>\n",
       "      <td>PSE</td>\n",
       "      <td>Lower middle income</td>\n",
       "    </tr>\n",
       "    <tr>\n",
       "      <th>216</th>\n",
       "      <td>YEM</td>\n",
       "      <td>Low income</td>\n",
       "    </tr>\n",
       "    <tr>\n",
       "      <th>217</th>\n",
       "      <td>ZMB</td>\n",
       "      <td>Lower middle income</td>\n",
       "    </tr>\n",
       "    <tr>\n",
       "      <th>218</th>\n",
       "      <td>ZWE</td>\n",
       "      <td>Lower middle income</td>\n",
       "    </tr>\n",
       "  </tbody>\n",
       "</table>\n",
       "</div>"
      ],
      "text/plain": [
       "    country_txt         income_group\n",
       "214         VIR          High income\n",
       "215         PSE  Lower middle income\n",
       "216         YEM           Low income\n",
       "217         ZMB  Lower middle income\n",
       "218         ZWE  Lower middle income"
      ]
     },
     "execution_count": 26,
     "metadata": {},
     "output_type": "execute_result"
    }
   ],
   "source": [
    "classification = classification[['Code', 'Income group']].iloc[1:219]\n",
    "classification.rename(columns={\"Code\": \"country_txt\", \"Income group\": \"income_group\"}, inplace=True)\n",
    "classification.tail()"
   ]
  },
  {
   "cell_type": "code",
   "execution_count": 27,
   "metadata": {
    "ExecuteTime": {
     "end_time": "2021-05-10T10:58:10.507152Z",
     "start_time": "2021-05-10T10:58:10.493191Z"
    }
   },
   "outputs": [],
   "source": [
    "# Final merging\n",
    "df = pd.merge(df, classification, how='left', on=['country_txt'])"
   ]
  },
  {
   "cell_type": "code",
   "execution_count": 28,
   "metadata": {
    "ExecuteTime": {
     "end_time": "2021-05-10T10:58:10.537072Z",
     "start_time": "2021-05-10T10:58:10.512142Z"
    }
   },
   "outputs": [],
   "source": [
    "df.to_csv('pandem.csv', index=False)"
   ]
  },
  {
   "cell_type": "code",
   "execution_count": 29,
   "metadata": {
    "ExecuteTime": {
     "end_time": "2021-05-10T10:58:10.547046Z",
     "start_time": "2021-05-10T10:58:10.540065Z"
    }
   },
   "outputs": [],
   "source": [
    "del df\n",
    "del data"
   ]
  },
  {
   "cell_type": "code",
   "execution_count": 30,
   "metadata": {
    "ExecuteTime": {
     "end_time": "2021-05-10T10:58:10.579958Z",
     "start_time": "2021-05-10T10:58:10.551037Z"
    }
   },
   "outputs": [],
   "source": [
    "pandem = pd.read_csv('pandem.csv')"
   ]
  },
  {
   "cell_type": "code",
   "execution_count": 31,
   "metadata": {
    "ExecuteTime": {
     "end_time": "2021-05-10T10:58:10.603897Z",
     "start_time": "2021-05-10T10:58:10.582952Z"
    }
   },
   "outputs": [
    {
     "data": {
      "text/html": [
       "<div>\n",
       "<style scoped>\n",
       "    .dataframe tbody tr th:only-of-type {\n",
       "        vertical-align: middle;\n",
       "    }\n",
       "\n",
       "    .dataframe tbody tr th {\n",
       "        vertical-align: top;\n",
       "    }\n",
       "\n",
       "    .dataframe thead th {\n",
       "        text-align: right;\n",
       "    }\n",
       "</style>\n",
       "<table border=\"1\" class=\"dataframe\">\n",
       "  <thead>\n",
       "    <tr style=\"text-align: right;\">\n",
       "      <th></th>\n",
       "      <th>country_name</th>\n",
       "      <th>pandem</th>\n",
       "      <th>pandem_dis</th>\n",
       "      <th>panback</th>\n",
       "      <th>country_txt</th>\n",
       "      <th>continent</th>\n",
       "      <th>sub-region</th>\n",
       "      <th>income_group</th>\n",
       "    </tr>\n",
       "  </thead>\n",
       "  <tbody>\n",
       "    <tr>\n",
       "      <th>0</th>\n",
       "      <td>Afghanistan</td>\n",
       "      <td>0.058824</td>\n",
       "      <td>0.05</td>\n",
       "      <td>0.000000</td>\n",
       "      <td>AFG</td>\n",
       "      <td>Asia</td>\n",
       "      <td>Southern Asia</td>\n",
       "      <td>Low income</td>\n",
       "    </tr>\n",
       "    <tr>\n",
       "      <th>1</th>\n",
       "      <td>Albania</td>\n",
       "      <td>0.176471</td>\n",
       "      <td>0.15</td>\n",
       "      <td>0.173110</td>\n",
       "      <td>ALB</td>\n",
       "      <td>Europe</td>\n",
       "      <td>Southern Europe</td>\n",
       "      <td>Upper middle income</td>\n",
       "    </tr>\n",
       "    <tr>\n",
       "      <th>2</th>\n",
       "      <td>Algeria</td>\n",
       "      <td>0.294118</td>\n",
       "      <td>0.35</td>\n",
       "      <td>0.123340</td>\n",
       "      <td>DZA</td>\n",
       "      <td>Africa</td>\n",
       "      <td>Northern Africa</td>\n",
       "      <td>Lower middle income</td>\n",
       "    </tr>\n",
       "    <tr>\n",
       "      <th>3</th>\n",
       "      <td>Angola</td>\n",
       "      <td>0.117647</td>\n",
       "      <td>0.10</td>\n",
       "      <td>0.041671</td>\n",
       "      <td>AGO</td>\n",
       "      <td>Africa</td>\n",
       "      <td>Sub-Saharan Africa</td>\n",
       "      <td>Lower middle income</td>\n",
       "    </tr>\n",
       "    <tr>\n",
       "      <th>4</th>\n",
       "      <td>Argentina</td>\n",
       "      <td>0.058824</td>\n",
       "      <td>0.05</td>\n",
       "      <td>0.054786</td>\n",
       "      <td>ARG</td>\n",
       "      <td>Americas</td>\n",
       "      <td>Latin America and the Caribbean</td>\n",
       "      <td>Upper middle income</td>\n",
       "    </tr>\n",
       "  </tbody>\n",
       "</table>\n",
       "</div>"
      ],
      "text/plain": [
       "  country_name    pandem  pandem_dis   panback country_txt continent  \\\n",
       "0  Afghanistan  0.058824        0.05  0.000000         AFG      Asia   \n",
       "1      Albania  0.176471        0.15  0.173110         ALB    Europe   \n",
       "2      Algeria  0.294118        0.35  0.123340         DZA    Africa   \n",
       "3       Angola  0.117647        0.10  0.041671         AGO    Africa   \n",
       "4    Argentina  0.058824        0.05  0.054786         ARG  Americas   \n",
       "\n",
       "                        sub-region         income_group  \n",
       "0                    Southern Asia           Low income  \n",
       "1                  Southern Europe  Upper middle income  \n",
       "2                  Northern Africa  Lower middle income  \n",
       "3               Sub-Saharan Africa  Lower middle income  \n",
       "4  Latin America and the Caribbean  Upper middle income  "
      ]
     },
     "execution_count": 31,
     "metadata": {},
     "output_type": "execute_result"
    }
   ],
   "source": [
    "pandem.head()"
   ]
  },
  {
   "cell_type": "code",
   "execution_count": 32,
   "metadata": {
    "ExecuteTime": {
     "end_time": "2021-05-10T10:58:10.611874Z",
     "start_time": "2021-05-10T10:58:10.606887Z"
    }
   },
   "outputs": [],
   "source": [
    "pandem.rename(columns={'country_txt': 'country_text_id'}, inplace = True)"
   ]
  },
  {
   "cell_type": "markdown",
   "metadata": {},
   "source": [
    "### Checking country_name compliance in vdem and pandem datasets"
   ]
  },
  {
   "cell_type": "code",
   "execution_count": 33,
   "metadata": {
    "ExecuteTime": {
     "end_time": "2021-05-10T10:58:10.746513Z",
     "start_time": "2021-05-10T10:58:10.614865Z"
    }
   },
   "outputs": [
    {
     "name": "stdout",
     "output_type": "stream",
     "text": [
      "146\n",
      "146\n"
     ]
    }
   ],
   "source": [
    "count = vdem[['country_name', 'country_text_id']]\n",
    "countries_df = count.groupby('country_name')['country_text_id'].max().to_frame().reset_index().sort_values(by='country_name')\n",
    "\n",
    "count = pandem[['country_name', 'country_text_id']]\n",
    "countries_df_pandem = count.groupby('country_text_id')['country_name'].max().to_frame().reset_index().sort_values(by='country_text_id')\n",
    "\n",
    "\n",
    "result = pd.merge(countries_df, countries_df_pandem, how='left', on=['country_text_id'])\n",
    "\n",
    "result['differences'] = result['country_name_x'] == result['country_name_y']\n",
    "good = list(result[result['differences'] == True].country_text_id)\n",
    "missings = list(result[result['differences'] == False].country_text_id)\n",
    "print(len(good))\n",
    "print(pandem.shape[0])"
   ]
  },
  {
   "cell_type": "code",
   "execution_count": 34,
   "metadata": {
    "ExecuteTime": {
     "end_time": "2021-05-10T10:58:10.755490Z",
     "start_time": "2021-05-10T10:58:10.748510Z"
    }
   },
   "outputs": [],
   "source": [
    "vdem.rename(columns={'country_name': 'country'}, inplace = True)"
   ]
  },
  {
   "cell_type": "markdown",
   "metadata": {},
   "source": [
    "#### Merging two datasets on 'country_text_id'"
   ]
  },
  {
   "cell_type": "code",
   "execution_count": 35,
   "metadata": {
    "ExecuteTime": {
     "end_time": "2021-05-10T10:58:10.773443Z",
     "start_time": "2021-05-10T10:58:10.759480Z"
    }
   },
   "outputs": [],
   "source": [
    "data = pd.merge(pandem, vdem, how='left', on=['country_text_id'])"
   ]
  },
  {
   "cell_type": "code",
   "execution_count": 36,
   "metadata": {
    "ExecuteTime": {
     "end_time": "2021-05-10T10:58:10.967479Z",
     "start_time": "2021-05-10T10:58:10.935558Z"
    }
   },
   "outputs": [
    {
     "data": {
      "text/html": [
       "<div>\n",
       "<style scoped>\n",
       "    .dataframe tbody tr th:only-of-type {\n",
       "        vertical-align: middle;\n",
       "    }\n",
       "\n",
       "    .dataframe tbody tr th {\n",
       "        vertical-align: top;\n",
       "    }\n",
       "\n",
       "    .dataframe thead th {\n",
       "        text-align: right;\n",
       "    }\n",
       "</style>\n",
       "<table border=\"1\" class=\"dataframe\">\n",
       "  <thead>\n",
       "    <tr style=\"text-align: right;\">\n",
       "      <th></th>\n",
       "      <th>country_name</th>\n",
       "      <th>pandem</th>\n",
       "      <th>pandem_dis</th>\n",
       "      <th>panback</th>\n",
       "      <th>country_text_id</th>\n",
       "      <th>continent</th>\n",
       "      <th>sub-region</th>\n",
       "      <th>income_group</th>\n",
       "      <th>year</th>\n",
       "      <th>rule</th>\n",
       "      <th>region_pol</th>\n",
       "      <th>region_geo</th>\n",
       "      <th>property</th>\n",
       "      <th>polyarchy</th>\n",
       "      <th>justice</th>\n",
       "      <th>education</th>\n",
       "      <th>country</th>\n",
       "    </tr>\n",
       "  </thead>\n",
       "  <tbody>\n",
       "    <tr>\n",
       "      <th>0</th>\n",
       "      <td>Afghanistan</td>\n",
       "      <td>0.058824</td>\n",
       "      <td>0.05</td>\n",
       "      <td>0.000000</td>\n",
       "      <td>AFG</td>\n",
       "      <td>Asia</td>\n",
       "      <td>Southern Asia</td>\n",
       "      <td>Low income</td>\n",
       "      <td>2019</td>\n",
       "      <td>0.341</td>\n",
       "      <td>8</td>\n",
       "      <td>14</td>\n",
       "      <td>0.423</td>\n",
       "      <td>0.347</td>\n",
       "      <td>0.198</td>\n",
       "      <td>3.813</td>\n",
       "      <td>Afghanistan</td>\n",
       "    </tr>\n",
       "    <tr>\n",
       "      <th>1</th>\n",
       "      <td>Albania</td>\n",
       "      <td>0.176471</td>\n",
       "      <td>0.15</td>\n",
       "      <td>0.173110</td>\n",
       "      <td>ALB</td>\n",
       "      <td>Europe</td>\n",
       "      <td>Southern Europe</td>\n",
       "      <td>Upper middle income</td>\n",
       "      <td>2019</td>\n",
       "      <td>0.596</td>\n",
       "      <td>1</td>\n",
       "      <td>3</td>\n",
       "      <td>0.737</td>\n",
       "      <td>0.481</td>\n",
       "      <td>0.936</td>\n",
       "      <td>NaN</td>\n",
       "      <td>Albania</td>\n",
       "    </tr>\n",
       "    <tr>\n",
       "      <th>2</th>\n",
       "      <td>Algeria</td>\n",
       "      <td>0.294118</td>\n",
       "      <td>0.35</td>\n",
       "      <td>0.123340</td>\n",
       "      <td>DZA</td>\n",
       "      <td>Africa</td>\n",
       "      <td>Northern Africa</td>\n",
       "      <td>Lower middle income</td>\n",
       "      <td>2019</td>\n",
       "      <td>0.217</td>\n",
       "      <td>3</td>\n",
       "      <td>5</td>\n",
       "      <td>0.611</td>\n",
       "      <td>0.300</td>\n",
       "      <td>0.500</td>\n",
       "      <td>7.300</td>\n",
       "      <td>Algeria</td>\n",
       "    </tr>\n",
       "    <tr>\n",
       "      <th>3</th>\n",
       "      <td>Angola</td>\n",
       "      <td>0.117647</td>\n",
       "      <td>0.10</td>\n",
       "      <td>0.041671</td>\n",
       "      <td>AGO</td>\n",
       "      <td>Africa</td>\n",
       "      <td>Sub-Saharan Africa</td>\n",
       "      <td>Lower middle income</td>\n",
       "      <td>2019</td>\n",
       "      <td>0.406</td>\n",
       "      <td>4</td>\n",
       "      <td>7</td>\n",
       "      <td>0.603</td>\n",
       "      <td>0.386</td>\n",
       "      <td>0.487</td>\n",
       "      <td>2.980</td>\n",
       "      <td>Angola</td>\n",
       "    </tr>\n",
       "    <tr>\n",
       "      <th>4</th>\n",
       "      <td>Argentina</td>\n",
       "      <td>0.058824</td>\n",
       "      <td>0.05</td>\n",
       "      <td>0.054786</td>\n",
       "      <td>ARG</td>\n",
       "      <td>Americas</td>\n",
       "      <td>Latin America and the Caribbean</td>\n",
       "      <td>Upper middle income</td>\n",
       "      <td>2019</td>\n",
       "      <td>0.757</td>\n",
       "      <td>2</td>\n",
       "      <td>18</td>\n",
       "      <td>0.824</td>\n",
       "      <td>0.812</td>\n",
       "      <td>0.707</td>\n",
       "      <td>8.770</td>\n",
       "      <td>Argentina</td>\n",
       "    </tr>\n",
       "  </tbody>\n",
       "</table>\n",
       "</div>"
      ],
      "text/plain": [
       "  country_name    pandem  pandem_dis   panback country_text_id continent  \\\n",
       "0  Afghanistan  0.058824        0.05  0.000000             AFG      Asia   \n",
       "1      Albania  0.176471        0.15  0.173110             ALB    Europe   \n",
       "2      Algeria  0.294118        0.35  0.123340             DZA    Africa   \n",
       "3       Angola  0.117647        0.10  0.041671             AGO    Africa   \n",
       "4    Argentina  0.058824        0.05  0.054786             ARG  Americas   \n",
       "\n",
       "                        sub-region         income_group  year   rule  \\\n",
       "0                    Southern Asia           Low income  2019  0.341   \n",
       "1                  Southern Europe  Upper middle income  2019  0.596   \n",
       "2                  Northern Africa  Lower middle income  2019  0.217   \n",
       "3               Sub-Saharan Africa  Lower middle income  2019  0.406   \n",
       "4  Latin America and the Caribbean  Upper middle income  2019  0.757   \n",
       "\n",
       "   region_pol  region_geo  property  polyarchy  justice  education  \\\n",
       "0           8          14     0.423      0.347    0.198      3.813   \n",
       "1           1           3     0.737      0.481    0.936        NaN   \n",
       "2           3           5     0.611      0.300    0.500      7.300   \n",
       "3           4           7     0.603      0.386    0.487      2.980   \n",
       "4           2          18     0.824      0.812    0.707      8.770   \n",
       "\n",
       "       country  \n",
       "0  Afghanistan  \n",
       "1      Albania  \n",
       "2      Algeria  \n",
       "3       Angola  \n",
       "4    Argentina  "
      ]
     },
     "execution_count": 36,
     "metadata": {},
     "output_type": "execute_result"
    }
   ],
   "source": [
    "data.head()"
   ]
  },
  {
   "cell_type": "code",
   "execution_count": 37,
   "metadata": {
    "ExecuteTime": {
     "end_time": "2021-05-10T10:58:11.082167Z",
     "start_time": "2021-05-10T10:58:11.073190Z"
    }
   },
   "outputs": [],
   "source": [
    "data.drop(columns=['country'], inplace=True)"
   ]
  },
  {
   "cell_type": "code",
   "execution_count": 38,
   "metadata": {
    "ExecuteTime": {
     "end_time": "2021-05-10T10:58:11.283671Z",
     "start_time": "2021-05-10T10:58:11.273697Z"
    }
   },
   "outputs": [
    {
     "data": {
      "text/plain": [
       "country_name        0\n",
       "pandem              0\n",
       "pandem_dis          0\n",
       "panback             0\n",
       "country_text_id     0\n",
       "continent           0\n",
       "sub-region          0\n",
       "income_group        0\n",
       "year                0\n",
       "rule                0\n",
       "region_pol          0\n",
       "region_geo          0\n",
       "property            0\n",
       "polyarchy           0\n",
       "justice             0\n",
       "education          20\n",
       "dtype: int64"
      ]
     },
     "execution_count": 38,
     "metadata": {},
     "output_type": "execute_result"
    }
   ],
   "source": [
    "data.isna().sum()"
   ]
  },
  {
   "cell_type": "markdown",
   "metadata": {},
   "source": [
    "### World Bank variables"
   ]
  },
  {
   "cell_type": "markdown",
   "metadata": {},
   "source": [
    "#### Shortening dataset to variables for 2010-2019"
   ]
  },
  {
   "cell_type": "code",
   "execution_count": 39,
   "metadata": {
    "ExecuteTime": {
     "end_time": "2021-05-10T10:58:12.232280Z",
     "start_time": "2021-05-10T10:58:11.806035Z"
    }
   },
   "outputs": [],
   "source": [
    "names = ['population_density_world_bank', 'export_gdp_world_bank', 'gdp_pc_world_bank', 'gini_index_world_bank', \n",
    "         'import_gdp_world_bank', 'inflation_world_bank', 'military_world_bank', 'mineral_world_bank', 'oil_world_bank']\n",
    "for i in range(len(names)):\n",
    "    df = pd.read_csv(f'../../data/main_research/raw_data/{names[i]}.csv', sep=',', skiprows=4)\n",
    "    df.drop(columns = ['Indicator Code', 'Indicator Name', 'Unnamed: 64'], inplace=True)\n",
    "    reshaped_df = df.melt(id_vars=['Country Name', 'Country Code'])\n",
    "    reshaped_df.rename(columns={ reshaped_df.columns[0]: \"country_name\", reshaped_df.columns[1]: \"country_text_id\", reshaped_df.columns[3]: f'{names[i]}', reshaped_df.columns[2]: \"year\" }, inplace = True)\n",
    "    reshaped_df = reshaped_df.loc[(reshaped_df.year).astype(int) >= 2010]\n",
    "    if(i == 0):\n",
    "        WB = reshaped_df.copy()\n",
    "    else:\n",
    "        WB[f'{names[i]}'] = reshaped_df[f'{names[i]}']"
   ]
  },
  {
   "cell_type": "code",
   "execution_count": 40,
   "metadata": {
    "ExecuteTime": {
     "end_time": "2021-05-10T10:58:12.268160Z",
     "start_time": "2021-05-10T10:58:12.234203Z"
    }
   },
   "outputs": [
    {
     "data": {
      "text/html": [
       "<div>\n",
       "<style scoped>\n",
       "    .dataframe tbody tr th:only-of-type {\n",
       "        vertical-align: middle;\n",
       "    }\n",
       "\n",
       "    .dataframe tbody tr th {\n",
       "        vertical-align: top;\n",
       "    }\n",
       "\n",
       "    .dataframe thead th {\n",
       "        text-align: right;\n",
       "    }\n",
       "</style>\n",
       "<table border=\"1\" class=\"dataframe\">\n",
       "  <thead>\n",
       "    <tr style=\"text-align: right;\">\n",
       "      <th></th>\n",
       "      <th>country_name</th>\n",
       "      <th>country_text_id</th>\n",
       "      <th>year</th>\n",
       "      <th>population_density_world_bank</th>\n",
       "      <th>export_gdp_world_bank</th>\n",
       "      <th>gdp_pc_world_bank</th>\n",
       "      <th>gini_index_world_bank</th>\n",
       "      <th>import_gdp_world_bank</th>\n",
       "      <th>inflation_world_bank</th>\n",
       "      <th>military_world_bank</th>\n",
       "      <th>mineral_world_bank</th>\n",
       "      <th>oil_world_bank</th>\n",
       "    </tr>\n",
       "  </thead>\n",
       "  <tbody>\n",
       "    <tr>\n",
       "      <th>13200</th>\n",
       "      <td>Aruba</td>\n",
       "      <td>ABW</td>\n",
       "      <td>2010</td>\n",
       "      <td>564.827778</td>\n",
       "      <td>61.042300</td>\n",
       "      <td>23512.602596</td>\n",
       "      <td>NaN</td>\n",
       "      <td>77.564852</td>\n",
       "      <td>2.078141</td>\n",
       "      <td>NaN</td>\n",
       "      <td>0.000000</td>\n",
       "      <td>0.000000</td>\n",
       "    </tr>\n",
       "    <tr>\n",
       "      <th>13201</th>\n",
       "      <td>Afghanistan</td>\n",
       "      <td>AFG</td>\n",
       "      <td>2010</td>\n",
       "      <td>44.704082</td>\n",
       "      <td>16.182633</td>\n",
       "      <td>543.303042</td>\n",
       "      <td>NaN</td>\n",
       "      <td>36.396967</td>\n",
       "      <td>2.178538</td>\n",
       "      <td>1.945837</td>\n",
       "      <td>0.000000</td>\n",
       "      <td>0.004974</td>\n",
       "    </tr>\n",
       "    <tr>\n",
       "      <th>13202</th>\n",
       "      <td>Angola</td>\n",
       "      <td>AGO</td>\n",
       "      <td>2010</td>\n",
       "      <td>18.734456</td>\n",
       "      <td>61.543113</td>\n",
       "      <td>3587.883798</td>\n",
       "      <td>NaN</td>\n",
       "      <td>42.580517</td>\n",
       "      <td>-60.496401</td>\n",
       "      <td>4.177585</td>\n",
       "      <td>0.000000</td>\n",
       "      <td>38.534368</td>\n",
       "    </tr>\n",
       "    <tr>\n",
       "      <th>13203</th>\n",
       "      <td>Albania</td>\n",
       "      <td>ALB</td>\n",
       "      <td>2010</td>\n",
       "      <td>106.314635</td>\n",
       "      <td>27.979423</td>\n",
       "      <td>4094.350334</td>\n",
       "      <td>NaN</td>\n",
       "      <td>48.563932</td>\n",
       "      <td>3.622335</td>\n",
       "      <td>1.558592</td>\n",
       "      <td>0.462026</td>\n",
       "      <td>1.499436</td>\n",
       "    </tr>\n",
       "    <tr>\n",
       "      <th>13204</th>\n",
       "      <td>Andorra</td>\n",
       "      <td>AND</td>\n",
       "      <td>2010</td>\n",
       "      <td>179.678723</td>\n",
       "      <td>NaN</td>\n",
       "      <td>40852.666777</td>\n",
       "      <td>NaN</td>\n",
       "      <td>NaN</td>\n",
       "      <td>NaN</td>\n",
       "      <td>NaN</td>\n",
       "      <td>0.000000</td>\n",
       "      <td>NaN</td>\n",
       "    </tr>\n",
       "  </tbody>\n",
       "</table>\n",
       "</div>"
      ],
      "text/plain": [
       "      country_name country_text_id  year  population_density_world_bank  \\\n",
       "13200        Aruba             ABW  2010                     564.827778   \n",
       "13201  Afghanistan             AFG  2010                      44.704082   \n",
       "13202       Angola             AGO  2010                      18.734456   \n",
       "13203      Albania             ALB  2010                     106.314635   \n",
       "13204      Andorra             AND  2010                     179.678723   \n",
       "\n",
       "       export_gdp_world_bank  gdp_pc_world_bank  gini_index_world_bank  \\\n",
       "13200              61.042300       23512.602596                    NaN   \n",
       "13201              16.182633         543.303042                    NaN   \n",
       "13202              61.543113        3587.883798                    NaN   \n",
       "13203              27.979423        4094.350334                    NaN   \n",
       "13204                    NaN       40852.666777                    NaN   \n",
       "\n",
       "       import_gdp_world_bank  inflation_world_bank  military_world_bank  \\\n",
       "13200              77.564852              2.078141                  NaN   \n",
       "13201              36.396967              2.178538             1.945837   \n",
       "13202              42.580517            -60.496401             4.177585   \n",
       "13203              48.563932              3.622335             1.558592   \n",
       "13204                    NaN                   NaN                  NaN   \n",
       "\n",
       "       mineral_world_bank  oil_world_bank  \n",
       "13200            0.000000        0.000000  \n",
       "13201            0.000000        0.004974  \n",
       "13202            0.000000       38.534368  \n",
       "13203            0.462026        1.499436  \n",
       "13204            0.000000             NaN  "
      ]
     },
     "execution_count": 40,
     "metadata": {},
     "output_type": "execute_result"
    }
   ],
   "source": [
    "WB.head()"
   ]
  },
  {
   "cell_type": "code",
   "execution_count": 41,
   "metadata": {
    "ExecuteTime": {
     "end_time": "2021-05-10T10:58:12.292049Z",
     "start_time": "2021-05-10T10:58:12.270107Z"
    }
   },
   "outputs": [
    {
     "data": {
      "text/plain": [
       "country_name                        0\n",
       "country_text_id                     0\n",
       "year                                0\n",
       "population_density_world_bank     301\n",
       "export_gdp_world_bank             392\n",
       "gdp_pc_world_bank                 169\n",
       "gini_index_world_bank            1996\n",
       "import_gdp_world_bank             392\n",
       "inflation_world_bank              405\n",
       "military_world_bank               897\n",
       "mineral_world_bank                659\n",
       "oil_world_bank                    744\n",
       "dtype: int64"
      ]
     },
     "execution_count": 41,
     "metadata": {},
     "output_type": "execute_result"
    }
   ],
   "source": [
    "WB.isna().sum()"
   ]
  },
  {
   "cell_type": "markdown",
   "metadata": {},
   "source": [
    "#### Filling 'missing values' with the latest value for each country"
   ]
  },
  {
   "cell_type": "code",
   "execution_count": 42,
   "metadata": {
    "ExecuteTime": {
     "end_time": "2021-05-10T10:58:13.506540Z",
     "start_time": "2021-05-10T10:58:12.550402Z"
    }
   },
   "outputs": [],
   "source": [
    "for i in names:\n",
    "    WB[i] = WB.groupby('country_name')[i].fillna(method='ffill')"
   ]
  },
  {
   "cell_type": "code",
   "execution_count": 43,
   "metadata": {
    "ExecuteTime": {
     "end_time": "2021-05-10T10:58:13.534964Z",
     "start_time": "2021-05-10T10:58:13.510023Z"
    }
   },
   "outputs": [
    {
     "data": {
      "text/html": [
       "<div>\n",
       "<style scoped>\n",
       "    .dataframe tbody tr th:only-of-type {\n",
       "        vertical-align: middle;\n",
       "    }\n",
       "\n",
       "    .dataframe tbody tr th {\n",
       "        vertical-align: top;\n",
       "    }\n",
       "\n",
       "    .dataframe thead th {\n",
       "        text-align: right;\n",
       "    }\n",
       "</style>\n",
       "<table border=\"1\" class=\"dataframe\">\n",
       "  <thead>\n",
       "    <tr style=\"text-align: right;\">\n",
       "      <th></th>\n",
       "      <th>country_name</th>\n",
       "      <th>country_text_id</th>\n",
       "      <th>year</th>\n",
       "      <th>population_density_world_bank</th>\n",
       "      <th>export_gdp_world_bank</th>\n",
       "      <th>gdp_pc_world_bank</th>\n",
       "      <th>gini_index_world_bank</th>\n",
       "      <th>import_gdp_world_bank</th>\n",
       "      <th>inflation_world_bank</th>\n",
       "      <th>military_world_bank</th>\n",
       "      <th>mineral_world_bank</th>\n",
       "      <th>oil_world_bank</th>\n",
       "    </tr>\n",
       "  </thead>\n",
       "  <tbody>\n",
       "    <tr>\n",
       "      <th>15576</th>\n",
       "      <td>Aruba</td>\n",
       "      <td>ABW</td>\n",
       "      <td>2019</td>\n",
       "      <td>588.027778</td>\n",
       "      <td>73.332115</td>\n",
       "      <td>29007.693003</td>\n",
       "      <td>NaN</td>\n",
       "      <td>71.632243</td>\n",
       "      <td>4.257462</td>\n",
       "      <td>NaN</td>\n",
       "      <td>0.000000</td>\n",
       "      <td>0.000000</td>\n",
       "    </tr>\n",
       "    <tr>\n",
       "      <th>15577</th>\n",
       "      <td>Afghanistan</td>\n",
       "      <td>AFG</td>\n",
       "      <td>2019</td>\n",
       "      <td>56.937760</td>\n",
       "      <td>7.753798</td>\n",
       "      <td>502.115487</td>\n",
       "      <td>NaN</td>\n",
       "      <td>37.867379</td>\n",
       "      <td>2.302373</td>\n",
       "      <td>0.984561</td>\n",
       "      <td>0.007421</td>\n",
       "      <td>0.001255</td>\n",
       "    </tr>\n",
       "    <tr>\n",
       "      <th>15578</th>\n",
       "      <td>Angola</td>\n",
       "      <td>AGO</td>\n",
       "      <td>2019</td>\n",
       "      <td>24.713052</td>\n",
       "      <td>40.836290</td>\n",
       "      <td>2973.591160</td>\n",
       "      <td>51.3</td>\n",
       "      <td>25.541722</td>\n",
       "      <td>17.145320</td>\n",
       "      <td>1.777138</td>\n",
       "      <td>0.000000</td>\n",
       "      <td>15.753913</td>\n",
       "    </tr>\n",
       "    <tr>\n",
       "      <th>15579</th>\n",
       "      <td>Albania</td>\n",
       "      <td>ALB</td>\n",
       "      <td>2019</td>\n",
       "      <td>104.612263</td>\n",
       "      <td>31.511223</td>\n",
       "      <td>5352.857411</td>\n",
       "      <td>33.2</td>\n",
       "      <td>45.217077</td>\n",
       "      <td>1.411091</td>\n",
       "      <td>1.178901</td>\n",
       "      <td>0.146426</td>\n",
       "      <td>1.365752</td>\n",
       "    </tr>\n",
       "    <tr>\n",
       "      <th>15580</th>\n",
       "      <td>Andorra</td>\n",
       "      <td>AND</td>\n",
       "      <td>2019</td>\n",
       "      <td>163.842553</td>\n",
       "      <td>NaN</td>\n",
       "      <td>40886.391165</td>\n",
       "      <td>NaN</td>\n",
       "      <td>NaN</td>\n",
       "      <td>NaN</td>\n",
       "      <td>NaN</td>\n",
       "      <td>0.000000</td>\n",
       "      <td>NaN</td>\n",
       "    </tr>\n",
       "  </tbody>\n",
       "</table>\n",
       "</div>"
      ],
      "text/plain": [
       "      country_name country_text_id  year  population_density_world_bank  \\\n",
       "15576        Aruba             ABW  2019                     588.027778   \n",
       "15577  Afghanistan             AFG  2019                      56.937760   \n",
       "15578       Angola             AGO  2019                      24.713052   \n",
       "15579      Albania             ALB  2019                     104.612263   \n",
       "15580      Andorra             AND  2019                     163.842553   \n",
       "\n",
       "       export_gdp_world_bank  gdp_pc_world_bank  gini_index_world_bank  \\\n",
       "15576              73.332115       29007.693003                    NaN   \n",
       "15577               7.753798         502.115487                    NaN   \n",
       "15578              40.836290        2973.591160                   51.3   \n",
       "15579              31.511223        5352.857411                   33.2   \n",
       "15580                    NaN       40886.391165                    NaN   \n",
       "\n",
       "       import_gdp_world_bank  inflation_world_bank  military_world_bank  \\\n",
       "15576              71.632243              4.257462                  NaN   \n",
       "15577              37.867379              2.302373             0.984561   \n",
       "15578              25.541722             17.145320             1.777138   \n",
       "15579              45.217077              1.411091             1.178901   \n",
       "15580                    NaN                   NaN                  NaN   \n",
       "\n",
       "       mineral_world_bank  oil_world_bank  \n",
       "15576            0.000000        0.000000  \n",
       "15577            0.007421        0.001255  \n",
       "15578            0.000000       15.753913  \n",
       "15579            0.146426        1.365752  \n",
       "15580            0.000000             NaN  "
      ]
     },
     "execution_count": 43,
     "metadata": {},
     "output_type": "execute_result"
    }
   ],
   "source": [
    "WB = WB.loc[(WB.year).astype(int) >= 2019]\n",
    "WB.head()"
   ]
  },
  {
   "cell_type": "code",
   "execution_count": 44,
   "metadata": {
    "ExecuteTime": {
     "end_time": "2021-05-10T10:58:13.547931Z",
     "start_time": "2021-05-10T10:58:13.537963Z"
    }
   },
   "outputs": [
    {
     "data": {
      "text/plain": [
       "country_name                       0\n",
       "country_text_id                    0\n",
       "year                               0\n",
       "population_density_world_bank      3\n",
       "export_gdp_world_bank             25\n",
       "gdp_pc_world_bank                 11\n",
       "gini_index_world_bank            115\n",
       "import_gdp_world_bank             25\n",
       "inflation_world_bank              30\n",
       "military_world_bank               59\n",
       "mineral_world_bank                13\n",
       "oil_world_bank                    24\n",
       "dtype: int64"
      ]
     },
     "execution_count": 44,
     "metadata": {},
     "output_type": "execute_result"
    }
   ],
   "source": [
    "WB.isna().sum()"
   ]
  },
  {
   "cell_type": "markdown",
   "metadata": {},
   "source": [
    "#### Filling 'missing values' with 0 for 'Oil' and 'Mineral' variables (The assumption that in the absence of complete data for 2010-2019 - the country does not produce oil / mineral)"
   ]
  },
  {
   "cell_type": "code",
   "execution_count": 45,
   "metadata": {
    "ExecuteTime": {
     "end_time": "2021-05-10T10:58:13.587823Z",
     "start_time": "2021-05-10T10:58:13.550922Z"
    }
   },
   "outputs": [],
   "source": [
    "WB['oil_world_bank'] = WB['oil_world_bank'].fillna(0)\n",
    "WB['mineral_world_bank'] = WB['mineral_world_bank'].fillna(0)"
   ]
  },
  {
   "cell_type": "code",
   "execution_count": 46,
   "metadata": {
    "ExecuteTime": {
     "end_time": "2021-05-10T10:58:13.604777Z",
     "start_time": "2021-05-10T10:58:13.592826Z"
    }
   },
   "outputs": [
    {
     "data": {
      "text/plain": [
       "country_name                       0\n",
       "country_text_id                    0\n",
       "year                               0\n",
       "population_density_world_bank      3\n",
       "export_gdp_world_bank             25\n",
       "gdp_pc_world_bank                 11\n",
       "gini_index_world_bank            115\n",
       "import_gdp_world_bank             25\n",
       "inflation_world_bank              30\n",
       "military_world_bank               59\n",
       "mineral_world_bank                 0\n",
       "oil_world_bank                     0\n",
       "dtype: int64"
      ]
     },
     "execution_count": 46,
     "metadata": {},
     "output_type": "execute_result"
    }
   ],
   "source": [
    "WB.isna().sum()"
   ]
  },
  {
   "cell_type": "markdown",
   "metadata": {},
   "source": [
    "### Checking country name compliance in both datasets"
   ]
  },
  {
   "cell_type": "code",
   "execution_count": 47,
   "metadata": {
    "ExecuteTime": {
     "end_time": "2021-05-10T10:58:13.952455Z",
     "start_time": "2021-05-10T10:58:13.843745Z"
    }
   },
   "outputs": [
    {
     "name": "stdout",
     "output_type": "stream",
     "text": [
      "128\n",
      "146\n"
     ]
    }
   ],
   "source": [
    "count = WB[['country_name', 'country_text_id']]\n",
    "countries_df = count.groupby('country_name')['country_text_id'].max().to_frame().reset_index().sort_values(by='country_name')\n",
    "\n",
    "count = pandem[['country_name', 'country_text_id']]\n",
    "countries_df_pandem = count.groupby('country_text_id')['country_name'].max().to_frame().reset_index().sort_values(by='country_text_id')\n",
    "\n",
    "\n",
    "result = pd.merge(countries_df_pandem, countries_df, how='left', on=['country_text_id'])\n",
    "\n",
    "result['differences'] = result['country_name_x'] == result['country_name_y']\n",
    "good = list(result[result['differences'] == True].country_text_id)\n",
    "missings = list(result[result['differences'] == False].country_text_id)\n",
    "print(len(good))\n",
    "print(pandem.shape[0])"
   ]
  },
  {
   "cell_type": "code",
   "execution_count": 48,
   "metadata": {
    "ExecuteTime": {
     "end_time": "2021-05-10T10:58:14.040809Z",
     "start_time": "2021-05-10T10:58:14.025848Z"
    }
   },
   "outputs": [
    {
     "data": {
      "text/html": [
       "<div>\n",
       "<style scoped>\n",
       "    .dataframe tbody tr th:only-of-type {\n",
       "        vertical-align: middle;\n",
       "    }\n",
       "\n",
       "    .dataframe tbody tr th {\n",
       "        vertical-align: top;\n",
       "    }\n",
       "\n",
       "    .dataframe thead th {\n",
       "        text-align: right;\n",
       "    }\n",
       "</style>\n",
       "<table border=\"1\" class=\"dataframe\">\n",
       "  <thead>\n",
       "    <tr style=\"text-align: right;\">\n",
       "      <th></th>\n",
       "      <th>country_text_id</th>\n",
       "      <th>country_name_x</th>\n",
       "      <th>country_name_y</th>\n",
       "      <th>differences</th>\n",
       "    </tr>\n",
       "  </thead>\n",
       "  <tbody>\n",
       "    <tr>\n",
       "      <th>141</th>\n",
       "      <td>VNM</td>\n",
       "      <td>Vietnam</td>\n",
       "      <td>Vietnam</td>\n",
       "      <td>True</td>\n",
       "    </tr>\n",
       "    <tr>\n",
       "      <th>142</th>\n",
       "      <td>YEM</td>\n",
       "      <td>Yemen</td>\n",
       "      <td>Yemen, Rep.</td>\n",
       "      <td>False</td>\n",
       "    </tr>\n",
       "    <tr>\n",
       "      <th>143</th>\n",
       "      <td>ZAF</td>\n",
       "      <td>South Africa</td>\n",
       "      <td>South Africa</td>\n",
       "      <td>True</td>\n",
       "    </tr>\n",
       "    <tr>\n",
       "      <th>144</th>\n",
       "      <td>ZMB</td>\n",
       "      <td>Zambia</td>\n",
       "      <td>Zambia</td>\n",
       "      <td>True</td>\n",
       "    </tr>\n",
       "    <tr>\n",
       "      <th>145</th>\n",
       "      <td>ZWE</td>\n",
       "      <td>Zimbabwe</td>\n",
       "      <td>Zimbabwe</td>\n",
       "      <td>True</td>\n",
       "    </tr>\n",
       "  </tbody>\n",
       "</table>\n",
       "</div>"
      ],
      "text/plain": [
       "    country_text_id country_name_x country_name_y  differences\n",
       "141             VNM        Vietnam        Vietnam         True\n",
       "142             YEM          Yemen    Yemen, Rep.        False\n",
       "143             ZAF   South Africa   South Africa         True\n",
       "144             ZMB         Zambia         Zambia         True\n",
       "145             ZWE       Zimbabwe       Zimbabwe         True"
      ]
     },
     "execution_count": 48,
     "metadata": {},
     "output_type": "execute_result"
    }
   ],
   "source": [
    "result.tail()"
   ]
  },
  {
   "cell_type": "code",
   "execution_count": 49,
   "metadata": {
    "ExecuteTime": {
     "end_time": "2021-05-10T10:58:14.206114Z",
     "start_time": "2021-05-10T10:58:14.197133Z"
    }
   },
   "outputs": [
    {
     "data": {
      "text/plain": [
       "country_text_id    0\n",
       "country_name_x     0\n",
       "country_name_y     1\n",
       "differences        0\n",
       "dtype: int64"
      ]
     },
     "execution_count": 49,
     "metadata": {},
     "output_type": "execute_result"
    }
   ],
   "source": [
    "result.isna().sum()\n",
    "## Only one country without 'country_text_id' in World Bank database"
   ]
  },
  {
   "cell_type": "code",
   "execution_count": 50,
   "metadata": {
    "ExecuteTime": {
     "end_time": "2021-05-10T10:58:14.411001Z",
     "start_time": "2021-05-10T10:58:14.392051Z"
    }
   },
   "outputs": [
    {
     "data": {
      "text/html": [
       "<div>\n",
       "<style scoped>\n",
       "    .dataframe tbody tr th:only-of-type {\n",
       "        vertical-align: middle;\n",
       "    }\n",
       "\n",
       "    .dataframe tbody tr th {\n",
       "        vertical-align: top;\n",
       "    }\n",
       "\n",
       "    .dataframe thead th {\n",
       "        text-align: right;\n",
       "    }\n",
       "</style>\n",
       "<table border=\"1\" class=\"dataframe\">\n",
       "  <thead>\n",
       "    <tr style=\"text-align: right;\">\n",
       "      <th></th>\n",
       "      <th>country_text_id</th>\n",
       "      <th>country_name_x</th>\n",
       "      <th>country_name_y</th>\n",
       "      <th>differences</th>\n",
       "    </tr>\n",
       "  </thead>\n",
       "  <tbody>\n",
       "    <tr>\n",
       "      <th>133</th>\n",
       "      <td>TWN</td>\n",
       "      <td>Taiwan</td>\n",
       "      <td>NaN</td>\n",
       "      <td>False</td>\n",
       "    </tr>\n",
       "  </tbody>\n",
       "</table>\n",
       "</div>"
      ],
      "text/plain": [
       "    country_text_id country_name_x country_name_y  differences\n",
       "133             TWN         Taiwan            NaN        False"
      ]
     },
     "execution_count": 50,
     "metadata": {},
     "output_type": "execute_result"
    }
   ],
   "source": [
    "result.loc[result['country_name_y'].isna()]"
   ]
  },
  {
   "cell_type": "code",
   "execution_count": 51,
   "metadata": {
    "ExecuteTime": {
     "end_time": "2021-05-10T10:58:14.606518Z",
     "start_time": "2021-05-10T10:58:14.589564Z"
    }
   },
   "outputs": [
    {
     "data": {
      "text/html": [
       "<div>\n",
       "<style scoped>\n",
       "    .dataframe tbody tr th:only-of-type {\n",
       "        vertical-align: middle;\n",
       "    }\n",
       "\n",
       "    .dataframe tbody tr th {\n",
       "        vertical-align: top;\n",
       "    }\n",
       "\n",
       "    .dataframe thead th {\n",
       "        text-align: right;\n",
       "    }\n",
       "</style>\n",
       "<table border=\"1\" class=\"dataframe\">\n",
       "  <thead>\n",
       "    <tr style=\"text-align: right;\">\n",
       "      <th></th>\n",
       "      <th>country_name</th>\n",
       "      <th>country_text_id</th>\n",
       "      <th>year</th>\n",
       "      <th>population_density_world_bank</th>\n",
       "      <th>export_gdp_world_bank</th>\n",
       "      <th>gdp_pc_world_bank</th>\n",
       "      <th>gini_index_world_bank</th>\n",
       "      <th>import_gdp_world_bank</th>\n",
       "      <th>inflation_world_bank</th>\n",
       "      <th>military_world_bank</th>\n",
       "      <th>mineral_world_bank</th>\n",
       "      <th>oil_world_bank</th>\n",
       "    </tr>\n",
       "  </thead>\n",
       "  <tbody>\n",
       "  </tbody>\n",
       "</table>\n",
       "</div>"
      ],
      "text/plain": [
       "Empty DataFrame\n",
       "Columns: [country_name, country_text_id, year, population_density_world_bank, export_gdp_world_bank, gdp_pc_world_bank, gini_index_world_bank, import_gdp_world_bank, inflation_world_bank, military_world_bank, mineral_world_bank, oil_world_bank]\n",
       "Index: []"
      ]
     },
     "execution_count": 51,
     "metadata": {},
     "output_type": "execute_result"
    }
   ],
   "source": [
    "WB.loc[WB.country_name.str.contains('Taiwan')]"
   ]
  },
  {
   "cell_type": "markdown",
   "metadata": {
    "ExecuteTime": {
     "end_time": "2020-07-26T10:44:58.773492Z",
     "start_time": "2020-07-26T10:44:58.766086Z"
    }
   },
   "source": [
    "https://datahelpdesk.worldbank.org/knowledgebase/articles/114933-where-are-your-data-on-taiwan\n",
    "\n",
    "#### Taiwan, China, is not listed as a separate country for World Development Indicators"
   ]
  },
  {
   "cell_type": "code",
   "execution_count": 52,
   "metadata": {
    "ExecuteTime": {
     "end_time": "2021-05-10T10:58:15.308487Z",
     "start_time": "2021-05-10T10:58:15.291526Z"
    }
   },
   "outputs": [],
   "source": [
    "WB.drop(columns=['country_name'], inplace=True)\n",
    "WB.drop(columns=['year'], inplace=True)\n",
    "data = pd.merge(data, WB, how='left', on=['country_text_id'])"
   ]
  },
  {
   "cell_type": "code",
   "execution_count": 53,
   "metadata": {
    "ExecuteTime": {
     "end_time": "2021-05-10T10:58:15.507908Z",
     "start_time": "2021-05-10T10:58:15.468013Z"
    }
   },
   "outputs": [
    {
     "data": {
      "text/html": [
       "<div>\n",
       "<style scoped>\n",
       "    .dataframe tbody tr th:only-of-type {\n",
       "        vertical-align: middle;\n",
       "    }\n",
       "\n",
       "    .dataframe tbody tr th {\n",
       "        vertical-align: top;\n",
       "    }\n",
       "\n",
       "    .dataframe thead th {\n",
       "        text-align: right;\n",
       "    }\n",
       "</style>\n",
       "<table border=\"1\" class=\"dataframe\">\n",
       "  <thead>\n",
       "    <tr style=\"text-align: right;\">\n",
       "      <th></th>\n",
       "      <th>country_name</th>\n",
       "      <th>pandem</th>\n",
       "      <th>pandem_dis</th>\n",
       "      <th>panback</th>\n",
       "      <th>country_text_id</th>\n",
       "      <th>continent</th>\n",
       "      <th>sub-region</th>\n",
       "      <th>income_group</th>\n",
       "      <th>year</th>\n",
       "      <th>rule</th>\n",
       "      <th>...</th>\n",
       "      <th>education</th>\n",
       "      <th>population_density_world_bank</th>\n",
       "      <th>export_gdp_world_bank</th>\n",
       "      <th>gdp_pc_world_bank</th>\n",
       "      <th>gini_index_world_bank</th>\n",
       "      <th>import_gdp_world_bank</th>\n",
       "      <th>inflation_world_bank</th>\n",
       "      <th>military_world_bank</th>\n",
       "      <th>mineral_world_bank</th>\n",
       "      <th>oil_world_bank</th>\n",
       "    </tr>\n",
       "  </thead>\n",
       "  <tbody>\n",
       "    <tr>\n",
       "      <th>0</th>\n",
       "      <td>Afghanistan</td>\n",
       "      <td>0.058824</td>\n",
       "      <td>0.05</td>\n",
       "      <td>0.000000</td>\n",
       "      <td>AFG</td>\n",
       "      <td>Asia</td>\n",
       "      <td>Southern Asia</td>\n",
       "      <td>Low income</td>\n",
       "      <td>2019</td>\n",
       "      <td>0.341</td>\n",
       "      <td>...</td>\n",
       "      <td>3.813</td>\n",
       "      <td>56.937760</td>\n",
       "      <td>7.753798</td>\n",
       "      <td>502.115487</td>\n",
       "      <td>NaN</td>\n",
       "      <td>37.867379</td>\n",
       "      <td>2.302373</td>\n",
       "      <td>0.984561</td>\n",
       "      <td>0.007421</td>\n",
       "      <td>0.001255</td>\n",
       "    </tr>\n",
       "    <tr>\n",
       "      <th>1</th>\n",
       "      <td>Albania</td>\n",
       "      <td>0.176471</td>\n",
       "      <td>0.15</td>\n",
       "      <td>0.173110</td>\n",
       "      <td>ALB</td>\n",
       "      <td>Europe</td>\n",
       "      <td>Southern Europe</td>\n",
       "      <td>Upper middle income</td>\n",
       "      <td>2019</td>\n",
       "      <td>0.596</td>\n",
       "      <td>...</td>\n",
       "      <td>NaN</td>\n",
       "      <td>104.612263</td>\n",
       "      <td>31.511223</td>\n",
       "      <td>5352.857411</td>\n",
       "      <td>33.2</td>\n",
       "      <td>45.217077</td>\n",
       "      <td>1.411091</td>\n",
       "      <td>1.178901</td>\n",
       "      <td>0.146426</td>\n",
       "      <td>1.365752</td>\n",
       "    </tr>\n",
       "    <tr>\n",
       "      <th>2</th>\n",
       "      <td>Algeria</td>\n",
       "      <td>0.294118</td>\n",
       "      <td>0.35</td>\n",
       "      <td>0.123340</td>\n",
       "      <td>DZA</td>\n",
       "      <td>Africa</td>\n",
       "      <td>Northern Africa</td>\n",
       "      <td>Lower middle income</td>\n",
       "      <td>2019</td>\n",
       "      <td>0.217</td>\n",
       "      <td>...</td>\n",
       "      <td>7.300</td>\n",
       "      <td>17.730075</td>\n",
       "      <td>22.570151</td>\n",
       "      <td>3948.343279</td>\n",
       "      <td>27.6</td>\n",
       "      <td>29.474623</td>\n",
       "      <td>1.951768</td>\n",
       "      <td>5.271414</td>\n",
       "      <td>0.046717</td>\n",
       "      <td>12.313697</td>\n",
       "    </tr>\n",
       "    <tr>\n",
       "      <th>3</th>\n",
       "      <td>Angola</td>\n",
       "      <td>0.117647</td>\n",
       "      <td>0.10</td>\n",
       "      <td>0.041671</td>\n",
       "      <td>AGO</td>\n",
       "      <td>Africa</td>\n",
       "      <td>Sub-Saharan Africa</td>\n",
       "      <td>Lower middle income</td>\n",
       "      <td>2019</td>\n",
       "      <td>0.406</td>\n",
       "      <td>...</td>\n",
       "      <td>2.980</td>\n",
       "      <td>24.713052</td>\n",
       "      <td>40.836290</td>\n",
       "      <td>2973.591160</td>\n",
       "      <td>51.3</td>\n",
       "      <td>25.541722</td>\n",
       "      <td>17.145320</td>\n",
       "      <td>1.777138</td>\n",
       "      <td>0.000000</td>\n",
       "      <td>15.753913</td>\n",
       "    </tr>\n",
       "    <tr>\n",
       "      <th>4</th>\n",
       "      <td>Argentina</td>\n",
       "      <td>0.058824</td>\n",
       "      <td>0.05</td>\n",
       "      <td>0.054786</td>\n",
       "      <td>ARG</td>\n",
       "      <td>Americas</td>\n",
       "      <td>Latin America and the Caribbean</td>\n",
       "      <td>Upper middle income</td>\n",
       "      <td>2019</td>\n",
       "      <td>0.757</td>\n",
       "      <td>...</td>\n",
       "      <td>8.770</td>\n",
       "      <td>16.258510</td>\n",
       "      <td>17.290218</td>\n",
       "      <td>10006.148974</td>\n",
       "      <td>41.4</td>\n",
       "      <td>15.103448</td>\n",
       "      <td>53.548304</td>\n",
       "      <td>0.854561</td>\n",
       "      <td>0.308310</td>\n",
       "      <td>0.735824</td>\n",
       "    </tr>\n",
       "  </tbody>\n",
       "</table>\n",
       "<p>5 rows × 25 columns</p>\n",
       "</div>"
      ],
      "text/plain": [
       "  country_name    pandem  pandem_dis   panback country_text_id continent  \\\n",
       "0  Afghanistan  0.058824        0.05  0.000000             AFG      Asia   \n",
       "1      Albania  0.176471        0.15  0.173110             ALB    Europe   \n",
       "2      Algeria  0.294118        0.35  0.123340             DZA    Africa   \n",
       "3       Angola  0.117647        0.10  0.041671             AGO    Africa   \n",
       "4    Argentina  0.058824        0.05  0.054786             ARG  Americas   \n",
       "\n",
       "                        sub-region         income_group  year   rule  ...  \\\n",
       "0                    Southern Asia           Low income  2019  0.341  ...   \n",
       "1                  Southern Europe  Upper middle income  2019  0.596  ...   \n",
       "2                  Northern Africa  Lower middle income  2019  0.217  ...   \n",
       "3               Sub-Saharan Africa  Lower middle income  2019  0.406  ...   \n",
       "4  Latin America and the Caribbean  Upper middle income  2019  0.757  ...   \n",
       "\n",
       "   education  population_density_world_bank  export_gdp_world_bank  \\\n",
       "0      3.813                      56.937760               7.753798   \n",
       "1        NaN                     104.612263              31.511223   \n",
       "2      7.300                      17.730075              22.570151   \n",
       "3      2.980                      24.713052              40.836290   \n",
       "4      8.770                      16.258510              17.290218   \n",
       "\n",
       "   gdp_pc_world_bank  gini_index_world_bank  import_gdp_world_bank  \\\n",
       "0         502.115487                    NaN              37.867379   \n",
       "1        5352.857411                   33.2              45.217077   \n",
       "2        3948.343279                   27.6              29.474623   \n",
       "3        2973.591160                   51.3              25.541722   \n",
       "4       10006.148974                   41.4              15.103448   \n",
       "\n",
       "   inflation_world_bank  military_world_bank  mineral_world_bank  \\\n",
       "0              2.302373             0.984561            0.007421   \n",
       "1              1.411091             1.178901            0.146426   \n",
       "2              1.951768             5.271414            0.046717   \n",
       "3             17.145320             1.777138            0.000000   \n",
       "4             53.548304             0.854561            0.308310   \n",
       "\n",
       "   oil_world_bank  \n",
       "0        0.001255  \n",
       "1        1.365752  \n",
       "2       12.313697  \n",
       "3       15.753913  \n",
       "4        0.735824  \n",
       "\n",
       "[5 rows x 25 columns]"
      ]
     },
     "execution_count": 53,
     "metadata": {},
     "output_type": "execute_result"
    }
   ],
   "source": [
    "data.head()"
   ]
  },
  {
   "cell_type": "markdown",
   "metadata": {},
   "source": [
    "### Fractionalization dataset"
   ]
  },
  {
   "cell_type": "code",
   "execution_count": 54,
   "metadata": {
    "ExecuteTime": {
     "end_time": "2021-05-10T10:58:15.955885Z",
     "start_time": "2021-05-10T10:58:15.874105Z"
    }
   },
   "outputs": [],
   "source": [
    "frac = pd.read_excel('../../data/main_research/raw_data/fractionalization.xlsx')"
   ]
  },
  {
   "cell_type": "code",
   "execution_count": 55,
   "metadata": {
    "ExecuteTime": {
     "end_time": "2021-05-10T10:58:16.081550Z",
     "start_time": "2021-05-10T10:58:16.060606Z"
    }
   },
   "outputs": [
    {
     "data": {
      "text/html": [
       "<div>\n",
       "<style scoped>\n",
       "    .dataframe tbody tr th:only-of-type {\n",
       "        vertical-align: middle;\n",
       "    }\n",
       "\n",
       "    .dataframe tbody tr th {\n",
       "        vertical-align: top;\n",
       "    }\n",
       "\n",
       "    .dataframe thead th {\n",
       "        text-align: right;\n",
       "    }\n",
       "</style>\n",
       "<table border=\"1\" class=\"dataframe\">\n",
       "  <thead>\n",
       "    <tr style=\"text-align: right;\">\n",
       "      <th></th>\n",
       "      <th>country_name</th>\n",
       "      <th>ethnic_frac</th>\n",
       "      <th>ling_frac</th>\n",
       "      <th>relig_frac</th>\n",
       "    </tr>\n",
       "  </thead>\n",
       "  <tbody>\n",
       "    <tr>\n",
       "      <th>0</th>\n",
       "      <td>Afghanistan</td>\n",
       "      <td>0.7693</td>\n",
       "      <td>0.6141</td>\n",
       "      <td>0.2717</td>\n",
       "    </tr>\n",
       "    <tr>\n",
       "      <th>1</th>\n",
       "      <td>Albania</td>\n",
       "      <td>0.2204</td>\n",
       "      <td>0.0400</td>\n",
       "      <td>0.4719</td>\n",
       "    </tr>\n",
       "    <tr>\n",
       "      <th>2</th>\n",
       "      <td>Algeria</td>\n",
       "      <td>0.3394</td>\n",
       "      <td>0.4427</td>\n",
       "      <td>0.0100</td>\n",
       "    </tr>\n",
       "    <tr>\n",
       "      <th>3</th>\n",
       "      <td>American Samoa</td>\n",
       "      <td>0.0000</td>\n",
       "      <td>0.1733</td>\n",
       "      <td>0.6395</td>\n",
       "    </tr>\n",
       "    <tr>\n",
       "      <th>4</th>\n",
       "      <td>Andorra</td>\n",
       "      <td>0.7139</td>\n",
       "      <td>0.6848</td>\n",
       "      <td>0.2326</td>\n",
       "    </tr>\n",
       "  </tbody>\n",
       "</table>\n",
       "</div>"
      ],
      "text/plain": [
       "     country_name  ethnic_frac  ling_frac  relig_frac\n",
       "0     Afghanistan       0.7693     0.6141      0.2717\n",
       "1         Albania       0.2204     0.0400      0.4719\n",
       "2         Algeria       0.3394     0.4427      0.0100\n",
       "3  American Samoa       0.0000     0.1733      0.6395\n",
       "4         Andorra       0.7139     0.6848      0.2326"
      ]
     },
     "execution_count": 55,
     "metadata": {},
     "output_type": "execute_result"
    }
   ],
   "source": [
    "frac.head()"
   ]
  },
  {
   "cell_type": "code",
   "execution_count": 56,
   "metadata": {
    "ExecuteTime": {
     "end_time": "2021-05-10T10:58:16.248390Z",
     "start_time": "2021-05-10T10:58:16.243403Z"
    }
   },
   "outputs": [],
   "source": [
    "countries_frac = list(frac['country_name'])\n",
    "countries_pandem = list(pandem['country_name'])"
   ]
  },
  {
   "cell_type": "code",
   "execution_count": 57,
   "metadata": {
    "ExecuteTime": {
     "end_time": "2021-05-10T10:58:16.797220Z",
     "start_time": "2021-05-10T10:58:16.788247Z"
    }
   },
   "outputs": [
    {
     "data": {
      "text/plain": [
       "135"
      ]
     },
     "execution_count": 57,
     "metadata": {},
     "output_type": "execute_result"
    }
   ],
   "source": [
    "sum([item in countries_pandem for item in countries_frac])"
   ]
  },
  {
   "cell_type": "code",
   "execution_count": 58,
   "metadata": {
    "ExecuteTime": {
     "end_time": "2021-05-10T10:58:17.029373Z",
     "start_time": "2021-05-10T10:58:17.021391Z"
    }
   },
   "outputs": [
    {
     "data": {
      "text/plain": [
       "135"
      ]
     },
     "execution_count": 58,
     "metadata": {},
     "output_type": "execute_result"
    }
   ],
   "source": [
    "sum([item in countries_frac for item in countries_pandem])"
   ]
  },
  {
   "cell_type": "markdown",
   "metadata": {},
   "source": [
    "#### 'country_name' complies in 135 cases!"
   ]
  },
  {
   "cell_type": "markdown",
   "metadata": {},
   "source": [
    "#### Trial merging to check which 'country_name' differs between datasets"
   ]
  },
  {
   "cell_type": "code",
   "execution_count": 59,
   "metadata": {
    "ExecuteTime": {
     "end_time": "2021-05-10T10:58:19.127912Z",
     "start_time": "2021-05-10T10:58:19.109963Z"
    }
   },
   "outputs": [],
   "source": [
    "df = pd.merge(data[['country_name']], frac, how='left', on=['country_name'])"
   ]
  },
  {
   "cell_type": "markdown",
   "metadata": {},
   "source": [
    "#### Checking which countries names are different in both datasets and then updating their names"
   ]
  },
  {
   "cell_type": "code",
   "execution_count": 60,
   "metadata": {
    "ExecuteTime": {
     "end_time": "2021-05-10T10:58:19.445598Z",
     "start_time": "2021-05-10T10:58:19.433638Z"
    }
   },
   "outputs": [
    {
     "data": {
      "text/plain": [
       "19                        Burma/Myanmar\n",
       "33     Democratic Republic of the Congo\n",
       "91                          North Korea\n",
       "92                      North Macedonia\n",
       "104               Republic of the Congo\n",
       "106                              Russia\n",
       "113                            Slovakia\n",
       "117                         South Korea\n",
       "118                         South Sudan\n",
       "129                          The Gambia\n",
       "138            United States of America\n",
       "Name: country_name, dtype: object"
      ]
     },
     "execution_count": 60,
     "metadata": {},
     "output_type": "execute_result"
    }
   ],
   "source": [
    "df1 = df[df.isna().any(axis=1)]\n",
    "df1['country_name']"
   ]
  },
  {
   "cell_type": "code",
   "execution_count": 61,
   "metadata": {
    "ExecuteTime": {
     "end_time": "2021-05-10T10:58:20.962772Z",
     "start_time": "2021-05-10T10:58:20.941755Z"
    },
    "scrolled": true
   },
   "outputs": [
    {
     "data": {
      "text/html": [
       "<div>\n",
       "<style scoped>\n",
       "    .dataframe tbody tr th:only-of-type {\n",
       "        vertical-align: middle;\n",
       "    }\n",
       "\n",
       "    .dataframe tbody tr th {\n",
       "        vertical-align: top;\n",
       "    }\n",
       "\n",
       "    .dataframe thead th {\n",
       "        text-align: right;\n",
       "    }\n",
       "</style>\n",
       "<table border=\"1\" class=\"dataframe\">\n",
       "  <thead>\n",
       "    <tr style=\"text-align: right;\">\n",
       "      <th></th>\n",
       "      <th>country_name</th>\n",
       "      <th>ethnic_frac</th>\n",
       "      <th>ling_frac</th>\n",
       "      <th>relig_frac</th>\n",
       "    </tr>\n",
       "  </thead>\n",
       "  <tbody>\n",
       "    <tr>\n",
       "      <th>180</th>\n",
       "      <td>Sri Lanka</td>\n",
       "      <td>0.4150</td>\n",
       "      <td>0.4645</td>\n",
       "      <td>0.4853</td>\n",
       "    </tr>\n",
       "    <tr>\n",
       "      <th>181</th>\n",
       "      <td>Saint Kitts and Nevis</td>\n",
       "      <td>0.1842</td>\n",
       "      <td>0.0000</td>\n",
       "      <td>0.6614</td>\n",
       "    </tr>\n",
       "    <tr>\n",
       "      <th>182</th>\n",
       "      <td>Sudan</td>\n",
       "      <td>0.7147</td>\n",
       "      <td>0.7190</td>\n",
       "      <td>0.4307</td>\n",
       "    </tr>\n",
       "    <tr>\n",
       "      <th>183</th>\n",
       "      <td>Suriname</td>\n",
       "      <td>0.7332</td>\n",
       "      <td>0.3310</td>\n",
       "      <td>0.7910</td>\n",
       "    </tr>\n",
       "    <tr>\n",
       "      <th>184</th>\n",
       "      <td>Swaziland</td>\n",
       "      <td>0.0580</td>\n",
       "      <td>0.1722</td>\n",
       "      <td>0.4444</td>\n",
       "    </tr>\n",
       "    <tr>\n",
       "      <th>185</th>\n",
       "      <td>Sweden</td>\n",
       "      <td>0.1000</td>\n",
       "      <td>0.1968</td>\n",
       "      <td>0.2342</td>\n",
       "    </tr>\n",
       "  </tbody>\n",
       "</table>\n",
       "</div>"
      ],
      "text/plain": [
       "              country_name  ethnic_frac  ling_frac  relig_frac\n",
       "180              Sri Lanka       0.4150     0.4645      0.4853\n",
       "181  Saint Kitts and Nevis       0.1842     0.0000      0.6614\n",
       "182                  Sudan       0.7147     0.7190      0.4307\n",
       "183               Suriname       0.7332     0.3310      0.7910\n",
       "184              Swaziland       0.0580     0.1722      0.4444\n",
       "185                 Sweden       0.1000     0.1968      0.2342"
      ]
     },
     "execution_count": 61,
     "metadata": {},
     "output_type": "execute_result"
    }
   ],
   "source": [
    "frac.loc[180:185]"
   ]
  },
  {
   "cell_type": "code",
   "execution_count": 62,
   "metadata": {
    "ExecuteTime": {
     "end_time": "2021-05-10T10:58:21.185534Z",
     "start_time": "2021-05-10T10:58:21.166070Z"
    }
   },
   "outputs": [
    {
     "data": {
      "text/html": [
       "<div>\n",
       "<style scoped>\n",
       "    .dataframe tbody tr th:only-of-type {\n",
       "        vertical-align: middle;\n",
       "    }\n",
       "\n",
       "    .dataframe tbody tr th {\n",
       "        vertical-align: top;\n",
       "    }\n",
       "\n",
       "    .dataframe thead th {\n",
       "        text-align: right;\n",
       "    }\n",
       "</style>\n",
       "<table border=\"1\" class=\"dataframe\">\n",
       "  <thead>\n",
       "    <tr style=\"text-align: right;\">\n",
       "      <th></th>\n",
       "      <th>country_name</th>\n",
       "      <th>ethnic_frac</th>\n",
       "      <th>ling_frac</th>\n",
       "      <th>relig_frac</th>\n",
       "    </tr>\n",
       "  </thead>\n",
       "  <tbody>\n",
       "    <tr>\n",
       "      <th>182</th>\n",
       "      <td>Sudan</td>\n",
       "      <td>0.7147</td>\n",
       "      <td>0.719</td>\n",
       "      <td>0.4307</td>\n",
       "    </tr>\n",
       "  </tbody>\n",
       "</table>\n",
       "</div>"
      ],
      "text/plain": [
       "    country_name  ethnic_frac  ling_frac  relig_frac\n",
       "182        Sudan       0.7147      0.719      0.4307"
      ]
     },
     "execution_count": 62,
     "metadata": {},
     "output_type": "execute_result"
    }
   ],
   "source": [
    "frac.loc[frac.country_name.str.contains('Sudan')]"
   ]
  },
  {
   "cell_type": "markdown",
   "metadata": {},
   "source": [
    "#### Dictionary for updating country names (South Sudan does not exist in 2003)"
   ]
  },
  {
   "cell_type": "code",
   "execution_count": 63,
   "metadata": {
    "ExecuteTime": {
     "end_time": "2021-05-10T10:58:21.615308Z",
     "start_time": "2021-05-10T10:58:21.610320Z"
    }
   },
   "outputs": [],
   "source": [
    "update = {\n",
    "    'Burma': 'Burma/Myanmar',\n",
    "    'Democratic Republic of Congo': 'Democratic Republic of the Congo',\n",
    "    'Congo': 'Republic of the Congo',\n",
    "    'Gambia, The': 'The Gambia',\n",
    "    \"Korea, North\": 'North Korea',\n",
    "    'Korea, South': 'South Korea',\n",
    "    'Russian Federation': 'Russia',\n",
    "    'Macedonia': 'North Macedonia',\n",
    "    'Slovak Republic': 'Slovakia',\n",
    "    #'South Sudan'\n",
    "    'United States': 'United States of America'\n",
    "}"
   ]
  },
  {
   "cell_type": "code",
   "execution_count": 64,
   "metadata": {
    "ExecuteTime": {
     "end_time": "2021-05-10T10:58:21.829215Z",
     "start_time": "2021-05-10T10:58:21.823230Z"
    }
   },
   "outputs": [],
   "source": [
    "frac.replace({\"country_name\": update}, inplace=True)"
   ]
  },
  {
   "cell_type": "markdown",
   "metadata": {},
   "source": [
    "### Final merging"
   ]
  },
  {
   "cell_type": "code",
   "execution_count": 65,
   "metadata": {
    "ExecuteTime": {
     "end_time": "2021-05-10T10:58:24.699403Z",
     "start_time": "2021-05-10T10:58:24.684892Z"
    }
   },
   "outputs": [],
   "source": [
    "data = pd.merge(data, frac, how='left', on=['country_name'])"
   ]
  },
  {
   "cell_type": "markdown",
   "metadata": {},
   "source": [
    "### Full dataset with some missings"
   ]
  },
  {
   "cell_type": "code",
   "execution_count": 66,
   "metadata": {
    "ExecuteTime": {
     "end_time": "2021-05-10T10:58:25.150425Z",
     "start_time": "2021-05-10T10:58:25.098561Z"
    }
   },
   "outputs": [
    {
     "data": {
      "text/html": [
       "<div>\n",
       "<style scoped>\n",
       "    .dataframe tbody tr th:only-of-type {\n",
       "        vertical-align: middle;\n",
       "    }\n",
       "\n",
       "    .dataframe tbody tr th {\n",
       "        vertical-align: top;\n",
       "    }\n",
       "\n",
       "    .dataframe thead th {\n",
       "        text-align: right;\n",
       "    }\n",
       "</style>\n",
       "<table border=\"1\" class=\"dataframe\">\n",
       "  <thead>\n",
       "    <tr style=\"text-align: right;\">\n",
       "      <th></th>\n",
       "      <th>country_name</th>\n",
       "      <th>pandem</th>\n",
       "      <th>pandem_dis</th>\n",
       "      <th>panback</th>\n",
       "      <th>country_text_id</th>\n",
       "      <th>continent</th>\n",
       "      <th>sub-region</th>\n",
       "      <th>income_group</th>\n",
       "      <th>year</th>\n",
       "      <th>rule</th>\n",
       "      <th>...</th>\n",
       "      <th>gdp_pc_world_bank</th>\n",
       "      <th>gini_index_world_bank</th>\n",
       "      <th>inflation_world_bank</th>\n",
       "      <th>military_world_bank</th>\n",
       "      <th>mineral_world_bank</th>\n",
       "      <th>oil_world_bank</th>\n",
       "      <th>ethnic_frac</th>\n",
       "      <th>ling_frac</th>\n",
       "      <th>relig_frac</th>\n",
       "      <th>trade_gdp_world_bank</th>\n",
       "    </tr>\n",
       "  </thead>\n",
       "  <tbody>\n",
       "    <tr>\n",
       "      <th>0</th>\n",
       "      <td>Afghanistan</td>\n",
       "      <td>0.058824</td>\n",
       "      <td>0.05</td>\n",
       "      <td>0.000000</td>\n",
       "      <td>AFG</td>\n",
       "      <td>Asia</td>\n",
       "      <td>Southern Asia</td>\n",
       "      <td>Low income</td>\n",
       "      <td>2019</td>\n",
       "      <td>0.341</td>\n",
       "      <td>...</td>\n",
       "      <td>502.115487</td>\n",
       "      <td>NaN</td>\n",
       "      <td>2.302373</td>\n",
       "      <td>0.984561</td>\n",
       "      <td>0.007421</td>\n",
       "      <td>0.001255</td>\n",
       "      <td>0.7693</td>\n",
       "      <td>0.6141</td>\n",
       "      <td>0.2717</td>\n",
       "      <td>45.621177</td>\n",
       "    </tr>\n",
       "    <tr>\n",
       "      <th>1</th>\n",
       "      <td>Albania</td>\n",
       "      <td>0.176471</td>\n",
       "      <td>0.15</td>\n",
       "      <td>0.173110</td>\n",
       "      <td>ALB</td>\n",
       "      <td>Europe</td>\n",
       "      <td>Southern Europe</td>\n",
       "      <td>Upper middle income</td>\n",
       "      <td>2019</td>\n",
       "      <td>0.596</td>\n",
       "      <td>...</td>\n",
       "      <td>5352.857411</td>\n",
       "      <td>33.2</td>\n",
       "      <td>1.411091</td>\n",
       "      <td>1.178901</td>\n",
       "      <td>0.146426</td>\n",
       "      <td>1.365752</td>\n",
       "      <td>0.2204</td>\n",
       "      <td>0.0400</td>\n",
       "      <td>0.4719</td>\n",
       "      <td>76.728300</td>\n",
       "    </tr>\n",
       "    <tr>\n",
       "      <th>2</th>\n",
       "      <td>Algeria</td>\n",
       "      <td>0.294118</td>\n",
       "      <td>0.35</td>\n",
       "      <td>0.123340</td>\n",
       "      <td>DZA</td>\n",
       "      <td>Africa</td>\n",
       "      <td>Northern Africa</td>\n",
       "      <td>Lower middle income</td>\n",
       "      <td>2019</td>\n",
       "      <td>0.217</td>\n",
       "      <td>...</td>\n",
       "      <td>3948.343279</td>\n",
       "      <td>27.6</td>\n",
       "      <td>1.951768</td>\n",
       "      <td>5.271414</td>\n",
       "      <td>0.046717</td>\n",
       "      <td>12.313697</td>\n",
       "      <td>0.3394</td>\n",
       "      <td>0.4427</td>\n",
       "      <td>0.0100</td>\n",
       "      <td>52.044775</td>\n",
       "    </tr>\n",
       "    <tr>\n",
       "      <th>3</th>\n",
       "      <td>Angola</td>\n",
       "      <td>0.117647</td>\n",
       "      <td>0.10</td>\n",
       "      <td>0.041671</td>\n",
       "      <td>AGO</td>\n",
       "      <td>Africa</td>\n",
       "      <td>Sub-Saharan Africa</td>\n",
       "      <td>Lower middle income</td>\n",
       "      <td>2019</td>\n",
       "      <td>0.406</td>\n",
       "      <td>...</td>\n",
       "      <td>2973.591160</td>\n",
       "      <td>51.3</td>\n",
       "      <td>17.145320</td>\n",
       "      <td>1.777138</td>\n",
       "      <td>0.000000</td>\n",
       "      <td>15.753913</td>\n",
       "      <td>0.7867</td>\n",
       "      <td>0.7870</td>\n",
       "      <td>0.6276</td>\n",
       "      <td>66.378012</td>\n",
       "    </tr>\n",
       "    <tr>\n",
       "      <th>4</th>\n",
       "      <td>Argentina</td>\n",
       "      <td>0.058824</td>\n",
       "      <td>0.05</td>\n",
       "      <td>0.054786</td>\n",
       "      <td>ARG</td>\n",
       "      <td>Americas</td>\n",
       "      <td>Latin America and the Caribbean</td>\n",
       "      <td>Upper middle income</td>\n",
       "      <td>2019</td>\n",
       "      <td>0.757</td>\n",
       "      <td>...</td>\n",
       "      <td>10006.148974</td>\n",
       "      <td>41.4</td>\n",
       "      <td>53.548304</td>\n",
       "      <td>0.854561</td>\n",
       "      <td>0.308310</td>\n",
       "      <td>0.735824</td>\n",
       "      <td>0.2550</td>\n",
       "      <td>0.0620</td>\n",
       "      <td>0.2236</td>\n",
       "      <td>32.393666</td>\n",
       "    </tr>\n",
       "  </tbody>\n",
       "</table>\n",
       "<p>5 rows × 27 columns</p>\n",
       "</div>"
      ],
      "text/plain": [
       "  country_name    pandem  pandem_dis   panback country_text_id continent  \\\n",
       "0  Afghanistan  0.058824        0.05  0.000000             AFG      Asia   \n",
       "1      Albania  0.176471        0.15  0.173110             ALB    Europe   \n",
       "2      Algeria  0.294118        0.35  0.123340             DZA    Africa   \n",
       "3       Angola  0.117647        0.10  0.041671             AGO    Africa   \n",
       "4    Argentina  0.058824        0.05  0.054786             ARG  Americas   \n",
       "\n",
       "                        sub-region         income_group  year   rule  ...  \\\n",
       "0                    Southern Asia           Low income  2019  0.341  ...   \n",
       "1                  Southern Europe  Upper middle income  2019  0.596  ...   \n",
       "2                  Northern Africa  Lower middle income  2019  0.217  ...   \n",
       "3               Sub-Saharan Africa  Lower middle income  2019  0.406  ...   \n",
       "4  Latin America and the Caribbean  Upper middle income  2019  0.757  ...   \n",
       "\n",
       "   gdp_pc_world_bank  gini_index_world_bank  inflation_world_bank  \\\n",
       "0         502.115487                    NaN              2.302373   \n",
       "1        5352.857411                   33.2              1.411091   \n",
       "2        3948.343279                   27.6              1.951768   \n",
       "3        2973.591160                   51.3             17.145320   \n",
       "4       10006.148974                   41.4             53.548304   \n",
       "\n",
       "   military_world_bank  mineral_world_bank  oil_world_bank  ethnic_frac  \\\n",
       "0             0.984561            0.007421        0.001255       0.7693   \n",
       "1             1.178901            0.146426        1.365752       0.2204   \n",
       "2             5.271414            0.046717       12.313697       0.3394   \n",
       "3             1.777138            0.000000       15.753913       0.7867   \n",
       "4             0.854561            0.308310        0.735824       0.2550   \n",
       "\n",
       "   ling_frac  relig_frac  trade_gdp_world_bank  \n",
       "0     0.6141      0.2717             45.621177  \n",
       "1     0.0400      0.4719             76.728300  \n",
       "2     0.4427      0.0100             52.044775  \n",
       "3     0.7870      0.6276             66.378012  \n",
       "4     0.0620      0.2236             32.393666  \n",
       "\n",
       "[5 rows x 27 columns]"
      ]
     },
     "execution_count": 66,
     "metadata": {},
     "output_type": "execute_result"
    }
   ],
   "source": [
    "# data.drop(columns=['year'], inplace=True)\n",
    "data['trade_gdp_world_bank'] = data['export_gdp_world_bank'] + data['import_gdp_world_bank']\n",
    "data.drop(columns=['export_gdp_world_bank', 'import_gdp_world_bank'], inplace=True)\n",
    "data.head()"
   ]
  },
  {
   "cell_type": "markdown",
   "metadata": {},
   "source": [
    "### Missing values"
   ]
  },
  {
   "cell_type": "code",
   "execution_count": 67,
   "metadata": {
    "ExecuteTime": {
     "end_time": "2021-05-10T10:58:26.832297Z",
     "start_time": "2021-05-10T10:58:26.819872Z"
    }
   },
   "outputs": [
    {
     "data": {
      "text/plain": [
       "country_name                      0\n",
       "pandem                            0\n",
       "pandem_dis                        0\n",
       "panback                           0\n",
       "country_text_id                   0\n",
       "continent                         0\n",
       "sub-region                        0\n",
       "income_group                      0\n",
       "year                              0\n",
       "rule                              0\n",
       "region_pol                        0\n",
       "region_geo                        0\n",
       "property                          0\n",
       "polyarchy                         0\n",
       "justice                           0\n",
       "education                        20\n",
       "population_density_world_bank     3\n",
       "gdp_pc_world_bank                 4\n",
       "gini_index_world_bank            25\n",
       "inflation_world_bank              8\n",
       "military_world_bank               5\n",
       "mineral_world_bank                1\n",
       "oil_world_bank                    1\n",
       "ethnic_frac                       1\n",
       "ling_frac                         1\n",
       "relig_frac                        1\n",
       "trade_gdp_world_bank              6\n",
       "dtype: int64"
      ]
     },
     "execution_count": 67,
     "metadata": {},
     "output_type": "execute_result"
    }
   ],
   "source": [
    "data.isna().sum()"
   ]
  },
  {
   "cell_type": "markdown",
   "metadata": {},
   "source": [
    "### Data imputation"
   ]
  },
  {
   "cell_type": "markdown",
   "metadata": {},
   "source": [
    "#### Fractionalization for South Sudan\n",
    "In 2003 South Sudan was a part of Sudan, so we impute for South Sudan values for Sudan"
   ]
  },
  {
   "cell_type": "code",
   "execution_count": 68,
   "metadata": {
    "ExecuteTime": {
     "end_time": "2021-05-10T10:58:27.521591Z",
     "start_time": "2021-05-10T10:58:27.492667Z"
    }
   },
   "outputs": [],
   "source": [
    "data.loc[data['country_name'] == 'South Sudan','ethnic_frac'] = data.loc[data['country_name'] == 'Sudan']['ethnic_frac'].values[0]\n",
    "data.loc[data['country_name'] == 'South Sudan','ling_frac'] = data.loc[data['country_name'] == 'Sudan']['ling_frac'].values[0]\n",
    "data.loc[data['country_name'] == 'South Sudan','relig_frac'] = data.loc[data['country_name'] == 'Sudan']['relig_frac'].values[0]"
   ]
  },
  {
   "cell_type": "code",
   "execution_count": 69,
   "metadata": {
    "ExecuteTime": {
     "end_time": "2021-05-10T10:58:27.734706Z",
     "start_time": "2021-05-10T10:58:27.698799Z"
    }
   },
   "outputs": [
    {
     "data": {
      "text/html": [
       "<div>\n",
       "<style scoped>\n",
       "    .dataframe tbody tr th:only-of-type {\n",
       "        vertical-align: middle;\n",
       "    }\n",
       "\n",
       "    .dataframe tbody tr th {\n",
       "        vertical-align: top;\n",
       "    }\n",
       "\n",
       "    .dataframe thead th {\n",
       "        text-align: right;\n",
       "    }\n",
       "</style>\n",
       "<table border=\"1\" class=\"dataframe\">\n",
       "  <thead>\n",
       "    <tr style=\"text-align: right;\">\n",
       "      <th></th>\n",
       "      <th>country_name</th>\n",
       "      <th>pandem</th>\n",
       "      <th>pandem_dis</th>\n",
       "      <th>panback</th>\n",
       "      <th>country_text_id</th>\n",
       "      <th>continent</th>\n",
       "      <th>sub-region</th>\n",
       "      <th>income_group</th>\n",
       "      <th>year</th>\n",
       "      <th>rule</th>\n",
       "      <th>...</th>\n",
       "      <th>gdp_pc_world_bank</th>\n",
       "      <th>gini_index_world_bank</th>\n",
       "      <th>inflation_world_bank</th>\n",
       "      <th>military_world_bank</th>\n",
       "      <th>mineral_world_bank</th>\n",
       "      <th>oil_world_bank</th>\n",
       "      <th>ethnic_frac</th>\n",
       "      <th>ling_frac</th>\n",
       "      <th>relig_frac</th>\n",
       "      <th>trade_gdp_world_bank</th>\n",
       "    </tr>\n",
       "  </thead>\n",
       "  <tbody>\n",
       "    <tr>\n",
       "      <th>118</th>\n",
       "      <td>South Sudan</td>\n",
       "      <td>0.176471</td>\n",
       "      <td>0.15</td>\n",
       "      <td>0.0</td>\n",
       "      <td>SSD</td>\n",
       "      <td>Africa</td>\n",
       "      <td>Sub-Saharan Africa</td>\n",
       "      <td>Low income</td>\n",
       "      <td>2019</td>\n",
       "      <td>0.051</td>\n",
       "      <td>...</td>\n",
       "      <td>1119.651333</td>\n",
       "      <td>NaN</td>\n",
       "      <td>187.851626</td>\n",
       "      <td>1.329208</td>\n",
       "      <td>0.0</td>\n",
       "      <td>31.325699</td>\n",
       "      <td>0.7147</td>\n",
       "      <td>0.719</td>\n",
       "      <td>0.4307</td>\n",
       "      <td>65.551349</td>\n",
       "    </tr>\n",
       "  </tbody>\n",
       "</table>\n",
       "<p>1 rows × 27 columns</p>\n",
       "</div>"
      ],
      "text/plain": [
       "    country_name    pandem  pandem_dis  panback country_text_id continent  \\\n",
       "118  South Sudan  0.176471        0.15      0.0             SSD    Africa   \n",
       "\n",
       "             sub-region income_group  year   rule  ...  gdp_pc_world_bank  \\\n",
       "118  Sub-Saharan Africa   Low income  2019  0.051  ...        1119.651333   \n",
       "\n",
       "     gini_index_world_bank  inflation_world_bank  military_world_bank  \\\n",
       "118                    NaN            187.851626             1.329208   \n",
       "\n",
       "     mineral_world_bank  oil_world_bank  ethnic_frac  ling_frac  relig_frac  \\\n",
       "118                 0.0       31.325699       0.7147      0.719      0.4307   \n",
       "\n",
       "     trade_gdp_world_bank  \n",
       "118             65.551349  \n",
       "\n",
       "[1 rows x 27 columns]"
      ]
     },
     "execution_count": 69,
     "metadata": {},
     "output_type": "execute_result"
    }
   ],
   "source": [
    "data.loc[data['country_name'] == 'South Sudan']"
   ]
  },
  {
   "cell_type": "code",
   "execution_count": 70,
   "metadata": {
    "ExecuteTime": {
     "end_time": "2021-05-10T10:58:27.930929Z",
     "start_time": "2021-05-10T10:58:27.907989Z"
    }
   },
   "outputs": [
    {
     "data": {
      "text/html": [
       "<div>\n",
       "<style scoped>\n",
       "    .dataframe tbody tr th:only-of-type {\n",
       "        vertical-align: middle;\n",
       "    }\n",
       "\n",
       "    .dataframe tbody tr th {\n",
       "        vertical-align: top;\n",
       "    }\n",
       "\n",
       "    .dataframe thead th {\n",
       "        text-align: right;\n",
       "    }\n",
       "</style>\n",
       "<table border=\"1\" class=\"dataframe\">\n",
       "  <thead>\n",
       "    <tr style=\"text-align: right;\">\n",
       "      <th></th>\n",
       "      <th>country_name</th>\n",
       "      <th>pandem</th>\n",
       "      <th>pandem_dis</th>\n",
       "      <th>panback</th>\n",
       "      <th>country_text_id</th>\n",
       "      <th>continent</th>\n",
       "      <th>sub-region</th>\n",
       "      <th>income_group</th>\n",
       "      <th>year</th>\n",
       "      <th>rule</th>\n",
       "      <th>...</th>\n",
       "      <th>gdp_pc_world_bank</th>\n",
       "      <th>gini_index_world_bank</th>\n",
       "      <th>inflation_world_bank</th>\n",
       "      <th>military_world_bank</th>\n",
       "      <th>mineral_world_bank</th>\n",
       "      <th>oil_world_bank</th>\n",
       "      <th>ethnic_frac</th>\n",
       "      <th>ling_frac</th>\n",
       "      <th>relig_frac</th>\n",
       "      <th>trade_gdp_world_bank</th>\n",
       "    </tr>\n",
       "  </thead>\n",
       "  <tbody>\n",
       "  </tbody>\n",
       "</table>\n",
       "<p>0 rows × 27 columns</p>\n",
       "</div>"
      ],
      "text/plain": [
       "Empty DataFrame\n",
       "Columns: [country_name, pandem, pandem_dis, panback, country_text_id, continent, sub-region, income_group, year, rule, region_pol, region_geo, property, polyarchy, justice, education, population_density_world_bank, gdp_pc_world_bank, gini_index_world_bank, inflation_world_bank, military_world_bank, mineral_world_bank, oil_world_bank, ethnic_frac, ling_frac, relig_frac, trade_gdp_world_bank]\n",
       "Index: []\n",
       "\n",
       "[0 rows x 27 columns]"
      ]
     },
     "execution_count": 70,
     "metadata": {},
     "output_type": "execute_result"
    }
   ],
   "source": [
    "data.loc[data['relig_frac'].isna()]"
   ]
  },
  {
   "cell_type": "markdown",
   "metadata": {
    "ExecuteTime": {
     "end_time": "2020-07-27T09:54:06.479379Z",
     "start_time": "2020-07-27T09:54:06.475662Z"
    }
   },
   "source": [
    "### 'Oil' and 'Mineral' for Taiwan\n",
    "\"Taiwan produces a small amount of natural gas.\" We impute 0 for Oil and Mineral for simplicity."
   ]
  },
  {
   "cell_type": "code",
   "execution_count": 71,
   "metadata": {
    "ExecuteTime": {
     "end_time": "2021-05-10T10:58:28.384762Z",
     "start_time": "2021-05-10T10:58:28.344867Z"
    }
   },
   "outputs": [
    {
     "data": {
      "text/html": [
       "<div>\n",
       "<style scoped>\n",
       "    .dataframe tbody tr th:only-of-type {\n",
       "        vertical-align: middle;\n",
       "    }\n",
       "\n",
       "    .dataframe tbody tr th {\n",
       "        vertical-align: top;\n",
       "    }\n",
       "\n",
       "    .dataframe thead th {\n",
       "        text-align: right;\n",
       "    }\n",
       "</style>\n",
       "<table border=\"1\" class=\"dataframe\">\n",
       "  <thead>\n",
       "    <tr style=\"text-align: right;\">\n",
       "      <th></th>\n",
       "      <th>country_name</th>\n",
       "      <th>pandem</th>\n",
       "      <th>pandem_dis</th>\n",
       "      <th>panback</th>\n",
       "      <th>country_text_id</th>\n",
       "      <th>continent</th>\n",
       "      <th>sub-region</th>\n",
       "      <th>income_group</th>\n",
       "      <th>year</th>\n",
       "      <th>rule</th>\n",
       "      <th>...</th>\n",
       "      <th>gdp_pc_world_bank</th>\n",
       "      <th>gini_index_world_bank</th>\n",
       "      <th>inflation_world_bank</th>\n",
       "      <th>military_world_bank</th>\n",
       "      <th>mineral_world_bank</th>\n",
       "      <th>oil_world_bank</th>\n",
       "      <th>ethnic_frac</th>\n",
       "      <th>ling_frac</th>\n",
       "      <th>relig_frac</th>\n",
       "      <th>trade_gdp_world_bank</th>\n",
       "    </tr>\n",
       "  </thead>\n",
       "  <tbody>\n",
       "    <tr>\n",
       "      <th>125</th>\n",
       "      <td>Taiwan</td>\n",
       "      <td>0.058824</td>\n",
       "      <td>0.05</td>\n",
       "      <td>0.049692</td>\n",
       "      <td>TWN</td>\n",
       "      <td>Asia</td>\n",
       "      <td>Eastern Asia</td>\n",
       "      <td>High income</td>\n",
       "      <td>2019</td>\n",
       "      <td>0.913</td>\n",
       "      <td>...</td>\n",
       "      <td>NaN</td>\n",
       "      <td>NaN</td>\n",
       "      <td>NaN</td>\n",
       "      <td>NaN</td>\n",
       "      <td>NaN</td>\n",
       "      <td>NaN</td>\n",
       "      <td>0.2744</td>\n",
       "      <td>0.5028</td>\n",
       "      <td>0.6845</td>\n",
       "      <td>NaN</td>\n",
       "    </tr>\n",
       "  </tbody>\n",
       "</table>\n",
       "<p>1 rows × 27 columns</p>\n",
       "</div>"
      ],
      "text/plain": [
       "    country_name    pandem  pandem_dis   panback country_text_id continent  \\\n",
       "125       Taiwan  0.058824        0.05  0.049692             TWN      Asia   \n",
       "\n",
       "       sub-region income_group  year   rule  ...  gdp_pc_world_bank  \\\n",
       "125  Eastern Asia  High income  2019  0.913  ...                NaN   \n",
       "\n",
       "     gini_index_world_bank  inflation_world_bank  military_world_bank  \\\n",
       "125                    NaN                   NaN                  NaN   \n",
       "\n",
       "     mineral_world_bank  oil_world_bank  ethnic_frac  ling_frac  relig_frac  \\\n",
       "125                 NaN             NaN       0.2744     0.5028      0.6845   \n",
       "\n",
       "     trade_gdp_world_bank  \n",
       "125                   NaN  \n",
       "\n",
       "[1 rows x 27 columns]"
      ]
     },
     "execution_count": 71,
     "metadata": {},
     "output_type": "execute_result"
    }
   ],
   "source": [
    "data.loc[data['country_name'] == 'Taiwan']"
   ]
  },
  {
   "cell_type": "code",
   "execution_count": 72,
   "metadata": {
    "ExecuteTime": {
     "end_time": "2021-05-10T10:58:28.783497Z",
     "start_time": "2021-05-10T10:58:28.767534Z"
    }
   },
   "outputs": [],
   "source": [
    "data.loc[data['country_name'] == 'Taiwan','oil_world_bank'] = 0\n",
    "data.loc[data['country_name'] == 'Taiwan','mineral_world_bank'] = 0"
   ]
  },
  {
   "cell_type": "code",
   "execution_count": 73,
   "metadata": {
    "ExecuteTime": {
     "end_time": "2021-05-10T10:58:29.004193Z",
     "start_time": "2021-05-10T10:58:28.967292Z"
    }
   },
   "outputs": [
    {
     "data": {
      "text/html": [
       "<div>\n",
       "<style scoped>\n",
       "    .dataframe tbody tr th:only-of-type {\n",
       "        vertical-align: middle;\n",
       "    }\n",
       "\n",
       "    .dataframe tbody tr th {\n",
       "        vertical-align: top;\n",
       "    }\n",
       "\n",
       "    .dataframe thead th {\n",
       "        text-align: right;\n",
       "    }\n",
       "</style>\n",
       "<table border=\"1\" class=\"dataframe\">\n",
       "  <thead>\n",
       "    <tr style=\"text-align: right;\">\n",
       "      <th></th>\n",
       "      <th>country_name</th>\n",
       "      <th>pandem</th>\n",
       "      <th>pandem_dis</th>\n",
       "      <th>panback</th>\n",
       "      <th>country_text_id</th>\n",
       "      <th>continent</th>\n",
       "      <th>sub-region</th>\n",
       "      <th>income_group</th>\n",
       "      <th>year</th>\n",
       "      <th>rule</th>\n",
       "      <th>...</th>\n",
       "      <th>gdp_pc_world_bank</th>\n",
       "      <th>gini_index_world_bank</th>\n",
       "      <th>inflation_world_bank</th>\n",
       "      <th>military_world_bank</th>\n",
       "      <th>mineral_world_bank</th>\n",
       "      <th>oil_world_bank</th>\n",
       "      <th>ethnic_frac</th>\n",
       "      <th>ling_frac</th>\n",
       "      <th>relig_frac</th>\n",
       "      <th>trade_gdp_world_bank</th>\n",
       "    </tr>\n",
       "  </thead>\n",
       "  <tbody>\n",
       "    <tr>\n",
       "      <th>125</th>\n",
       "      <td>Taiwan</td>\n",
       "      <td>0.058824</td>\n",
       "      <td>0.05</td>\n",
       "      <td>0.049692</td>\n",
       "      <td>TWN</td>\n",
       "      <td>Asia</td>\n",
       "      <td>Eastern Asia</td>\n",
       "      <td>High income</td>\n",
       "      <td>2019</td>\n",
       "      <td>0.913</td>\n",
       "      <td>...</td>\n",
       "      <td>NaN</td>\n",
       "      <td>NaN</td>\n",
       "      <td>NaN</td>\n",
       "      <td>NaN</td>\n",
       "      <td>0.0</td>\n",
       "      <td>0.0</td>\n",
       "      <td>0.2744</td>\n",
       "      <td>0.5028</td>\n",
       "      <td>0.6845</td>\n",
       "      <td>NaN</td>\n",
       "    </tr>\n",
       "  </tbody>\n",
       "</table>\n",
       "<p>1 rows × 27 columns</p>\n",
       "</div>"
      ],
      "text/plain": [
       "    country_name    pandem  pandem_dis   panback country_text_id continent  \\\n",
       "125       Taiwan  0.058824        0.05  0.049692             TWN      Asia   \n",
       "\n",
       "       sub-region income_group  year   rule  ...  gdp_pc_world_bank  \\\n",
       "125  Eastern Asia  High income  2019  0.913  ...                NaN   \n",
       "\n",
       "     gini_index_world_bank  inflation_world_bank  military_world_bank  \\\n",
       "125                    NaN                   NaN                  NaN   \n",
       "\n",
       "     mineral_world_bank  oil_world_bank  ethnic_frac  ling_frac  relig_frac  \\\n",
       "125                 0.0             0.0       0.2744     0.5028      0.6845   \n",
       "\n",
       "     trade_gdp_world_bank  \n",
       "125                   NaN  \n",
       "\n",
       "[1 rows x 27 columns]"
      ]
     },
     "execution_count": 73,
     "metadata": {},
     "output_type": "execute_result"
    }
   ],
   "source": [
    "data.loc[data['country_name'] == 'Taiwan']"
   ]
  },
  {
   "cell_type": "markdown",
   "metadata": {},
   "source": [
    "### Imputation of 'Density'.\n",
    "\n",
    "Wikipedia as a source."
   ]
  },
  {
   "cell_type": "code",
   "execution_count": 74,
   "metadata": {
    "ExecuteTime": {
     "end_time": "2021-05-10T10:58:29.544150Z",
     "start_time": "2021-05-10T10:58:29.504259Z"
    }
   },
   "outputs": [
    {
     "data": {
      "text/html": [
       "<div>\n",
       "<style scoped>\n",
       "    .dataframe tbody tr th:only-of-type {\n",
       "        vertical-align: middle;\n",
       "    }\n",
       "\n",
       "    .dataframe tbody tr th {\n",
       "        vertical-align: top;\n",
       "    }\n",
       "\n",
       "    .dataframe thead th {\n",
       "        text-align: right;\n",
       "    }\n",
       "</style>\n",
       "<table border=\"1\" class=\"dataframe\">\n",
       "  <thead>\n",
       "    <tr style=\"text-align: right;\">\n",
       "      <th></th>\n",
       "      <th>country_name</th>\n",
       "      <th>pandem</th>\n",
       "      <th>pandem_dis</th>\n",
       "      <th>panback</th>\n",
       "      <th>country_text_id</th>\n",
       "      <th>continent</th>\n",
       "      <th>sub-region</th>\n",
       "      <th>income_group</th>\n",
       "      <th>year</th>\n",
       "      <th>rule</th>\n",
       "      <th>...</th>\n",
       "      <th>gdp_pc_world_bank</th>\n",
       "      <th>gini_index_world_bank</th>\n",
       "      <th>inflation_world_bank</th>\n",
       "      <th>military_world_bank</th>\n",
       "      <th>mineral_world_bank</th>\n",
       "      <th>oil_world_bank</th>\n",
       "      <th>ethnic_frac</th>\n",
       "      <th>ling_frac</th>\n",
       "      <th>relig_frac</th>\n",
       "      <th>trade_gdp_world_bank</th>\n",
       "    </tr>\n",
       "  </thead>\n",
       "  <tbody>\n",
       "    <tr>\n",
       "      <th>118</th>\n",
       "      <td>South Sudan</td>\n",
       "      <td>0.176471</td>\n",
       "      <td>0.15</td>\n",
       "      <td>0.000000</td>\n",
       "      <td>SSD</td>\n",
       "      <td>Africa</td>\n",
       "      <td>Sub-Saharan Africa</td>\n",
       "      <td>Low income</td>\n",
       "      <td>2019</td>\n",
       "      <td>0.051</td>\n",
       "      <td>...</td>\n",
       "      <td>1119.651333</td>\n",
       "      <td>NaN</td>\n",
       "      <td>187.851626</td>\n",
       "      <td>1.329208</td>\n",
       "      <td>0.000000</td>\n",
       "      <td>31.325699</td>\n",
       "      <td>0.7147</td>\n",
       "      <td>0.7190</td>\n",
       "      <td>0.4307</td>\n",
       "      <td>65.551349</td>\n",
       "    </tr>\n",
       "    <tr>\n",
       "      <th>121</th>\n",
       "      <td>Sudan</td>\n",
       "      <td>0.176471</td>\n",
       "      <td>0.15</td>\n",
       "      <td>0.056069</td>\n",
       "      <td>SDN</td>\n",
       "      <td>Africa</td>\n",
       "      <td>Northern Africa</td>\n",
       "      <td>Low income</td>\n",
       "      <td>2019</td>\n",
       "      <td>0.269</td>\n",
       "      <td>...</td>\n",
       "      <td>441.505603</td>\n",
       "      <td>34.2</td>\n",
       "      <td>50.994052</td>\n",
       "      <td>2.278302</td>\n",
       "      <td>2.537048</td>\n",
       "      <td>1.013017</td>\n",
       "      <td>0.7147</td>\n",
       "      <td>0.7190</td>\n",
       "      <td>0.4307</td>\n",
       "      <td>26.721863</td>\n",
       "    </tr>\n",
       "    <tr>\n",
       "      <th>125</th>\n",
       "      <td>Taiwan</td>\n",
       "      <td>0.058824</td>\n",
       "      <td>0.05</td>\n",
       "      <td>0.049692</td>\n",
       "      <td>TWN</td>\n",
       "      <td>Asia</td>\n",
       "      <td>Eastern Asia</td>\n",
       "      <td>High income</td>\n",
       "      <td>2019</td>\n",
       "      <td>0.913</td>\n",
       "      <td>...</td>\n",
       "      <td>NaN</td>\n",
       "      <td>NaN</td>\n",
       "      <td>NaN</td>\n",
       "      <td>NaN</td>\n",
       "      <td>0.000000</td>\n",
       "      <td>0.000000</td>\n",
       "      <td>0.2744</td>\n",
       "      <td>0.5028</td>\n",
       "      <td>0.6845</td>\n",
       "      <td>NaN</td>\n",
       "    </tr>\n",
       "  </tbody>\n",
       "</table>\n",
       "<p>3 rows × 27 columns</p>\n",
       "</div>"
      ],
      "text/plain": [
       "    country_name    pandem  pandem_dis   panback country_text_id continent  \\\n",
       "118  South Sudan  0.176471        0.15  0.000000             SSD    Africa   \n",
       "121        Sudan  0.176471        0.15  0.056069             SDN    Africa   \n",
       "125       Taiwan  0.058824        0.05  0.049692             TWN      Asia   \n",
       "\n",
       "             sub-region income_group  year   rule  ...  gdp_pc_world_bank  \\\n",
       "118  Sub-Saharan Africa   Low income  2019  0.051  ...        1119.651333   \n",
       "121     Northern Africa   Low income  2019  0.269  ...         441.505603   \n",
       "125        Eastern Asia  High income  2019  0.913  ...                NaN   \n",
       "\n",
       "     gini_index_world_bank  inflation_world_bank  military_world_bank  \\\n",
       "118                    NaN            187.851626             1.329208   \n",
       "121                   34.2             50.994052             2.278302   \n",
       "125                    NaN                   NaN                  NaN   \n",
       "\n",
       "     mineral_world_bank  oil_world_bank  ethnic_frac  ling_frac  relig_frac  \\\n",
       "118            0.000000       31.325699       0.7147     0.7190      0.4307   \n",
       "121            2.537048        1.013017       0.7147     0.7190      0.4307   \n",
       "125            0.000000        0.000000       0.2744     0.5028      0.6845   \n",
       "\n",
       "     trade_gdp_world_bank  \n",
       "118             65.551349  \n",
       "121             26.721863  \n",
       "125                   NaN  \n",
       "\n",
       "[3 rows x 27 columns]"
      ]
     },
     "execution_count": 74,
     "metadata": {},
     "output_type": "execute_result"
    }
   ],
   "source": [
    "data.loc[data['population_density_world_bank'].isna()]"
   ]
  },
  {
   "cell_type": "code",
   "execution_count": 75,
   "metadata": {
    "ExecuteTime": {
     "end_time": "2021-05-10T10:58:30.124901Z",
     "start_time": "2021-05-10T10:58:30.105831Z"
    }
   },
   "outputs": [],
   "source": [
    "data.loc[data['country_name'] == 'Taiwan','population_density_world_bank'] = 650\n",
    "data.loc[data['country_name'] == 'Sudan','population_density_world_bank'] = 21.3\n",
    "data.loc[data['country_name'] == 'South Sudan','population_density_world_bank'] = 13.33"
   ]
  },
  {
   "cell_type": "code",
   "execution_count": 76,
   "metadata": {
    "ExecuteTime": {
     "end_time": "2021-05-10T10:58:31.359449Z",
     "start_time": "2021-05-10T10:58:31.334479Z"
    }
   },
   "outputs": [
    {
     "data": {
      "text/html": [
       "<div>\n",
       "<style scoped>\n",
       "    .dataframe tbody tr th:only-of-type {\n",
       "        vertical-align: middle;\n",
       "    }\n",
       "\n",
       "    .dataframe tbody tr th {\n",
       "        vertical-align: top;\n",
       "    }\n",
       "\n",
       "    .dataframe thead th {\n",
       "        text-align: right;\n",
       "    }\n",
       "</style>\n",
       "<table border=\"1\" class=\"dataframe\">\n",
       "  <thead>\n",
       "    <tr style=\"text-align: right;\">\n",
       "      <th></th>\n",
       "      <th>country_name</th>\n",
       "      <th>pandem</th>\n",
       "      <th>pandem_dis</th>\n",
       "      <th>panback</th>\n",
       "      <th>country_text_id</th>\n",
       "      <th>continent</th>\n",
       "      <th>sub-region</th>\n",
       "      <th>income_group</th>\n",
       "      <th>year</th>\n",
       "      <th>rule</th>\n",
       "      <th>...</th>\n",
       "      <th>gdp_pc_world_bank</th>\n",
       "      <th>gini_index_world_bank</th>\n",
       "      <th>inflation_world_bank</th>\n",
       "      <th>military_world_bank</th>\n",
       "      <th>mineral_world_bank</th>\n",
       "      <th>oil_world_bank</th>\n",
       "      <th>ethnic_frac</th>\n",
       "      <th>ling_frac</th>\n",
       "      <th>relig_frac</th>\n",
       "      <th>trade_gdp_world_bank</th>\n",
       "    </tr>\n",
       "  </thead>\n",
       "  <tbody>\n",
       "  </tbody>\n",
       "</table>\n",
       "<p>0 rows × 27 columns</p>\n",
       "</div>"
      ],
      "text/plain": [
       "Empty DataFrame\n",
       "Columns: [country_name, pandem, pandem_dis, panback, country_text_id, continent, sub-region, income_group, year, rule, region_pol, region_geo, property, polyarchy, justice, education, population_density_world_bank, gdp_pc_world_bank, gini_index_world_bank, inflation_world_bank, military_world_bank, mineral_world_bank, oil_world_bank, ethnic_frac, ling_frac, relig_frac, trade_gdp_world_bank]\n",
       "Index: []\n",
       "\n",
       "[0 rows x 27 columns]"
      ]
     },
     "execution_count": 76,
     "metadata": {},
     "output_type": "execute_result"
    }
   ],
   "source": [
    "data.loc[data['population_density_world_bank'].isna()]"
   ]
  },
  {
   "cell_type": "code",
   "execution_count": 77,
   "metadata": {
    "ExecuteTime": {
     "end_time": "2021-05-10T10:58:31.544195Z",
     "start_time": "2021-05-10T10:58:31.532263Z"
    }
   },
   "outputs": [
    {
     "data": {
      "text/plain": [
       "country_name                      0\n",
       "pandem                            0\n",
       "pandem_dis                        0\n",
       "panback                           0\n",
       "country_text_id                   0\n",
       "continent                         0\n",
       "sub-region                        0\n",
       "income_group                      0\n",
       "year                              0\n",
       "rule                              0\n",
       "region_pol                        0\n",
       "region_geo                        0\n",
       "property                          0\n",
       "polyarchy                         0\n",
       "justice                           0\n",
       "education                        20\n",
       "population_density_world_bank     0\n",
       "gdp_pc_world_bank                 4\n",
       "gini_index_world_bank            25\n",
       "inflation_world_bank              8\n",
       "military_world_bank               5\n",
       "mineral_world_bank                0\n",
       "oil_world_bank                    0\n",
       "ethnic_frac                       0\n",
       "ling_frac                         0\n",
       "relig_frac                        0\n",
       "trade_gdp_world_bank              6\n",
       "dtype: int64"
      ]
     },
     "execution_count": 77,
     "metadata": {},
     "output_type": "execute_result"
    }
   ],
   "source": [
    "data.isna().sum()"
   ]
  },
  {
   "cell_type": "markdown",
   "metadata": {},
   "source": [
    "### Imputation of 'GDPpc'\n",
    "\n",
    "Wikipedia as a source"
   ]
  },
  {
   "cell_type": "code",
   "execution_count": 78,
   "metadata": {
    "ExecuteTime": {
     "end_time": "2021-05-10T10:58:35.877802Z",
     "start_time": "2021-05-10T10:58:35.836861Z"
    }
   },
   "outputs": [
    {
     "data": {
      "text/html": [
       "<div>\n",
       "<style scoped>\n",
       "    .dataframe tbody tr th:only-of-type {\n",
       "        vertical-align: middle;\n",
       "    }\n",
       "\n",
       "    .dataframe tbody tr th {\n",
       "        vertical-align: top;\n",
       "    }\n",
       "\n",
       "    .dataframe thead th {\n",
       "        text-align: right;\n",
       "    }\n",
       "</style>\n",
       "<table border=\"1\" class=\"dataframe\">\n",
       "  <thead>\n",
       "    <tr style=\"text-align: right;\">\n",
       "      <th></th>\n",
       "      <th>country_name</th>\n",
       "      <th>pandem</th>\n",
       "      <th>pandem_dis</th>\n",
       "      <th>panback</th>\n",
       "      <th>country_text_id</th>\n",
       "      <th>continent</th>\n",
       "      <th>sub-region</th>\n",
       "      <th>income_group</th>\n",
       "      <th>year</th>\n",
       "      <th>rule</th>\n",
       "      <th>...</th>\n",
       "      <th>gdp_pc_world_bank</th>\n",
       "      <th>gini_index_world_bank</th>\n",
       "      <th>inflation_world_bank</th>\n",
       "      <th>military_world_bank</th>\n",
       "      <th>mineral_world_bank</th>\n",
       "      <th>oil_world_bank</th>\n",
       "      <th>ethnic_frac</th>\n",
       "      <th>ling_frac</th>\n",
       "      <th>relig_frac</th>\n",
       "      <th>trade_gdp_world_bank</th>\n",
       "    </tr>\n",
       "  </thead>\n",
       "  <tbody>\n",
       "    <tr>\n",
       "      <th>91</th>\n",
       "      <td>North Korea</td>\n",
       "      <td>0.176471</td>\n",
       "      <td>0.15</td>\n",
       "      <td>0.000000</td>\n",
       "      <td>PRK</td>\n",
       "      <td>Asia</td>\n",
       "      <td>Eastern Asia</td>\n",
       "      <td>Low income</td>\n",
       "      <td>2019</td>\n",
       "      <td>0.044</td>\n",
       "      <td>...</td>\n",
       "      <td>NaN</td>\n",
       "      <td>NaN</td>\n",
       "      <td>NaN</td>\n",
       "      <td>NaN</td>\n",
       "      <td>0.0</td>\n",
       "      <td>0.0</td>\n",
       "      <td>0.0000</td>\n",
       "      <td>0.0000</td>\n",
       "      <td>0.6604</td>\n",
       "      <td>NaN</td>\n",
       "    </tr>\n",
       "    <tr>\n",
       "      <th>115</th>\n",
       "      <td>Somalia</td>\n",
       "      <td>0.352941</td>\n",
       "      <td>0.30</td>\n",
       "      <td>0.129312</td>\n",
       "      <td>SOM</td>\n",
       "      <td>Africa</td>\n",
       "      <td>Sub-Saharan Africa</td>\n",
       "      <td>Low income</td>\n",
       "      <td>2019</td>\n",
       "      <td>0.109</td>\n",
       "      <td>...</td>\n",
       "      <td>NaN</td>\n",
       "      <td>NaN</td>\n",
       "      <td>NaN</td>\n",
       "      <td>NaN</td>\n",
       "      <td>0.0</td>\n",
       "      <td>0.0</td>\n",
       "      <td>0.8117</td>\n",
       "      <td>0.0330</td>\n",
       "      <td>0.0000</td>\n",
       "      <td>NaN</td>\n",
       "    </tr>\n",
       "    <tr>\n",
       "      <th>124</th>\n",
       "      <td>Syria</td>\n",
       "      <td>0.235294</td>\n",
       "      <td>0.25</td>\n",
       "      <td>0.038730</td>\n",
       "      <td>SYR</td>\n",
       "      <td>Asia</td>\n",
       "      <td>Western Asia</td>\n",
       "      <td>Low income</td>\n",
       "      <td>2019</td>\n",
       "      <td>0.091</td>\n",
       "      <td>...</td>\n",
       "      <td>NaN</td>\n",
       "      <td>NaN</td>\n",
       "      <td>36.702295</td>\n",
       "      <td>4.056142</td>\n",
       "      <td>0.0</td>\n",
       "      <td>0.0</td>\n",
       "      <td>0.5399</td>\n",
       "      <td>0.1817</td>\n",
       "      <td>0.4310</td>\n",
       "      <td>NaN</td>\n",
       "    </tr>\n",
       "    <tr>\n",
       "      <th>125</th>\n",
       "      <td>Taiwan</td>\n",
       "      <td>0.058824</td>\n",
       "      <td>0.05</td>\n",
       "      <td>0.049692</td>\n",
       "      <td>TWN</td>\n",
       "      <td>Asia</td>\n",
       "      <td>Eastern Asia</td>\n",
       "      <td>High income</td>\n",
       "      <td>2019</td>\n",
       "      <td>0.913</td>\n",
       "      <td>...</td>\n",
       "      <td>NaN</td>\n",
       "      <td>NaN</td>\n",
       "      <td>NaN</td>\n",
       "      <td>NaN</td>\n",
       "      <td>0.0</td>\n",
       "      <td>0.0</td>\n",
       "      <td>0.2744</td>\n",
       "      <td>0.5028</td>\n",
       "      <td>0.6845</td>\n",
       "      <td>NaN</td>\n",
       "    </tr>\n",
       "  </tbody>\n",
       "</table>\n",
       "<p>4 rows × 27 columns</p>\n",
       "</div>"
      ],
      "text/plain": [
       "    country_name    pandem  pandem_dis   panback country_text_id continent  \\\n",
       "91   North Korea  0.176471        0.15  0.000000             PRK      Asia   \n",
       "115      Somalia  0.352941        0.30  0.129312             SOM    Africa   \n",
       "124        Syria  0.235294        0.25  0.038730             SYR      Asia   \n",
       "125       Taiwan  0.058824        0.05  0.049692             TWN      Asia   \n",
       "\n",
       "             sub-region income_group  year   rule  ...  gdp_pc_world_bank  \\\n",
       "91         Eastern Asia   Low income  2019  0.044  ...                NaN   \n",
       "115  Sub-Saharan Africa   Low income  2019  0.109  ...                NaN   \n",
       "124        Western Asia   Low income  2019  0.091  ...                NaN   \n",
       "125        Eastern Asia  High income  2019  0.913  ...                NaN   \n",
       "\n",
       "     gini_index_world_bank  inflation_world_bank  military_world_bank  \\\n",
       "91                     NaN                   NaN                  NaN   \n",
       "115                    NaN                   NaN                  NaN   \n",
       "124                    NaN             36.702295             4.056142   \n",
       "125                    NaN                   NaN                  NaN   \n",
       "\n",
       "     mineral_world_bank  oil_world_bank  ethnic_frac  ling_frac  relig_frac  \\\n",
       "91                  0.0             0.0       0.0000     0.0000      0.6604   \n",
       "115                 0.0             0.0       0.8117     0.0330      0.0000   \n",
       "124                 0.0             0.0       0.5399     0.1817      0.4310   \n",
       "125                 0.0             0.0       0.2744     0.5028      0.6845   \n",
       "\n",
       "     trade_gdp_world_bank  \n",
       "91                    NaN  \n",
       "115                   NaN  \n",
       "124                   NaN  \n",
       "125                   NaN  \n",
       "\n",
       "[4 rows x 27 columns]"
      ]
     },
     "execution_count": 78,
     "metadata": {},
     "output_type": "execute_result"
    }
   ],
   "source": [
    "data.loc[data['gdp_pc_world_bank'].isna()]"
   ]
  },
  {
   "cell_type": "code",
   "execution_count": 79,
   "metadata": {
    "ExecuteTime": {
     "end_time": "2021-05-10T10:58:37.657684Z",
     "start_time": "2021-05-10T10:58:37.632752Z"
    }
   },
   "outputs": [],
   "source": [
    "data.loc[data['country_name'] == 'North Korea','gdp_pc_world_bank'] = 1300\n",
    "data.loc[data['country_name'] == 'Somalia','gdp_pc_world_bank'] = 348\n",
    "data.loc[data['country_name'] == 'Syria','gdp_pc_world_bank'] = 831\n",
    "data.loc[data['country_name'] == 'Taiwan','gdp_pc_world_bank'] = 24828"
   ]
  },
  {
   "cell_type": "code",
   "execution_count": 80,
   "metadata": {
    "ExecuteTime": {
     "end_time": "2021-05-10T10:58:37.854665Z",
     "start_time": "2021-05-10T10:58:37.826773Z"
    }
   },
   "outputs": [
    {
     "data": {
      "text/html": [
       "<div>\n",
       "<style scoped>\n",
       "    .dataframe tbody tr th:only-of-type {\n",
       "        vertical-align: middle;\n",
       "    }\n",
       "\n",
       "    .dataframe tbody tr th {\n",
       "        vertical-align: top;\n",
       "    }\n",
       "\n",
       "    .dataframe thead th {\n",
       "        text-align: right;\n",
       "    }\n",
       "</style>\n",
       "<table border=\"1\" class=\"dataframe\">\n",
       "  <thead>\n",
       "    <tr style=\"text-align: right;\">\n",
       "      <th></th>\n",
       "      <th>country_name</th>\n",
       "      <th>pandem</th>\n",
       "      <th>pandem_dis</th>\n",
       "      <th>panback</th>\n",
       "      <th>country_text_id</th>\n",
       "      <th>continent</th>\n",
       "      <th>sub-region</th>\n",
       "      <th>income_group</th>\n",
       "      <th>year</th>\n",
       "      <th>rule</th>\n",
       "      <th>...</th>\n",
       "      <th>gdp_pc_world_bank</th>\n",
       "      <th>gini_index_world_bank</th>\n",
       "      <th>inflation_world_bank</th>\n",
       "      <th>military_world_bank</th>\n",
       "      <th>mineral_world_bank</th>\n",
       "      <th>oil_world_bank</th>\n",
       "      <th>ethnic_frac</th>\n",
       "      <th>ling_frac</th>\n",
       "      <th>relig_frac</th>\n",
       "      <th>trade_gdp_world_bank</th>\n",
       "    </tr>\n",
       "  </thead>\n",
       "  <tbody>\n",
       "  </tbody>\n",
       "</table>\n",
       "<p>0 rows × 27 columns</p>\n",
       "</div>"
      ],
      "text/plain": [
       "Empty DataFrame\n",
       "Columns: [country_name, pandem, pandem_dis, panback, country_text_id, continent, sub-region, income_group, year, rule, region_pol, region_geo, property, polyarchy, justice, education, population_density_world_bank, gdp_pc_world_bank, gini_index_world_bank, inflation_world_bank, military_world_bank, mineral_world_bank, oil_world_bank, ethnic_frac, ling_frac, relig_frac, trade_gdp_world_bank]\n",
       "Index: []\n",
       "\n",
       "[0 rows x 27 columns]"
      ]
     },
     "execution_count": 80,
     "metadata": {},
     "output_type": "execute_result"
    }
   ],
   "source": [
    "data.loc[data['gdp_pc_world_bank'].isna()]"
   ]
  },
  {
   "cell_type": "code",
   "execution_count": 81,
   "metadata": {
    "ExecuteTime": {
     "end_time": "2021-05-10T10:58:38.582723Z",
     "start_time": "2021-05-10T10:58:38.570785Z"
    }
   },
   "outputs": [
    {
     "data": {
      "text/plain": [
       "country_name                      0\n",
       "pandem                            0\n",
       "pandem_dis                        0\n",
       "panback                           0\n",
       "country_text_id                   0\n",
       "continent                         0\n",
       "sub-region                        0\n",
       "income_group                      0\n",
       "year                              0\n",
       "rule                              0\n",
       "region_pol                        0\n",
       "region_geo                        0\n",
       "property                          0\n",
       "polyarchy                         0\n",
       "justice                           0\n",
       "education                        20\n",
       "population_density_world_bank     0\n",
       "gdp_pc_world_bank                 0\n",
       "gini_index_world_bank            25\n",
       "inflation_world_bank              8\n",
       "military_world_bank               5\n",
       "mineral_world_bank                0\n",
       "oil_world_bank                    0\n",
       "ethnic_frac                       0\n",
       "ling_frac                         0\n",
       "relig_frac                        0\n",
       "trade_gdp_world_bank              6\n",
       "dtype: int64"
      ]
     },
     "execution_count": 81,
     "metadata": {},
     "output_type": "execute_result"
    }
   ],
   "source": [
    "data.isna().sum()"
   ]
  },
  {
   "cell_type": "markdown",
   "metadata": {},
   "source": [
    "### Imputation of 'Gini'\n",
    "* from Wikipedia\n",
    "* mean according to income group for unavailable data"
   ]
  },
  {
   "cell_type": "code",
   "execution_count": 82,
   "metadata": {
    "ExecuteTime": {
     "end_time": "2021-05-10T10:58:40.265164Z",
     "start_time": "2021-05-10T10:58:40.254199Z"
    }
   },
   "outputs": [
    {
     "data": {
      "text/plain": [
       "['Afghanistan',\n",
       " 'Azerbaijan',\n",
       " 'Cambodia',\n",
       " 'Central African Republic',\n",
       " 'Cuba',\n",
       " 'Eritrea',\n",
       " 'Jamaica',\n",
       " 'Kuwait',\n",
       " 'Libya',\n",
       " 'Mali',\n",
       " 'New Zealand',\n",
       " 'Nigeria',\n",
       " 'North Korea',\n",
       " 'Oman',\n",
       " 'Papua New Guinea',\n",
       " 'Qatar',\n",
       " 'Saudi Arabia',\n",
       " 'Singapore',\n",
       " 'Somalia',\n",
       " 'South Sudan',\n",
       " 'Syria',\n",
       " 'Taiwan',\n",
       " 'Turkmenistan',\n",
       " 'Uzbekistan',\n",
       " 'Venezuela']"
      ]
     },
     "execution_count": 82,
     "metadata": {},
     "output_type": "execute_result"
    }
   ],
   "source": [
    "data.loc[data['gini_index_world_bank'].isna()]['country_name'].to_list()"
   ]
  },
  {
   "cell_type": "code",
   "execution_count": 83,
   "metadata": {
    "ExecuteTime": {
     "end_time": "2021-05-10T10:58:41.721158Z",
     "start_time": "2021-05-10T10:58:41.610442Z"
    }
   },
   "outputs": [],
   "source": [
    "### From Wikipedia:\n",
    "data.loc[data['country_name'] == 'Afghanistan','gini_index_world_bank'] = 27.8\n",
    "data.loc[data['country_name'] == 'Azerbaijan','gini_index_world_bank'] = 26.6\n",
    "data.loc[data['country_name'] == 'Cambodia','gini_index_world_bank'] = 36\n",
    "data.loc[data['country_name'] == 'Central African Republic','gini_index_world_bank'] = 56.3\n",
    "data.loc[data['country_name'] == 'Cuba','gini_index_world_bank'] = 38\n",
    "data.loc[data['country_name'] == 'Jamaica','gini_index_world_bank'] = 35\n",
    "data.loc[data['country_name'] == 'Mali','gini_index_world_bank'] = 33\n",
    "data.loc[data['country_name'] == 'New Zealand','gini_index_world_bank'] = 33.9\n",
    "data.loc[data['country_name'] == 'Nigeria','gini_index_world_bank'] = 35.1\n",
    "data.loc[data['country_name'] == 'Papua New Guinea','gini_index_world_bank'] = 41.9\n",
    "data.loc[data['country_name'] == 'Qatar','gini_index_world_bank'] = 41.1\n",
    "data.loc[data['country_name'] == 'Saudi Arabia','gini_index_world_bank'] = 45.9\n",
    "data.loc[data['country_name'] == 'Singapore','gini_index_world_bank'] = 45.9\n",
    "data.loc[data['country_name'] == 'South Sudan','gini_index_world_bank'] = 45.5\n",
    "data.loc[data['country_name'] == 'Syria','gini_index_world_bank'] = 55.8\n",
    "data.loc[data['country_name'] == 'Taiwan','gini_index_world_bank'] = 34.1\n",
    "data.loc[data['country_name'] == 'Turkmenistan','gini_index_world_bank'] = 40.8\n",
    "data.loc[data['country_name'] == 'Uzbekistan','gini_index_world_bank'] = 36.7\n",
    "data.loc[data['country_name'] == 'Venezuela','gini_index_world_bank'] = 44.8"
   ]
  },
  {
   "cell_type": "markdown",
   "metadata": {},
   "source": [
    "#### Countries with missings"
   ]
  },
  {
   "cell_type": "code",
   "execution_count": 84,
   "metadata": {
    "ExecuteTime": {
     "end_time": "2021-05-10T10:58:42.615563Z",
     "start_time": "2021-05-10T10:58:42.607582Z"
    }
   },
   "outputs": [
    {
     "data": {
      "text/plain": [
       "['Eritrea', 'Kuwait', 'Libya', 'North Korea', 'Oman', 'Somalia']"
      ]
     },
     "execution_count": 84,
     "metadata": {},
     "output_type": "execute_result"
    }
   ],
   "source": [
    "to_fill = data.loc[data['gini_index_world_bank'].isna()]['country_name'].to_list()\n",
    "to_fill"
   ]
  },
  {
   "cell_type": "markdown",
   "metadata": {},
   "source": [
    "Filling NaN's for 'Gini' with means for income group to which country belongs"
   ]
  },
  {
   "cell_type": "code",
   "execution_count": 85,
   "metadata": {
    "ExecuteTime": {
     "end_time": "2021-05-10T10:58:44.191180Z",
     "start_time": "2021-05-10T10:58:44.181688Z"
    }
   },
   "outputs": [
    {
     "data": {
      "text/plain": [
       "income_group\n",
       "High income            33.800000\n",
       "Low income             40.180000\n",
       "Lower middle income    38.842105\n",
       "Upper middle income    40.386842\n",
       "Name: gini_index_world_bank, dtype: float64"
      ]
     },
     "execution_count": 85,
     "metadata": {},
     "output_type": "execute_result"
    }
   ],
   "source": [
    "data.groupby('income_group')['gini_index_world_bank'].mean()"
   ]
  },
  {
   "cell_type": "code",
   "execution_count": 86,
   "metadata": {
    "ExecuteTime": {
     "end_time": "2021-05-10T10:58:44.578199Z",
     "start_time": "2021-05-10T10:58:44.563201Z"
    }
   },
   "outputs": [],
   "source": [
    "high = data.groupby('income_group')['gini_index_world_bank'].mean()['High income']\n",
    "low = data.groupby('income_group')['gini_index_world_bank'].mean()['Low income']\n",
    "lmid = data.groupby('income_group')['gini_index_world_bank'].mean()['Lower middle income']\n",
    "umid = data.groupby('income_group')['gini_index_world_bank'].mean()['Upper middle income']"
   ]
  },
  {
   "cell_type": "code",
   "execution_count": 87,
   "metadata": {
    "ExecuteTime": {
     "end_time": "2021-05-10T10:58:44.797908Z",
     "start_time": "2021-05-10T10:58:44.728094Z"
    }
   },
   "outputs": [],
   "source": [
    "for i in to_fill:\n",
    "    if(data.loc[data['country_name'] == i, 'income_group'].values[0] == 'High income'):\n",
    "        data.loc[data['country_name'] == i,'gini_index_world_bank'] = high\n",
    "    if(data.loc[data['country_name'] == i, 'income_group'].values[0] == 'Low income'):\n",
    "        data.loc[data['country_name'] == i,'gini_index_world_bank'] = low  \n",
    "    if(data.loc[data['country_name'] == i, 'income_group'].values[0] == 'Lower middle income'):\n",
    "        data.loc[data['country_name'] == i,'gini_index_world_bank'] = lmid\n",
    "    else:\n",
    "        data.loc[data['country_name'] == i,'gini_index_world_bank'] = umid"
   ]
  },
  {
   "cell_type": "code",
   "execution_count": 88,
   "metadata": {
    "ExecuteTime": {
     "end_time": "2021-05-10T10:58:45.240921Z",
     "start_time": "2021-05-10T10:58:45.229948Z"
    }
   },
   "outputs": [
    {
     "data": {
      "text/plain": [
       "country_name                      0\n",
       "pandem                            0\n",
       "pandem_dis                        0\n",
       "panback                           0\n",
       "country_text_id                   0\n",
       "continent                         0\n",
       "sub-region                        0\n",
       "income_group                      0\n",
       "year                              0\n",
       "rule                              0\n",
       "region_pol                        0\n",
       "region_geo                        0\n",
       "property                          0\n",
       "polyarchy                         0\n",
       "justice                           0\n",
       "education                        20\n",
       "population_density_world_bank     0\n",
       "gdp_pc_world_bank                 0\n",
       "gini_index_world_bank             0\n",
       "inflation_world_bank              8\n",
       "military_world_bank               5\n",
       "mineral_world_bank                0\n",
       "oil_world_bank                    0\n",
       "ethnic_frac                       0\n",
       "ling_frac                         0\n",
       "relig_frac                        0\n",
       "trade_gdp_world_bank              6\n",
       "dtype: int64"
      ]
     },
     "execution_count": 88,
     "metadata": {},
     "output_type": "execute_result"
    }
   ],
   "source": [
    "data.isna().sum()"
   ]
  },
  {
   "cell_type": "markdown",
   "metadata": {},
   "source": [
    "### Imputation of other variables\n",
    "* mean according to income group"
   ]
  },
  {
   "cell_type": "markdown",
   "metadata": {},
   "source": [
    "##### Function for imputing missings for concrete variable with means for income group to which country belongs"
   ]
  },
  {
   "cell_type": "code",
   "execution_count": 89,
   "metadata": {
    "ExecuteTime": {
     "end_time": "2021-05-10T10:58:47.315009Z",
     "start_time": "2021-05-10T10:58:47.302988Z"
    }
   },
   "outputs": [],
   "source": [
    "def mean_filler(var):\n",
    "    \n",
    "    to_fill = data.loc[data[var].isna()]['country_name'].to_list()\n",
    "\n",
    "    high = data.groupby('income_group')[var].mean()['High income']\n",
    "    low = data.groupby('income_group')[var].mean()['Low income']\n",
    "    lmid = data.groupby('income_group')[var].mean()['Lower middle income']\n",
    "    umid = data.groupby('income_group')[var].mean()['Upper middle income']\n",
    "\n",
    "    for i in to_fill:\n",
    "        if(data.loc[data['country_name'] == i, 'income_group'].values[0] == 'High income'):\n",
    "            data.loc[data['country_name'] == i,var] = high\n",
    "        if(data.loc[data['country_name'] == i, 'income_group'].values[0] == 'Low income'):\n",
    "            data.loc[data['country_name'] == i,var] = low  \n",
    "        if(data.loc[data['country_name'] == i, 'income_group'].values[0] == 'Lower middle income'):\n",
    "            data.loc[data['country_name'] == i,var] = lmid\n",
    "        else:\n",
    "            data.loc[data['country_name'] == i,var] = umid"
   ]
  },
  {
   "cell_type": "code",
   "execution_count": 90,
   "metadata": {
    "ExecuteTime": {
     "end_time": "2021-05-10T10:58:47.569192Z",
     "start_time": "2021-05-10T10:58:47.560660Z"
    }
   },
   "outputs": [
    {
     "data": {
      "text/plain": [
       "['Central African Republic',\n",
       " 'Cuba',\n",
       " 'Eritrea',\n",
       " 'North Korea',\n",
       " 'Somalia',\n",
       " 'Taiwan',\n",
       " 'Turkmenistan',\n",
       " 'Uzbekistan']"
      ]
     },
     "execution_count": 90,
     "metadata": {},
     "output_type": "execute_result"
    }
   ],
   "source": [
    "data.loc[data['inflation_world_bank'].isna()]['country_name'].to_list()"
   ]
  },
  {
   "cell_type": "code",
   "execution_count": 91,
   "metadata": {
    "ExecuteTime": {
     "end_time": "2021-05-10T10:58:47.978258Z",
     "start_time": "2021-05-10T10:58:47.851599Z"
    }
   },
   "outputs": [],
   "source": [
    "mean_filler('inflation_world_bank')"
   ]
  },
  {
   "cell_type": "code",
   "execution_count": 92,
   "metadata": {
    "ExecuteTime": {
     "end_time": "2021-05-10T10:58:48.105918Z",
     "start_time": "2021-05-10T10:58:48.076004Z"
    }
   },
   "outputs": [
    {
     "data": {
      "text/html": [
       "<div>\n",
       "<style scoped>\n",
       "    .dataframe tbody tr th:only-of-type {\n",
       "        vertical-align: middle;\n",
       "    }\n",
       "\n",
       "    .dataframe tbody tr th {\n",
       "        vertical-align: top;\n",
       "    }\n",
       "\n",
       "    .dataframe thead th {\n",
       "        text-align: right;\n",
       "    }\n",
       "</style>\n",
       "<table border=\"1\" class=\"dataframe\">\n",
       "  <thead>\n",
       "    <tr style=\"text-align: right;\">\n",
       "      <th></th>\n",
       "      <th>country_name</th>\n",
       "      <th>pandem</th>\n",
       "      <th>pandem_dis</th>\n",
       "      <th>panback</th>\n",
       "      <th>country_text_id</th>\n",
       "      <th>continent</th>\n",
       "      <th>sub-region</th>\n",
       "      <th>income_group</th>\n",
       "      <th>year</th>\n",
       "      <th>rule</th>\n",
       "      <th>...</th>\n",
       "      <th>gdp_pc_world_bank</th>\n",
       "      <th>gini_index_world_bank</th>\n",
       "      <th>inflation_world_bank</th>\n",
       "      <th>military_world_bank</th>\n",
       "      <th>mineral_world_bank</th>\n",
       "      <th>oil_world_bank</th>\n",
       "      <th>ethnic_frac</th>\n",
       "      <th>ling_frac</th>\n",
       "      <th>relig_frac</th>\n",
       "      <th>trade_gdp_world_bank</th>\n",
       "    </tr>\n",
       "  </thead>\n",
       "  <tbody>\n",
       "  </tbody>\n",
       "</table>\n",
       "<p>0 rows × 27 columns</p>\n",
       "</div>"
      ],
      "text/plain": [
       "Empty DataFrame\n",
       "Columns: [country_name, pandem, pandem_dis, panback, country_text_id, continent, sub-region, income_group, year, rule, region_pol, region_geo, property, polyarchy, justice, education, population_density_world_bank, gdp_pc_world_bank, gini_index_world_bank, inflation_world_bank, military_world_bank, mineral_world_bank, oil_world_bank, ethnic_frac, ling_frac, relig_frac, trade_gdp_world_bank]\n",
       "Index: []\n",
       "\n",
       "[0 rows x 27 columns]"
      ]
     },
     "execution_count": 92,
     "metadata": {},
     "output_type": "execute_result"
    }
   ],
   "source": [
    "data.loc[data['inflation_world_bank'].isna()]"
   ]
  },
  {
   "cell_type": "code",
   "execution_count": 93,
   "metadata": {
    "ExecuteTime": {
     "end_time": "2021-05-10T10:58:48.341608Z",
     "start_time": "2021-05-10T10:58:48.331633Z"
    }
   },
   "outputs": [
    {
     "data": {
      "text/plain": [
       "['Eritrea', 'North Korea', 'Somalia', 'Taiwan', 'Turkmenistan']"
      ]
     },
     "execution_count": 93,
     "metadata": {},
     "output_type": "execute_result"
    }
   ],
   "source": [
    "data.loc[data['military_world_bank'].isna()]['country_name'].to_list()"
   ]
  },
  {
   "cell_type": "code",
   "execution_count": 94,
   "metadata": {
    "ExecuteTime": {
     "end_time": "2021-05-10T10:58:49.151139Z",
     "start_time": "2021-05-10T10:58:49.081605Z"
    }
   },
   "outputs": [],
   "source": [
    "mean_filler('military_world_bank')"
   ]
  },
  {
   "cell_type": "code",
   "execution_count": 95,
   "metadata": {
    "ExecuteTime": {
     "end_time": "2021-05-10T10:58:49.299910Z",
     "start_time": "2021-05-10T10:58:49.275975Z"
    }
   },
   "outputs": [
    {
     "data": {
      "text/html": [
       "<div>\n",
       "<style scoped>\n",
       "    .dataframe tbody tr th:only-of-type {\n",
       "        vertical-align: middle;\n",
       "    }\n",
       "\n",
       "    .dataframe tbody tr th {\n",
       "        vertical-align: top;\n",
       "    }\n",
       "\n",
       "    .dataframe thead th {\n",
       "        text-align: right;\n",
       "    }\n",
       "</style>\n",
       "<table border=\"1\" class=\"dataframe\">\n",
       "  <thead>\n",
       "    <tr style=\"text-align: right;\">\n",
       "      <th></th>\n",
       "      <th>country_name</th>\n",
       "      <th>pandem</th>\n",
       "      <th>pandem_dis</th>\n",
       "      <th>panback</th>\n",
       "      <th>country_text_id</th>\n",
       "      <th>continent</th>\n",
       "      <th>sub-region</th>\n",
       "      <th>income_group</th>\n",
       "      <th>year</th>\n",
       "      <th>rule</th>\n",
       "      <th>...</th>\n",
       "      <th>gdp_pc_world_bank</th>\n",
       "      <th>gini_index_world_bank</th>\n",
       "      <th>inflation_world_bank</th>\n",
       "      <th>military_world_bank</th>\n",
       "      <th>mineral_world_bank</th>\n",
       "      <th>oil_world_bank</th>\n",
       "      <th>ethnic_frac</th>\n",
       "      <th>ling_frac</th>\n",
       "      <th>relig_frac</th>\n",
       "      <th>trade_gdp_world_bank</th>\n",
       "    </tr>\n",
       "  </thead>\n",
       "  <tbody>\n",
       "  </tbody>\n",
       "</table>\n",
       "<p>0 rows × 27 columns</p>\n",
       "</div>"
      ],
      "text/plain": [
       "Empty DataFrame\n",
       "Columns: [country_name, pandem, pandem_dis, panback, country_text_id, continent, sub-region, income_group, year, rule, region_pol, region_geo, property, polyarchy, justice, education, population_density_world_bank, gdp_pc_world_bank, gini_index_world_bank, inflation_world_bank, military_world_bank, mineral_world_bank, oil_world_bank, ethnic_frac, ling_frac, relig_frac, trade_gdp_world_bank]\n",
       "Index: []\n",
       "\n",
       "[0 rows x 27 columns]"
      ]
     },
     "execution_count": 95,
     "metadata": {},
     "output_type": "execute_result"
    }
   ],
   "source": [
    "data.loc[data['military_world_bank'].isna()]"
   ]
  },
  {
   "cell_type": "code",
   "execution_count": 96,
   "metadata": {
    "ExecuteTime": {
     "end_time": "2021-05-10T10:58:49.455333Z",
     "start_time": "2021-05-10T10:58:49.446370Z"
    }
   },
   "outputs": [
    {
     "data": {
      "text/plain": [
       "['North Korea', 'Papua New Guinea', 'Somalia', 'Syria', 'Taiwan', 'Yemen']"
      ]
     },
     "execution_count": 96,
     "metadata": {},
     "output_type": "execute_result"
    }
   ],
   "source": [
    "data.loc[data['trade_gdp_world_bank'].isna()]['country_name'].to_list()"
   ]
  },
  {
   "cell_type": "code",
   "execution_count": 97,
   "metadata": {
    "ExecuteTime": {
     "end_time": "2021-05-10T10:58:50.879613Z",
     "start_time": "2021-05-10T10:58:50.792822Z"
    }
   },
   "outputs": [],
   "source": [
    "mean_filler('trade_gdp_world_bank')"
   ]
  },
  {
   "cell_type": "code",
   "execution_count": 98,
   "metadata": {
    "ExecuteTime": {
     "end_time": "2021-05-10T10:58:51.012390Z",
     "start_time": "2021-05-10T10:58:50.986460Z"
    }
   },
   "outputs": [
    {
     "data": {
      "text/html": [
       "<div>\n",
       "<style scoped>\n",
       "    .dataframe tbody tr th:only-of-type {\n",
       "        vertical-align: middle;\n",
       "    }\n",
       "\n",
       "    .dataframe tbody tr th {\n",
       "        vertical-align: top;\n",
       "    }\n",
       "\n",
       "    .dataframe thead th {\n",
       "        text-align: right;\n",
       "    }\n",
       "</style>\n",
       "<table border=\"1\" class=\"dataframe\">\n",
       "  <thead>\n",
       "    <tr style=\"text-align: right;\">\n",
       "      <th></th>\n",
       "      <th>country_name</th>\n",
       "      <th>pandem</th>\n",
       "      <th>pandem_dis</th>\n",
       "      <th>panback</th>\n",
       "      <th>country_text_id</th>\n",
       "      <th>continent</th>\n",
       "      <th>sub-region</th>\n",
       "      <th>income_group</th>\n",
       "      <th>year</th>\n",
       "      <th>rule</th>\n",
       "      <th>...</th>\n",
       "      <th>gdp_pc_world_bank</th>\n",
       "      <th>gini_index_world_bank</th>\n",
       "      <th>inflation_world_bank</th>\n",
       "      <th>military_world_bank</th>\n",
       "      <th>mineral_world_bank</th>\n",
       "      <th>oil_world_bank</th>\n",
       "      <th>ethnic_frac</th>\n",
       "      <th>ling_frac</th>\n",
       "      <th>relig_frac</th>\n",
       "      <th>trade_gdp_world_bank</th>\n",
       "    </tr>\n",
       "  </thead>\n",
       "  <tbody>\n",
       "  </tbody>\n",
       "</table>\n",
       "<p>0 rows × 27 columns</p>\n",
       "</div>"
      ],
      "text/plain": [
       "Empty DataFrame\n",
       "Columns: [country_name, pandem, pandem_dis, panback, country_text_id, continent, sub-region, income_group, year, rule, region_pol, region_geo, property, polyarchy, justice, education, population_density_world_bank, gdp_pc_world_bank, gini_index_world_bank, inflation_world_bank, military_world_bank, mineral_world_bank, oil_world_bank, ethnic_frac, ling_frac, relig_frac, trade_gdp_world_bank]\n",
       "Index: []\n",
       "\n",
       "[0 rows x 27 columns]"
      ]
     },
     "execution_count": 98,
     "metadata": {},
     "output_type": "execute_result"
    }
   ],
   "source": [
    "data.loc[data['trade_gdp_world_bank'].isna()]"
   ]
  },
  {
   "cell_type": "code",
   "execution_count": 99,
   "metadata": {
    "ExecuteTime": {
     "end_time": "2021-05-10T10:58:51.130958Z",
     "start_time": "2021-05-10T10:58:51.120987Z"
    }
   },
   "outputs": [
    {
     "data": {
      "text/plain": [
       "country_name                      0\n",
       "pandem                            0\n",
       "pandem_dis                        0\n",
       "panback                           0\n",
       "country_text_id                   0\n",
       "continent                         0\n",
       "sub-region                        0\n",
       "income_group                      0\n",
       "year                              0\n",
       "rule                              0\n",
       "region_pol                        0\n",
       "region_geo                        0\n",
       "property                          0\n",
       "polyarchy                         0\n",
       "justice                           0\n",
       "education                        20\n",
       "population_density_world_bank     0\n",
       "gdp_pc_world_bank                 0\n",
       "gini_index_world_bank             0\n",
       "inflation_world_bank              0\n",
       "military_world_bank               0\n",
       "mineral_world_bank                0\n",
       "oil_world_bank                    0\n",
       "ethnic_frac                       0\n",
       "ling_frac                         0\n",
       "relig_frac                        0\n",
       "trade_gdp_world_bank              0\n",
       "dtype: int64"
      ]
     },
     "execution_count": 99,
     "metadata": {},
     "output_type": "execute_result"
    }
   ],
   "source": [
    "data.isna().sum()"
   ]
  },
  {
   "cell_type": "code",
   "execution_count": 100,
   "metadata": {
    "ExecuteTime": {
     "end_time": "2021-05-10T10:58:53.028948Z",
     "start_time": "2021-05-10T10:58:52.988538Z"
    }
   },
   "outputs": [
    {
     "data": {
      "text/html": [
       "<div>\n",
       "<style scoped>\n",
       "    .dataframe tbody tr th:only-of-type {\n",
       "        vertical-align: middle;\n",
       "    }\n",
       "\n",
       "    .dataframe tbody tr th {\n",
       "        vertical-align: top;\n",
       "    }\n",
       "\n",
       "    .dataframe thead th {\n",
       "        text-align: right;\n",
       "    }\n",
       "</style>\n",
       "<table border=\"1\" class=\"dataframe\">\n",
       "  <thead>\n",
       "    <tr style=\"text-align: right;\">\n",
       "      <th></th>\n",
       "      <th>country_name</th>\n",
       "      <th>pandem</th>\n",
       "      <th>pandem_dis</th>\n",
       "      <th>panback</th>\n",
       "      <th>country_text_id</th>\n",
       "      <th>continent</th>\n",
       "      <th>sub-region</th>\n",
       "      <th>income_group</th>\n",
       "      <th>year</th>\n",
       "      <th>rule</th>\n",
       "      <th>...</th>\n",
       "      <th>gdp_pc_world_bank</th>\n",
       "      <th>gini_index_world_bank</th>\n",
       "      <th>inflation_world_bank</th>\n",
       "      <th>military_world_bank</th>\n",
       "      <th>mineral_world_bank</th>\n",
       "      <th>oil_world_bank</th>\n",
       "      <th>ethnic_frac</th>\n",
       "      <th>ling_frac</th>\n",
       "      <th>relig_frac</th>\n",
       "      <th>trade_gdp_world_bank</th>\n",
       "    </tr>\n",
       "  </thead>\n",
       "  <tbody>\n",
       "    <tr>\n",
       "      <th>0</th>\n",
       "      <td>Afghanistan</td>\n",
       "      <td>0.058824</td>\n",
       "      <td>0.05</td>\n",
       "      <td>0.000000</td>\n",
       "      <td>AFG</td>\n",
       "      <td>Asia</td>\n",
       "      <td>Southern Asia</td>\n",
       "      <td>Low income</td>\n",
       "      <td>2019</td>\n",
       "      <td>0.341</td>\n",
       "      <td>...</td>\n",
       "      <td>502.115487</td>\n",
       "      <td>27.8</td>\n",
       "      <td>2.302373</td>\n",
       "      <td>0.984561</td>\n",
       "      <td>0.007421</td>\n",
       "      <td>0.001255</td>\n",
       "      <td>0.7693</td>\n",
       "      <td>0.6141</td>\n",
       "      <td>0.2717</td>\n",
       "      <td>45.621177</td>\n",
       "    </tr>\n",
       "    <tr>\n",
       "      <th>1</th>\n",
       "      <td>Albania</td>\n",
       "      <td>0.176471</td>\n",
       "      <td>0.15</td>\n",
       "      <td>0.173110</td>\n",
       "      <td>ALB</td>\n",
       "      <td>Europe</td>\n",
       "      <td>Southern Europe</td>\n",
       "      <td>Upper middle income</td>\n",
       "      <td>2019</td>\n",
       "      <td>0.596</td>\n",
       "      <td>...</td>\n",
       "      <td>5352.857411</td>\n",
       "      <td>33.2</td>\n",
       "      <td>1.411091</td>\n",
       "      <td>1.178901</td>\n",
       "      <td>0.146426</td>\n",
       "      <td>1.365752</td>\n",
       "      <td>0.2204</td>\n",
       "      <td>0.0400</td>\n",
       "      <td>0.4719</td>\n",
       "      <td>76.728300</td>\n",
       "    </tr>\n",
       "    <tr>\n",
       "      <th>2</th>\n",
       "      <td>Algeria</td>\n",
       "      <td>0.294118</td>\n",
       "      <td>0.35</td>\n",
       "      <td>0.123340</td>\n",
       "      <td>DZA</td>\n",
       "      <td>Africa</td>\n",
       "      <td>Northern Africa</td>\n",
       "      <td>Lower middle income</td>\n",
       "      <td>2019</td>\n",
       "      <td>0.217</td>\n",
       "      <td>...</td>\n",
       "      <td>3948.343279</td>\n",
       "      <td>27.6</td>\n",
       "      <td>1.951768</td>\n",
       "      <td>5.271414</td>\n",
       "      <td>0.046717</td>\n",
       "      <td>12.313697</td>\n",
       "      <td>0.3394</td>\n",
       "      <td>0.4427</td>\n",
       "      <td>0.0100</td>\n",
       "      <td>52.044775</td>\n",
       "    </tr>\n",
       "    <tr>\n",
       "      <th>3</th>\n",
       "      <td>Angola</td>\n",
       "      <td>0.117647</td>\n",
       "      <td>0.10</td>\n",
       "      <td>0.041671</td>\n",
       "      <td>AGO</td>\n",
       "      <td>Africa</td>\n",
       "      <td>Sub-Saharan Africa</td>\n",
       "      <td>Lower middle income</td>\n",
       "      <td>2019</td>\n",
       "      <td>0.406</td>\n",
       "      <td>...</td>\n",
       "      <td>2973.591160</td>\n",
       "      <td>51.3</td>\n",
       "      <td>17.145320</td>\n",
       "      <td>1.777138</td>\n",
       "      <td>0.000000</td>\n",
       "      <td>15.753913</td>\n",
       "      <td>0.7867</td>\n",
       "      <td>0.7870</td>\n",
       "      <td>0.6276</td>\n",
       "      <td>66.378012</td>\n",
       "    </tr>\n",
       "    <tr>\n",
       "      <th>4</th>\n",
       "      <td>Argentina</td>\n",
       "      <td>0.058824</td>\n",
       "      <td>0.05</td>\n",
       "      <td>0.054786</td>\n",
       "      <td>ARG</td>\n",
       "      <td>Americas</td>\n",
       "      <td>Latin America and the Caribbean</td>\n",
       "      <td>Upper middle income</td>\n",
       "      <td>2019</td>\n",
       "      <td>0.757</td>\n",
       "      <td>...</td>\n",
       "      <td>10006.148974</td>\n",
       "      <td>41.4</td>\n",
       "      <td>53.548304</td>\n",
       "      <td>0.854561</td>\n",
       "      <td>0.308310</td>\n",
       "      <td>0.735824</td>\n",
       "      <td>0.2550</td>\n",
       "      <td>0.0620</td>\n",
       "      <td>0.2236</td>\n",
       "      <td>32.393666</td>\n",
       "    </tr>\n",
       "  </tbody>\n",
       "</table>\n",
       "<p>5 rows × 27 columns</p>\n",
       "</div>"
      ],
      "text/plain": [
       "  country_name    pandem  pandem_dis   panback country_text_id continent  \\\n",
       "0  Afghanistan  0.058824        0.05  0.000000             AFG      Asia   \n",
       "1      Albania  0.176471        0.15  0.173110             ALB    Europe   \n",
       "2      Algeria  0.294118        0.35  0.123340             DZA    Africa   \n",
       "3       Angola  0.117647        0.10  0.041671             AGO    Africa   \n",
       "4    Argentina  0.058824        0.05  0.054786             ARG  Americas   \n",
       "\n",
       "                        sub-region         income_group  year   rule  ...  \\\n",
       "0                    Southern Asia           Low income  2019  0.341  ...   \n",
       "1                  Southern Europe  Upper middle income  2019  0.596  ...   \n",
       "2                  Northern Africa  Lower middle income  2019  0.217  ...   \n",
       "3               Sub-Saharan Africa  Lower middle income  2019  0.406  ...   \n",
       "4  Latin America and the Caribbean  Upper middle income  2019  0.757  ...   \n",
       "\n",
       "   gdp_pc_world_bank  gini_index_world_bank  inflation_world_bank  \\\n",
       "0         502.115487                   27.8              2.302373   \n",
       "1        5352.857411                   33.2              1.411091   \n",
       "2        3948.343279                   27.6              1.951768   \n",
       "3        2973.591160                   51.3             17.145320   \n",
       "4       10006.148974                   41.4             53.548304   \n",
       "\n",
       "   military_world_bank  mineral_world_bank  oil_world_bank  ethnic_frac  \\\n",
       "0             0.984561            0.007421        0.001255       0.7693   \n",
       "1             1.178901            0.146426        1.365752       0.2204   \n",
       "2             5.271414            0.046717       12.313697       0.3394   \n",
       "3             1.777138            0.000000       15.753913       0.7867   \n",
       "4             0.854561            0.308310        0.735824       0.2550   \n",
       "\n",
       "   ling_frac  relig_frac  trade_gdp_world_bank  \n",
       "0     0.6141      0.2717             45.621177  \n",
       "1     0.0400      0.4719             76.728300  \n",
       "2     0.4427      0.0100             52.044775  \n",
       "3     0.7870      0.6276             66.378012  \n",
       "4     0.0620      0.2236             32.393666  \n",
       "\n",
       "[5 rows x 27 columns]"
      ]
     },
     "execution_count": 100,
     "metadata": {},
     "output_type": "execute_result"
    }
   ],
   "source": [
    "data.head()"
   ]
  },
  {
   "cell_type": "code",
   "execution_count": 101,
   "metadata": {
    "ExecuteTime": {
     "end_time": "2021-05-10T10:58:54.770769Z",
     "start_time": "2021-05-10T10:58:54.757839Z"
    }
   },
   "outputs": [],
   "source": [
    "data.rename(columns={'sub-region': 'sub_region'}, inplace = True)\n",
    "data = data[[\n",
    "    'country_name','country_text_id', # country name/id\n",
    "    'continent', 'sub_region', 'region_pol', 'region_geo', 'income_group', # classification groups\n",
    "    'pandem', 'pandem_dis', 'panback', # pandemic data\n",
    "    'rule', 'property', 'justice', # rule of law (vdem)\n",
    "    'polyarchy', 'education', # other variables (vdem)\n",
    "    'gini_index_world_bank', 'population_density_world_bank', 'gdp_pc_world_bank', 'inflation_world_bank', \n",
    "    'military_world_bank', 'oil_world_bank', 'mineral_world_bank', 'trade_gdp_world_bank', # World Bank variables\n",
    "    'ethnic_frac', 'ling_frac', 'relig_frac' # Fractionalization variables\n",
    " ]]"
   ]
  },
  {
   "cell_type": "code",
   "execution_count": 102,
   "metadata": {
    "ExecuteTime": {
     "end_time": "2021-05-10T10:59:41.637026Z",
     "start_time": "2021-05-10T10:59:41.606664Z"
    }
   },
   "outputs": [],
   "source": [
    "data.to_csv('../../data/main_research/processed_data/final_dataset.csv', index=False)\n",
    "data.to_csv('../../data/robustness_check/raw_data/dataset_main_research.csv', index=False)"
   ]
  },
  {
   "cell_type": "code",
   "execution_count": 103,
   "metadata": {
    "ExecuteTime": {
     "end_time": "2021-05-10T10:59:42.952486Z",
     "start_time": "2021-05-10T10:59:42.913591Z"
    }
   },
   "outputs": [
    {
     "data": {
      "text/html": [
       "<div>\n",
       "<style scoped>\n",
       "    .dataframe tbody tr th:only-of-type {\n",
       "        vertical-align: middle;\n",
       "    }\n",
       "\n",
       "    .dataframe tbody tr th {\n",
       "        vertical-align: top;\n",
       "    }\n",
       "\n",
       "    .dataframe thead th {\n",
       "        text-align: right;\n",
       "    }\n",
       "</style>\n",
       "<table border=\"1\" class=\"dataframe\">\n",
       "  <thead>\n",
       "    <tr style=\"text-align: right;\">\n",
       "      <th></th>\n",
       "      <th>country_name</th>\n",
       "      <th>country_text_id</th>\n",
       "      <th>continent</th>\n",
       "      <th>sub_region</th>\n",
       "      <th>region_pol</th>\n",
       "      <th>region_geo</th>\n",
       "      <th>income_group</th>\n",
       "      <th>pandem</th>\n",
       "      <th>pandem_dis</th>\n",
       "      <th>panback</th>\n",
       "      <th>...</th>\n",
       "      <th>population_density_world_bank</th>\n",
       "      <th>gdp_pc_world_bank</th>\n",
       "      <th>inflation_world_bank</th>\n",
       "      <th>military_world_bank</th>\n",
       "      <th>oil_world_bank</th>\n",
       "      <th>mineral_world_bank</th>\n",
       "      <th>trade_gdp_world_bank</th>\n",
       "      <th>ethnic_frac</th>\n",
       "      <th>ling_frac</th>\n",
       "      <th>relig_frac</th>\n",
       "    </tr>\n",
       "  </thead>\n",
       "  <tbody>\n",
       "    <tr>\n",
       "      <th>0</th>\n",
       "      <td>Afghanistan</td>\n",
       "      <td>AFG</td>\n",
       "      <td>Asia</td>\n",
       "      <td>Southern Asia</td>\n",
       "      <td>8</td>\n",
       "      <td>14</td>\n",
       "      <td>Low income</td>\n",
       "      <td>0.058824</td>\n",
       "      <td>0.05</td>\n",
       "      <td>0.000000</td>\n",
       "      <td>...</td>\n",
       "      <td>56.937760</td>\n",
       "      <td>502.115487</td>\n",
       "      <td>2.302373</td>\n",
       "      <td>0.984561</td>\n",
       "      <td>0.001255</td>\n",
       "      <td>0.007421</td>\n",
       "      <td>45.621177</td>\n",
       "      <td>0.7693</td>\n",
       "      <td>0.6141</td>\n",
       "      <td>0.2717</td>\n",
       "    </tr>\n",
       "    <tr>\n",
       "      <th>1</th>\n",
       "      <td>Albania</td>\n",
       "      <td>ALB</td>\n",
       "      <td>Europe</td>\n",
       "      <td>Southern Europe</td>\n",
       "      <td>1</td>\n",
       "      <td>3</td>\n",
       "      <td>Upper middle income</td>\n",
       "      <td>0.176471</td>\n",
       "      <td>0.15</td>\n",
       "      <td>0.173110</td>\n",
       "      <td>...</td>\n",
       "      <td>104.612263</td>\n",
       "      <td>5352.857411</td>\n",
       "      <td>1.411091</td>\n",
       "      <td>1.178901</td>\n",
       "      <td>1.365752</td>\n",
       "      <td>0.146426</td>\n",
       "      <td>76.728300</td>\n",
       "      <td>0.2204</td>\n",
       "      <td>0.0400</td>\n",
       "      <td>0.4719</td>\n",
       "    </tr>\n",
       "    <tr>\n",
       "      <th>2</th>\n",
       "      <td>Algeria</td>\n",
       "      <td>DZA</td>\n",
       "      <td>Africa</td>\n",
       "      <td>Northern Africa</td>\n",
       "      <td>3</td>\n",
       "      <td>5</td>\n",
       "      <td>Lower middle income</td>\n",
       "      <td>0.294118</td>\n",
       "      <td>0.35</td>\n",
       "      <td>0.123340</td>\n",
       "      <td>...</td>\n",
       "      <td>17.730075</td>\n",
       "      <td>3948.343279</td>\n",
       "      <td>1.951768</td>\n",
       "      <td>5.271414</td>\n",
       "      <td>12.313697</td>\n",
       "      <td>0.046717</td>\n",
       "      <td>52.044775</td>\n",
       "      <td>0.3394</td>\n",
       "      <td>0.4427</td>\n",
       "      <td>0.0100</td>\n",
       "    </tr>\n",
       "    <tr>\n",
       "      <th>3</th>\n",
       "      <td>Angola</td>\n",
       "      <td>AGO</td>\n",
       "      <td>Africa</td>\n",
       "      <td>Sub-Saharan Africa</td>\n",
       "      <td>4</td>\n",
       "      <td>7</td>\n",
       "      <td>Lower middle income</td>\n",
       "      <td>0.117647</td>\n",
       "      <td>0.10</td>\n",
       "      <td>0.041671</td>\n",
       "      <td>...</td>\n",
       "      <td>24.713052</td>\n",
       "      <td>2973.591160</td>\n",
       "      <td>17.145320</td>\n",
       "      <td>1.777138</td>\n",
       "      <td>15.753913</td>\n",
       "      <td>0.000000</td>\n",
       "      <td>66.378012</td>\n",
       "      <td>0.7867</td>\n",
       "      <td>0.7870</td>\n",
       "      <td>0.6276</td>\n",
       "    </tr>\n",
       "    <tr>\n",
       "      <th>4</th>\n",
       "      <td>Argentina</td>\n",
       "      <td>ARG</td>\n",
       "      <td>Americas</td>\n",
       "      <td>Latin America and the Caribbean</td>\n",
       "      <td>2</td>\n",
       "      <td>18</td>\n",
       "      <td>Upper middle income</td>\n",
       "      <td>0.058824</td>\n",
       "      <td>0.05</td>\n",
       "      <td>0.054786</td>\n",
       "      <td>...</td>\n",
       "      <td>16.258510</td>\n",
       "      <td>10006.148974</td>\n",
       "      <td>53.548304</td>\n",
       "      <td>0.854561</td>\n",
       "      <td>0.735824</td>\n",
       "      <td>0.308310</td>\n",
       "      <td>32.393666</td>\n",
       "      <td>0.2550</td>\n",
       "      <td>0.0620</td>\n",
       "      <td>0.2236</td>\n",
       "    </tr>\n",
       "  </tbody>\n",
       "</table>\n",
       "<p>5 rows × 26 columns</p>\n",
       "</div>"
      ],
      "text/plain": [
       "  country_name country_text_id continent                       sub_region  \\\n",
       "0  Afghanistan             AFG      Asia                    Southern Asia   \n",
       "1      Albania             ALB    Europe                  Southern Europe   \n",
       "2      Algeria             DZA    Africa                  Northern Africa   \n",
       "3       Angola             AGO    Africa               Sub-Saharan Africa   \n",
       "4    Argentina             ARG  Americas  Latin America and the Caribbean   \n",
       "\n",
       "   region_pol  region_geo         income_group    pandem  pandem_dis  \\\n",
       "0           8          14           Low income  0.058824        0.05   \n",
       "1           1           3  Upper middle income  0.176471        0.15   \n",
       "2           3           5  Lower middle income  0.294118        0.35   \n",
       "3           4           7  Lower middle income  0.117647        0.10   \n",
       "4           2          18  Upper middle income  0.058824        0.05   \n",
       "\n",
       "    panback  ...  population_density_world_bank  gdp_pc_world_bank  \\\n",
       "0  0.000000  ...                      56.937760         502.115487   \n",
       "1  0.173110  ...                     104.612263        5352.857411   \n",
       "2  0.123340  ...                      17.730075        3948.343279   \n",
       "3  0.041671  ...                      24.713052        2973.591160   \n",
       "4  0.054786  ...                      16.258510       10006.148974   \n",
       "\n",
       "   inflation_world_bank  military_world_bank  oil_world_bank  \\\n",
       "0              2.302373             0.984561        0.001255   \n",
       "1              1.411091             1.178901        1.365752   \n",
       "2              1.951768             5.271414       12.313697   \n",
       "3             17.145320             1.777138       15.753913   \n",
       "4             53.548304             0.854561        0.735824   \n",
       "\n",
       "   mineral_world_bank  trade_gdp_world_bank  ethnic_frac  ling_frac  \\\n",
       "0            0.007421             45.621177       0.7693     0.6141   \n",
       "1            0.146426             76.728300       0.2204     0.0400   \n",
       "2            0.046717             52.044775       0.3394     0.4427   \n",
       "3            0.000000             66.378012       0.7867     0.7870   \n",
       "4            0.308310             32.393666       0.2550     0.0620   \n",
       "\n",
       "   relig_frac  \n",
       "0      0.2717  \n",
       "1      0.4719  \n",
       "2      0.0100  \n",
       "3      0.6276  \n",
       "4      0.2236  \n",
       "\n",
       "[5 rows x 26 columns]"
      ]
     },
     "execution_count": 103,
     "metadata": {},
     "output_type": "execute_result"
    }
   ],
   "source": [
    "data.head()"
   ]
  },
  {
   "cell_type": "code",
   "execution_count": 104,
   "metadata": {
    "ExecuteTime": {
     "end_time": "2021-05-10T10:59:44.793841Z",
     "start_time": "2021-05-10T10:59:44.785898Z"
    }
   },
   "outputs": [
    {
     "data": {
      "text/plain": [
       "(146, 26)"
      ]
     },
     "execution_count": 104,
     "metadata": {},
     "output_type": "execute_result"
    }
   ],
   "source": [
    "data.shape"
   ]
  },
  {
   "cell_type": "markdown",
   "metadata": {},
   "source": [
    "### Variables description:\n",
    "##### Country name/id and location:\n",
    "* 'country_name'\n",
    "* 'country_text_id'\n",
    "* 'continent' - 5 categories ('Asia', 'Europe', 'Africa', 'Americas', 'Oceania')\n",
    "* 'sub-region' - 15 categories (more advanced division than in the case of continents - e.g. 'Northern Europe')\n",
    "\n",
    "##### V-dem covid data:\n",
    "* 'pandem' - is the sum of restrictions (6 types of violations - with 4 levels (0 for non, 1 for minor, 2 for some, 3 for major violations) divided by all violations recorded (maximum - 17). In our case pandem ranges from 0 to 9 (maximum: 9 out of 17 violations = 0.5294).\n",
    "* 'pandem_dis' - 'pandem_dis' is builded on the 'pandem' index. 'pandem_dis' variable is the sum of restrictions (6 types of violations - with 4 levels (0 for non, 1 for minor, 2 for some, 3 for major violations) + government disinformation indicator ('govmis') with 3 levels (0 for never, 1 for occasionally, 2 for often, 3 for always or almost always) divided by the total additive score (maximum - 20 (17 for pandem and 3 for govmis)). In our case 'pandem_dis' ranges from 0 to 10 (maximum: 10 out of 20 = 0.5).\n",
    "* 'panback' - is builded on the 'pandem_alt' index (which is the alternative version of 'pandem' index) and 'v2x_libdem' index (Liberal democracy index) from 2019 year for each country. In our case 'panback' has 112 unique values, so we treat 'panback' as a fully continuous variable. \"The Panback index captures such inverted U-shaped vulnerability to backsliding by weighing more heavily violations recorded in countries in the mid-range of V-Dem's liberal democracy index\".\n",
    "\n",
    "\n",
    "##### World Bank classification (income group)\n",
    "* 'income_group' - according to World Bank classification, allocation countries to one of the four groups: 'Low income', 'Upper middle income', 'Lower middle income' and 'High income'.\n",
    "\n",
    "##### V-dem dataset:\n",
    "* 'rule' ('v2x_rule' in V-dem) - \"To what extent are laws transparently, independently, predictably, impartially, and equally enforced, and to what extent do the actions of government officials comply with the law?\". Interval, from low to high (0-1).\n",
    "* 'justice' ('v2xcl_acjst' in V-dem) - \"Do citizens enjoy secure and effective access to justice?\". Interval, from low to high (0-1).\n",
    "* 'property' ('v2xcl_prpty' in V-dem) - \"Do citizens enjoy the right to private property?\". Interval, from low to high (0-1).\n",
    "* 'polyarchy' ('v2x_polyarchy' in V-dem) - Electoral democracy index. \"To what extent is the ideal of electoral democracy in its fullest sense achieved?\". Interval, from low to high (0-1).\n",
    "* 'education' ('e_peaveduc' in V-dem) - \"What is the average years of education among citizens older than 15?\".\n",
    "* 'region_pol' ('e_regionpol' in V-dem) - \"In which politico-geographic region is this country located?\". (8 levels: 1. Eastern Europe and post Soviet Union (including Central Asia, Mongolia); 2. Latin America; 3. North Africa and the Middle East; 4. Sub–Saharan Africa; 5. Western Europe and North America (including Australia, New Zealand); 6. East Asia (including Japan, excluding Mongolia); 7. South–East Asia; 8. South Asia.)\n",
    "* 'region_geo' ('e_regiongeo' in V-dem) - \"In which geographic region is this country located?\". (19 levels).\n",
    "\n",
    "\n",
    "##### World Bank database:\n",
    "* 'Gini' - \"Gini index measures the extent to which the distribution of income (or, in some cases, consumption expenditure) among individuals or households within an economy deviates from a perfectly equal distribution.\"\n",
    "* 'Density' - \"Population density is midyear population divided by land area in square kilometers.\"\n",
    "* 'GDPpc' - \"GDP per capita is gross domestic product divided by midyear population. Data are in current U.S. dollars.\"\n",
    "* 'Inflation' - \"Inflation as measured by the consumer price index reflects the annual percentage change in the cost to the average consumer of acquiring a basket of goods and services that may be fixed or changed at specified intervals, such as yearly. The Laspeyres formula is generally used.\"\n",
    "* 'Military' - military expenditures data (% of GDP).\n",
    "* 'Oil' - \"Oil rents are the difference between the value of crude oil production at world prices and total costs of production.\" (% of GDP).\n",
    "* 'Mineral' - \"Mineral rents are the difference between the value of production for a stock of minerals at world prices and their total costs of production. Minerals included in the calculation are tin, gold, lead, zinc, iron, copper, nickel, silver, bauxite, and phosphate.\" (% of GDP).\n",
    "* 'Trade_GDP' - sum of exports and imports of goods and services (% of GDP).\n",
    "\n",
    "\n",
    "##### Fractionalization data (based on Alesina et al's analysis, 2003):\n",
    "Fractionalization measures are computing the probability that two randomly drawn individuals are not from the same group :\n",
    "* 'ethnic_frac' - ethnic fractionalization\n",
    "* 'ling_frac' - linguistic fractionalization\n",
    "* 'relig_frac' - religious fractionalization"
   ]
  },
  {
   "cell_type": "code",
   "execution_count": null,
   "metadata": {},
   "outputs": [],
   "source": []
  }
 ],
 "metadata": {
  "kernelspec": {
   "display_name": "Python 3",
   "language": "python",
   "name": "python3"
  },
  "language_info": {
   "codemirror_mode": {
    "name": "ipython",
    "version": 3
   },
   "file_extension": ".py",
   "mimetype": "text/x-python",
   "name": "python",
   "nbconvert_exporter": "python",
   "pygments_lexer": "ipython3",
   "version": "3.6.4"
  }
 },
 "nbformat": 4,
 "nbformat_minor": 2
}
